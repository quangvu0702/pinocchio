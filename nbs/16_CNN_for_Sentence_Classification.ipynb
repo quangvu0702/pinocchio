{
 "cells": [
  {
   "cell_type": "markdown",
   "metadata": {},
   "source": [
    "### Functions"
   ]
  },
  {
   "cell_type": "code",
   "execution_count": 1,
   "metadata": {},
   "outputs": [
    {
     "name": "stderr",
     "output_type": "stream",
     "text": [
      "[nltk_data] Downloading package stopwords to /home/vule/nltk_data...\n",
      "[nltk_data]   Package stopwords is already up-to-date!\n"
     ]
    }
   ],
   "source": [
    "import numpy as np\n",
    "import pandas as pd\n",
    "import re\n",
    "from nltk.tokenize import sent_tokenize\n",
    "from nltk.tokenize import word_tokenize\n",
    "from nltk.corpus import stopwords\n",
    "pd.set_option('display.max_colwidth', -1)\n",
    "import nltk\n",
    "nltk.download('stopwords')\n",
    "\n",
    "negative = 0\n",
    "somewhat_negative = 1\n",
    "neutral = 2\n",
    "somewhat_positive = 3\n",
    "positive = 4\n",
    "\n",
    "train_fn = '/home/vule/projects/pinocchio/data/movie-review-sentiment-analysis-kernels-only/train.tsv'\n",
    "test_fn = '/home/vule/projects/pinocchio/data/movie-review-sentiment-analysis-kernels-only/test.tsv'\n",
    "glove_fn = '/home/vule/projects/pinocchio/data/glove-global-vectors-for-word-representation/glove.6B.100d.txt'\n",
    "\n",
    "def load_data(fn):\n",
    "    ''' Load data '''\n",
    "    return pd.read_csv(fn, delimiter='\\t')\n",
    "\n",
    "\n",
    "def clean_str(in_str):\n",
    "    ''' Turn url's into url, remove anything that's not alphanumeric or a space. Then lowercase what's left. '''\n",
    "    in_str = str(in_str)\n",
    "    # replace urls with 'url'\n",
    "    in_str = re.sub(\n",
    "        r\"(https?:\\/\\/(?:www\\.|(?!www))[a-zA-Z0-9][a-zA-Z0-9-]+[a-zA-Z0-9]\\.[^\\s]{2,}|www\\.[a-zA-Z0-9][a-zA-Z0-9-]+[a-zA-Z0-9]\\.[^\\s]{2,}|https?:\\/\\/(?:www\\.|(?!www))[a-zA-Z0-9]\\.[^\\s]{2,}|www\\.[a-zA-Z0-9]\\.[^\\s]{2,})\", \"url\", in_str)\n",
    "    in_str = re.sub(r'([^\\s\\w]|_)+', '', in_str)\n",
    "    return in_str.strip().lower()\n",
    "\n",
    "\n",
    "def load_train_data(fn):\n",
    "    df = load_data(fn)\n",
    "    pd.set_option('display.max_colwidth', -1)\n",
    "    df = df[['Phrase', 'Sentiment']]\n",
    "    # Create balanced set for training\n",
    "    sample_size = min(df.Sentiment.value_counts())\n",
    "    train_data = pd.concat([df[df['Sentiment'] == label].sample(sample_size) for label in [\n",
    "                           negative, somewhat_negative, neutral, somewhat_positive, positive]]).sample(frac=1)\n",
    "    en_stopwords = stopwords.words('english') + ['']\n",
    "    train_data.Phrase = train_data.Phrase.apply(lambda xs: [x for x in clean_str(xs).split(' ') if x not in en_stopwords])\n",
    "    train_data = train_data.reset_index(drop=True)\n",
    "    return train_data\n",
    "\n",
    "\n",
    "def stats(df):\n",
    "    ''' Stast on length.'''\n",
    "    df['l'] = df['Phrase'].apply(lambda x: len(str(x).split(' ')))\n",
    "    print(\"mean length of sentence: \" + str(df.l.mean()))\n",
    "    print(\"max length of sentence: \" + str(df.l.max()))\n",
    "    print(\"std dev length of sentence: \" + str(df.l.std()))\n"
   ]
  },
  {
   "cell_type": "markdown",
   "metadata": {},
   "source": [
    "### Load data"
   ]
  },
  {
   "cell_type": "code",
   "execution_count": 2,
   "metadata": {},
   "outputs": [
    {
     "name": "stdout",
     "output_type": "stream",
     "text": [
      "mean length of sentence: 4.878252262443439\n",
      "max length of sentence: 28\n",
      "std dev length of sentence: 3.9553379101225126\n"
     ]
    },
    {
     "data": {
      "text/html": [
       "<div>\n",
       "<style scoped>\n",
       "    .dataframe tbody tr th:only-of-type {\n",
       "        vertical-align: middle;\n",
       "    }\n",
       "\n",
       "    .dataframe tbody tr th {\n",
       "        vertical-align: top;\n",
       "    }\n",
       "\n",
       "    .dataframe thead th {\n",
       "        text-align: right;\n",
       "    }\n",
       "</style>\n",
       "<table border=\"1\" class=\"dataframe\">\n",
       "  <thead>\n",
       "    <tr style=\"text-align: right;\">\n",
       "      <th></th>\n",
       "      <th>Phrase</th>\n",
       "      <th>Sentiment</th>\n",
       "      <th>l</th>\n",
       "    </tr>\n",
       "  </thead>\n",
       "  <tbody>\n",
       "    <tr>\n",
       "      <th>16402</th>\n",
       "      <td>[superficial, midlife, crisis]</td>\n",
       "      <td>2</td>\n",
       "      <td>3</td>\n",
       "    </tr>\n",
       "    <tr>\n",
       "      <th>19806</th>\n",
       "      <td>[apology]</td>\n",
       "      <td>2</td>\n",
       "      <td>1</td>\n",
       "    </tr>\n",
       "    <tr>\n",
       "      <th>19728</th>\n",
       "      <td>[deform, families]</td>\n",
       "      <td>1</td>\n",
       "      <td>2</td>\n",
       "    </tr>\n",
       "  </tbody>\n",
       "</table>\n",
       "</div>"
      ],
      "text/plain": [
       "                               Phrase  Sentiment  l\n",
       "16402  [superficial, midlife, crisis]  2          3\n",
       "19806  [apology]                       2          1\n",
       "19728  [deform, families]              1          2"
      ]
     },
     "execution_count": 2,
     "metadata": {},
     "output_type": "execute_result"
    }
   ],
   "source": [
    "# Load data\n",
    "train_data = load_train_data(train_fn)\n",
    "stats(train_data)\n",
    "train_data.sample(3)"
   ]
  },
  {
   "cell_type": "markdown",
   "metadata": {},
   "source": [
    "### Preprocess data"
   ]
  },
  {
   "cell_type": "code",
   "execution_count": 3,
   "metadata": {},
   "outputs": [],
   "source": [
    "from collections import Counter, defaultdict\n",
    "def sent_2_isent(sent, word2index):\n",
    "    return np.array([word2index[x] if x in word2index else word2index[oov_token] for x in sent])\n",
    "\n",
    "def padding(xs):\n",
    "    padding_values = np.ones((max_length - len(xs)), dtype=int) * word2index[padding_token]\n",
    "    return np.concatenate((xs, padding_values), axis=None)\n",
    "\n",
    "def isent_2_sent(isent, index2word):\n",
    "    sent = [index2word[i] for i in isent]\n",
    "    return sent\n",
    "\n",
    "def train_test_split(df):\n",
    "    n = int(len(train_data) * 0.9)\n",
    "    train_df, validation_df = df[:n], df[n:]\n",
    "    X_train, y_train = train_df.iPhase.to_list(), train_df.Sentiment.to_list()\n",
    "    X_validation, y_validation = validation_df.iPhase.to_list(), validation_df.Sentiment.to_list()\n",
    "    return [np.stack(x) for x in [X_train, y_train, X_validation, y_validation]]\n",
    "\n",
    "max_length = 30\n",
    "max_features = 20000\n",
    "oov_token='<unw>'\n",
    "padding_token = '<padding>'\n",
    "vocabs = [w[0] for w in Counter(sum(train_data.Phrase.to_list(), [])).most_common(max_features)]\n",
    "vocabs = vocabs + [oov_token, padding_token]\n",
    "word2index = {w: i for i, w in enumerate(vocabs)}\n",
    "index2word = {i: w for i, w in enumerate(vocabs)}\n",
    "train_data['iPhase'] = train_data.Phrase.apply(lambda xs: padding(sent_2_isent(xs, word2index)))"
   ]
  },
  {
   "cell_type": "markdown",
   "metadata": {},
   "source": [
    "### DataLoader"
   ]
  },
  {
   "cell_type": "code",
   "execution_count": 4,
   "metadata": {},
   "outputs": [
    {
     "name": "stdout",
     "output_type": "stream",
     "text": [
      "cuda\n"
     ]
    }
   ],
   "source": [
    "from fastai.data.core import DataLoaders\n",
    "from torch import tensor\n",
    "import torch\n",
    "from fastcore.foundation import L\n",
    "device = 'cuda' if torch.cuda.is_available() else 'cpu'\n",
    "print(device)\n",
    "\n",
    "seqs = L([(tensor(x, dtype=int), y) for x, y in zip(train_data.iPhase, train_data.Sentiment)])\n",
    "bs = 32\n",
    "cut = int(len(seqs) * 0.9)\n",
    "dls = DataLoaders.from_dsets(seqs[:cut], seqs[cut:], bs=bs, shuffle=False)"
   ]
  },
  {
   "cell_type": "code",
   "execution_count": 5,
   "metadata": {},
   "outputs": [
    {
     "data": {
      "text/plain": [
       "(torch.Size([32, 30]),\n",
       " torch.Size([32]),\n",
       " device(type='cpu'),\n",
       " device(type='cpu'))"
      ]
     },
     "execution_count": 5,
     "metadata": {},
     "output_type": "execute_result"
    }
   ],
   "source": [
    "b = dls.one_batch()\n",
    "x, y = b[0], b[1]\n",
    "x.shape, y.shape, x.device, y.device"
   ]
  },
  {
   "cell_type": "markdown",
   "metadata": {},
   "source": [
    "### Model 1: Random embeddings"
   ]
  },
  {
   "cell_type": "code",
   "execution_count": 46,
   "metadata": {},
   "outputs": [],
   "source": [
    "import torch\n",
    "from torch import nn\n",
    "from torch.nn import Module\n",
    "import torch\n",
    "\n",
    "class Model1(Module):\n",
    "    def __init__(self, vocab_sz, embedding_dim, n_filter, max_length, n_grams, n_label):\n",
    "        super(Model1, self).__init__()\n",
    "        self.embedding_dim = embedding_dim\n",
    "        self.n_filter = n_filter\n",
    "        self.max_length = max_length\n",
    "        self.n_grams = n_grams\n",
    "        self.vocab_sz = vocab_sz\n",
    "        self.embedding_layer = torch.nn.Embedding(vocab_sz, embedding_dim)\n",
    "        self.convs = [nn.Conv2d(1, n_filter, (n_gram, embedding_dim)) for n_gram in n_grams]\n",
    "        self.linear = torch.nn.Linear(n_filter * len(n_grams), n_label)\n",
    "        self.dropout = nn.Dropout(0.5)\n",
    "    def forward(self, x):\n",
    "        x = self.embedding_layer(x);\n",
    "        outs = []\n",
    "        for n_gram, conv in zip(self.n_grams, self.convs):\n",
    "            out = torch.unsqueeze(x, dim=1)\n",
    "            out = conv(out)\n",
    "            out = torch.squeeze(out, dim=-1)\n",
    "            out = nn.MaxPool1d(self.max_length + 1 - n_gram)(out)\n",
    "            out = torch.squeeze(out, dim=-1)\n",
    "            outs.append(out)\n",
    "        out = torch.cat(outs, dim=1)\n",
    "        out = self.dropout(out)\n",
    "        out = self.linear(out)\n",
    "        return out\n",
    "\n",
    "embedding_dim = 100\n",
    "n_filter = 100\n",
    "max_length = 30\n",
    "n_grams = [3, 4, 5]\n",
    "n_label=5\n",
    "vocab_sz = len(vocabs)\n",
    "\n",
    "model1 = Model1(vocab_sz, embedding_dim, n_filter, max_length, n_grams, n_label)\n",
    "# acc 0.55"
   ]
  },
  {
   "cell_type": "markdown",
   "metadata": {},
   "source": [
    "### Model 2: Static word2vec"
   ]
  },
  {
   "cell_type": "code",
   "execution_count": 10,
   "metadata": {},
   "outputs": [
    {
     "name": "stdout",
     "output_type": "stream",
     "text": [
      "Found 13408 word vectors.\n"
     ]
    }
   ],
   "source": [
    "embeddings_index = {}\n",
    "f = open(glove_fn)\n",
    "for line in f:\n",
    "    values = line.split()\n",
    "    word = values[0]\n",
    "    if word in vocabs:\n",
    "        coefs = np.asarray(values[1:], dtype='float32')\n",
    "        embeddings_index[word] = coefs\n",
    "f.close()\n",
    "\n",
    "print(f'Found {len(embeddings_index)} word vectors.')"
   ]
  },
  {
   "cell_type": "code",
   "execution_count": 60,
   "metadata": {},
   "outputs": [
    {
     "data": {
      "text/plain": [
       "False"
      ]
     },
     "execution_count": 60,
     "metadata": {},
     "output_type": "execute_result"
    }
   ],
   "source": [
    "em = torch.nn.Embedding(vocab_sz, embedding_dim)\n",
    "em.weight.requires_grad = False\n",
    "em.weight.requires_grad"
   ]
  },
  {
   "cell_type": "code",
   "execution_count": 61,
   "metadata": {},
   "outputs": [],
   "source": [
    "import torch\n",
    "from torch import nn\n",
    "from torch.nn import Module\n",
    "import torch\n",
    "\n",
    "def load_embedding_value(embedding_layer, embeddings_index):\n",
    "    data = embedding_layer.weight.data\n",
    "    for i, word in enumerate(vocabs):\n",
    "        if word in embeddings_index:\n",
    "            data[i] = tensor(embeddings_index[word])\n",
    "\n",
    "class Model2(Module):\n",
    "    def __init__(self, vocab_sz, embedding_dim, n_filter, max_length, n_grams, n_label, embeddings_index, is_static = True):\n",
    "        super(Model2, self).__init__()\n",
    "        self.embedding_dim = embedding_dim\n",
    "        self.n_filter = n_filter\n",
    "        self.max_length = max_length\n",
    "        self.n_grams = n_grams\n",
    "        self.vocab_sz = vocab_sz\n",
    "        self.embedding_layer = torch.nn.Embedding(vocab_sz, embedding_dim)\n",
    "        load_embedding_value(self.embedding_layer, embeddings_index)\n",
    "        if is_static:\n",
    "            self.embedding_layer.weight.requires_grad = False\n",
    "        self.convs = [nn.Conv2d(1, n_filter, (n_gram, embedding_dim)) for n_gram in n_grams]\n",
    "        self.linear = torch.nn.Linear(n_filter * len(n_grams), n_label)\n",
    "        self.dropout = nn.Dropout(0.5)\n",
    "    def forward(self, x):\n",
    "        x = self.embedding_layer(x);\n",
    "        outs = []\n",
    "        for n_gram, conv in zip(self.n_grams, self.convs):\n",
    "            out = torch.unsqueeze(x, dim=1)\n",
    "            out = conv(out)\n",
    "            out = torch.squeeze(out, dim=-1)\n",
    "            out = nn.MaxPool1d(self.max_length + 1 - n_gram)(out)\n",
    "            out = torch.squeeze(out, dim=-1)\n",
    "            outs.append(out)\n",
    "        out = torch.cat(outs, dim=1)\n",
    "        out = self.dropout(out)\n",
    "        out = self.linear(out)\n",
    "        return out\n",
    "\n",
    "embedding_dim = 100\n",
    "n_filter = 100\n",
    "max_length = 30\n",
    "n_grams = [3, 4, 5]\n",
    "n_label=5\n",
    "vocab_sz = len(vocabs)\n",
    "\n",
    "model2 = Model2(vocab_sz, embedding_dim, n_filter, max_length, n_grams, n_label, embeddings_index)\n",
    "model3 = Model2(vocab_sz, embedding_dim, n_filter, max_length, n_grams, n_label, embeddings_index, False)\n",
    "# 0.56"
   ]
  },
  {
   "cell_type": "markdown",
   "metadata": {},
   "source": [
    "### Train"
   ]
  },
  {
   "cell_type": "code",
   "execution_count": 43,
   "metadata": {},
   "outputs": [],
   "source": [
    "from fastai.learner import Learner\n",
    "from fastai.callback.all import *\n",
    "from torch.functional import F\n",
    "from fastai.metrics import accuracy"
   ]
  },
  {
   "cell_type": "code",
   "execution_count": 47,
   "metadata": {},
   "outputs": [
    {
     "data": {
      "text/html": [
       "<table border=\"1\" class=\"dataframe\">\n",
       "  <thead>\n",
       "    <tr style=\"text-align: left;\">\n",
       "      <th>epoch</th>\n",
       "      <th>train_loss</th>\n",
       "      <th>valid_loss</th>\n",
       "      <th>accuracy</th>\n",
       "      <th>time</th>\n",
       "    </tr>\n",
       "  </thead>\n",
       "  <tbody>\n",
       "    <tr>\n",
       "      <td>0</td>\n",
       "      <td>1.510838</td>\n",
       "      <td>1.452271</td>\n",
       "      <td>0.377262</td>\n",
       "      <td>00:18</td>\n",
       "    </tr>\n",
       "    <tr>\n",
       "      <td>1</td>\n",
       "      <td>1.206798</td>\n",
       "      <td>1.179396</td>\n",
       "      <td>0.498303</td>\n",
       "      <td>00:18</td>\n",
       "    </tr>\n",
       "    <tr>\n",
       "      <td>2</td>\n",
       "      <td>1.038620</td>\n",
       "      <td>1.106215</td>\n",
       "      <td>0.528281</td>\n",
       "      <td>00:18</td>\n",
       "    </tr>\n",
       "    <tr>\n",
       "      <td>3</td>\n",
       "      <td>0.933979</td>\n",
       "      <td>1.078371</td>\n",
       "      <td>0.540158</td>\n",
       "      <td>00:18</td>\n",
       "    </tr>\n",
       "    <tr>\n",
       "      <td>4</td>\n",
       "      <td>0.898879</td>\n",
       "      <td>1.070843</td>\n",
       "      <td>0.542421</td>\n",
       "      <td>00:18</td>\n",
       "    </tr>\n",
       "  </tbody>\n",
       "</table>"
      ],
      "text/plain": [
       "<IPython.core.display.HTML object>"
      ]
     },
     "metadata": {},
     "output_type": "display_data"
    }
   ],
   "source": [
    "learn = Learner(dls, model1, loss_func=F.cross_entropy, metrics=accuracy)\n",
    "# learn.lr_find()\n",
    "learn.fit_one_cycle(5, 1e-2)"
   ]
  },
  {
   "cell_type": "code",
   "execution_count": 62,
   "metadata": {},
   "outputs": [
    {
     "data": {
      "text/html": [
       "<table border=\"1\" class=\"dataframe\">\n",
       "  <thead>\n",
       "    <tr style=\"text-align: left;\">\n",
       "      <th>epoch</th>\n",
       "      <th>train_loss</th>\n",
       "      <th>valid_loss</th>\n",
       "      <th>accuracy</th>\n",
       "      <th>time</th>\n",
       "    </tr>\n",
       "  </thead>\n",
       "  <tbody>\n",
       "    <tr>\n",
       "      <td>0</td>\n",
       "      <td>1.550643</td>\n",
       "      <td>1.541938</td>\n",
       "      <td>0.315045</td>\n",
       "      <td>00:08</td>\n",
       "    </tr>\n",
       "    <tr>\n",
       "      <td>1</td>\n",
       "      <td>1.559598</td>\n",
       "      <td>1.542817</td>\n",
       "      <td>0.309672</td>\n",
       "      <td>00:08</td>\n",
       "    </tr>\n",
       "    <tr>\n",
       "      <td>2</td>\n",
       "      <td>1.558234</td>\n",
       "      <td>1.539035</td>\n",
       "      <td>0.313348</td>\n",
       "      <td>00:07</td>\n",
       "    </tr>\n",
       "    <tr>\n",
       "      <td>3</td>\n",
       "      <td>1.554708</td>\n",
       "      <td>1.536203</td>\n",
       "      <td>0.312783</td>\n",
       "      <td>00:07</td>\n",
       "    </tr>\n",
       "    <tr>\n",
       "      <td>4</td>\n",
       "      <td>1.545742</td>\n",
       "      <td>1.531136</td>\n",
       "      <td>0.309672</td>\n",
       "      <td>00:07</td>\n",
       "    </tr>\n",
       "    <tr>\n",
       "      <td>5</td>\n",
       "      <td>1.539345</td>\n",
       "      <td>1.528565</td>\n",
       "      <td>0.309955</td>\n",
       "      <td>00:07</td>\n",
       "    </tr>\n",
       "    <tr>\n",
       "      <td>6</td>\n",
       "      <td>1.538152</td>\n",
       "      <td>1.523771</td>\n",
       "      <td>0.320984</td>\n",
       "      <td>00:08</td>\n",
       "    </tr>\n",
       "  </tbody>\n",
       "</table>"
      ],
      "text/plain": [
       "<IPython.core.display.HTML object>"
      ]
     },
     "metadata": {},
     "output_type": "display_data"
    }
   ],
   "source": [
    "learn = Learner(dls, model2, loss_func=F.cross_entropy, metrics=accuracy)\n",
    "# learn.lr_find()\n",
    "learn.fit_one_cycle(7, 1e-2)"
   ]
  },
  {
   "cell_type": "code",
   "execution_count": 63,
   "metadata": {},
   "outputs": [
    {
     "data": {
      "text/html": [
       "<table border=\"1\" class=\"dataframe\">\n",
       "  <thead>\n",
       "    <tr style=\"text-align: left;\">\n",
       "      <th>epoch</th>\n",
       "      <th>train_loss</th>\n",
       "      <th>valid_loss</th>\n",
       "      <th>accuracy</th>\n",
       "      <th>time</th>\n",
       "    </tr>\n",
       "  </thead>\n",
       "  <tbody>\n",
       "    <tr>\n",
       "      <td>0</td>\n",
       "      <td>1.427449</td>\n",
       "      <td>1.365077</td>\n",
       "      <td>0.440328</td>\n",
       "      <td>00:21</td>\n",
       "    </tr>\n",
       "    <tr>\n",
       "      <td>1</td>\n",
       "      <td>1.144023</td>\n",
       "      <td>1.111611</td>\n",
       "      <td>0.532523</td>\n",
       "      <td>00:23</td>\n",
       "    </tr>\n",
       "    <tr>\n",
       "      <td>2</td>\n",
       "      <td>0.964900</td>\n",
       "      <td>1.068674</td>\n",
       "      <td>0.540158</td>\n",
       "      <td>00:22</td>\n",
       "    </tr>\n",
       "    <tr>\n",
       "      <td>3</td>\n",
       "      <td>0.845506</td>\n",
       "      <td>1.065659</td>\n",
       "      <td>0.549774</td>\n",
       "      <td>00:22</td>\n",
       "    </tr>\n",
       "    <tr>\n",
       "      <td>4</td>\n",
       "      <td>0.755679</td>\n",
       "      <td>1.073505</td>\n",
       "      <td>0.552602</td>\n",
       "      <td>00:22</td>\n",
       "    </tr>\n",
       "    <tr>\n",
       "      <td>5</td>\n",
       "      <td>0.664506</td>\n",
       "      <td>1.080762</td>\n",
       "      <td>0.556278</td>\n",
       "      <td>00:21</td>\n",
       "    </tr>\n",
       "    <tr>\n",
       "      <td>6</td>\n",
       "      <td>0.668115</td>\n",
       "      <td>1.078468</td>\n",
       "      <td>0.559389</td>\n",
       "      <td>00:21</td>\n",
       "    </tr>\n",
       "  </tbody>\n",
       "</table>"
      ],
      "text/plain": [
       "<IPython.core.display.HTML object>"
      ]
     },
     "metadata": {},
     "output_type": "display_data"
    }
   ],
   "source": [
    "learn = Learner(dls, model3, loss_func=F.cross_entropy, metrics=accuracy)\n",
    "# learn.lr_find()\n",
    "learn.fit_one_cycle(7, 1e-2)"
   ]
  }
 ],
 "metadata": {
  "interpreter": {
   "hash": "43cb068a2281bb621095f82b75fb5cb7fbb509ae160e3cd360b1d969a66c3277"
  },
  "kernelspec": {
   "display_name": "Python 3.6.10 64-bit ('samwell': conda)",
   "name": "python3"
  },
  "language_info": {
   "codemirror_mode": {
    "name": "ipython",
    "version": 3
   },
   "file_extension": ".py",
   "mimetype": "text/x-python",
   "name": "python",
   "nbconvert_exporter": "python",
   "pygments_lexer": "ipython3",
   "version": "3.6.10"
  }
 },
 "nbformat": 4,
 "nbformat_minor": 4
}
