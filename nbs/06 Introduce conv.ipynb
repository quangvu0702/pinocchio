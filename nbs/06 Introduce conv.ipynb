{
 "cells": [
  {
   "cell_type": "code",
   "execution_count": 1,
   "metadata": {},
   "outputs": [
    {
     "data": {
      "text/plain": [
       "(torch.Size([60000, 28, 28]), torch.Size([10000, 28, 28]))"
      ]
     },
     "execution_count": 1,
     "metadata": {},
     "output_type": "execute_result"
    }
   ],
   "source": [
    "# 1.a Dataset\n",
    "from torchvision import datasets\n",
    "from torchvision.transforms import ToTensor\n",
    "\n",
    "training_data = datasets.FashionMNIST(\n",
    "    root=\"data\",\n",
    "    train=True,\n",
    "    download=True,\n",
    "    transform=ToTensor())\n",
    "\n",
    "testing_data = datasets.FashionMNIST(\n",
    "    root=\"data\",\n",
    "    train=False,\n",
    "    download=True,\n",
    "    transform=ToTensor())\n",
    "\n",
    "training_data.data.shape, testing_data.data.shape"
   ]
  },
  {
   "cell_type": "code",
   "execution_count": 2,
   "metadata": {},
   "outputs": [
    {
     "data": {
      "text/plain": [
       "(torch.Size([64, 1, 28, 28]), torch.Size([64]))"
      ]
     },
     "execution_count": 2,
     "metadata": {},
     "output_type": "execute_result"
    }
   ],
   "source": [
    "# 1.b DataLoader\n",
    "from torch.utils.data import DataLoader\n",
    "\n",
    "training_dataloader = DataLoader(training_data, 64, shuffle=True)\n",
    "testing_dataloader = DataLoader(testing_data, 64, shuffle=False)\n",
    "\n",
    "X, y = next(iter(training_dataloader))\n",
    "X.shape, y.shape"
   ]
  },
  {
   "cell_type": "code",
   "execution_count": 3,
   "metadata": {},
   "outputs": [
    {
     "name": "stdout",
     "output_type": "stream",
     "text": [
      "torch.Size([64, 1, 28, 28])\n",
      "torch.Size([64, 1, 28, 28]) torch.Size([64, 10])\n"
     ]
    }
   ],
   "source": [
    "# play with conv layer\n",
    "from torch import nn\n",
    "broken_cnn = nn.Sequential(\n",
    "                nn.Conv2d(1, 30, kernel_size=3, padding=1),\n",
    "                nn.ReLU(),\n",
    "                nn.Conv2d(30, 1, kernel_size=3, padding=1)\n",
    "            )\n",
    "print(broken_cnn(X).shape)\n",
    "# build a conv layer with basic parameter\n",
    "# n input channel, n output feature, ks:kenel size, act:activate\n",
    "def conv(ni, nf, ks=3, act=True):\n",
    "    layers = [nn.Conv2d(ni, nf, stride=2, kernel_size=ks, padding=ks//2)]\n",
    "    layers.append(nn.BatchNorm2d(nf))\n",
    "    if act: layers.append(nn.ReLU())\n",
    "    res = nn.Sequential(*layers)\n",
    "    return res\n",
    "\n",
    "def linear(ni, nf, act=True):\n",
    "    res = nn.Linear(ni, nf)\n",
    "    if act: res = nn.Sequential(res, nn.ReLU())\n",
    "    return res\n",
    "\n",
    "# refactor code to using basic parameter simplify the function. easy to debug and more obvious to readers.\n",
    "# note: capacity of layer is the number of activation, we using stride=2 then we need to x4 features to\n",
    "# keep the capacity the same.\n",
    "\n",
    "# we can add comment to each conv to make sure we have \n",
    "simple_cnn = nn.Sequential(\n",
    "                           conv(1,4),               #14x14\n",
    "                           conv(4,8),               #7x7\n",
    "                           conv(8,16),              #4x4\n",
    "                           conv(16, 32),            #2x2\n",
    "                           nn.Flatten(),            #128\n",
    "                           linear(128, 10),\n",
    ")\n",
    "\n",
    "print(X.shape, simple_cnn(X).shape)"
   ]
  },
  {
   "cell_type": "code",
   "execution_count": 4,
   "metadata": {},
   "outputs": [],
   "source": [
    "# 2. Model\n",
    "from torch import nn\n",
    "\n",
    "# This is simple model that take input -> linear -> relu -> linear -> output.\n",
    "class ConvModel(nn.Module):\n",
    "    def __init__(self):\n",
    "        super(ConvModel, self).__init__()\n",
    "        self.model = nn.Sequential(\n",
    "                           conv(1,4),               #14x14\n",
    "                           conv(4,8),               #7x7\n",
    "                           conv(8,16),              #4x4\n",
    "                           conv(16, 32),            #2x2\n",
    "                           nn.Flatten(),            #128\n",
    "                           linear(128, 10),\n",
    "                    )\n",
    "    def forward(self, x):\n",
    "        out = self.model(x)\n",
    "        return out\n",
    "    \n",
    "model = ConvModel()\n",
    "\n",
    "y_hat = model(X)"
   ]
  },
  {
   "cell_type": "code",
   "execution_count": 5,
   "metadata": {},
   "outputs": [],
   "source": [
    "# 3. Loss\n",
    "loss_fn = nn.CrossEntropyLoss()\n",
    "\n",
    "loss = loss_fn(y_hat, y)\n",
    "\n",
    "loss.backward()"
   ]
  },
  {
   "cell_type": "code",
   "execution_count": 6,
   "metadata": {},
   "outputs": [],
   "source": [
    "# 4. Optimizer SGD\n",
    "from torch.optim import SGD"
   ]
  },
  {
   "cell_type": "code",
   "execution_count": 7,
   "metadata": {},
   "outputs": [
    {
     "name": "stdout",
     "output_type": "stream",
     "text": [
      "loss: 2.356814  [    0/60000]\n",
      "loss: 0.693739  [19200/60000]\n",
      "loss: 0.411766  [38400/60000]\n",
      "loss: 0.624989  [57600/60000]\n",
      "loss: 0.349086  [    0/60000]\n",
      "loss: 0.239517  [19200/60000]\n",
      "loss: 0.395932  [38400/60000]\n",
      "loss: 0.253282  [57600/60000]\n",
      "loss: 0.469419  [    0/60000]\n",
      "loss: 0.417089  [19200/60000]\n",
      "loss: 0.252391  [38400/60000]\n",
      "loss: 0.257266  [57600/60000]\n",
      "loss: 0.349539  [    0/60000]\n",
      "loss: 0.241535  [19200/60000]\n",
      "loss: 0.300125  [38400/60000]\n",
      "loss: 0.335051  [57600/60000]\n",
      "loss: 0.345725  [    0/60000]\n",
      "loss: 0.403337  [19200/60000]\n",
      "loss: 0.376659  [38400/60000]\n",
      "loss: 0.196540  [57600/60000]\n",
      "loss: 0.356316  [    0/60000]\n",
      "loss: 0.297076  [19200/60000]\n",
      "loss: 0.454761  [38400/60000]\n",
      "loss: 0.395886  [57600/60000]\n",
      "loss: 0.367261  [    0/60000]\n",
      "loss: 0.429320  [19200/60000]\n",
      "loss: 0.234397  [38400/60000]\n",
      "loss: 0.196323  [57600/60000]\n",
      "loss: 0.308056  [    0/60000]\n",
      "loss: 0.348796  [19200/60000]\n",
      "loss: 0.371335  [38400/60000]\n",
      "loss: 0.552765  [57600/60000]\n",
      "loss: 0.250464  [    0/60000]\n",
      "loss: 0.255594  [19200/60000]\n",
      "loss: 0.326890  [38400/60000]\n",
      "loss: 0.134274  [57600/60000]\n"
     ]
    }
   ],
   "source": [
    "# 5. Combine things together:\n",
    "# train model\n",
    "def train(model, dataloader, optimizer, epochs=3):\n",
    "    size = len(dataloader.dataset)\n",
    "    for epoch in range(epochs):\n",
    "        for batch, (X, y) in enumerate(dataloader):\n",
    "            y_hat = model(X)\n",
    "            loss = loss_fn(y_hat, y)\n",
    "\n",
    "            # backward\n",
    "            loss.backward()\n",
    "            optimizer.step()\n",
    "            optimizer.zero_grad()\n",
    "\n",
    "            if batch % 300 == 0:\n",
    "                loss, current = loss.item(), batch * len(X)\n",
    "                print(f\"loss: {loss:>7f}  [{current:>5d}/{size:>5d}]\")\n",
    "\n",
    "for lr in [0.03, 0.01, 0.001]:\n",
    "    optimizer = SGD(model.parameters(), lr)\n",
    "    train(model, training_dataloader, optimizer)"
   ]
  },
  {
   "cell_type": "code",
   "execution_count": 8,
   "metadata": {},
   "outputs": [
    {
     "name": "stdout",
     "output_type": "stream",
     "text": [
      "Accuracy: 0.876000\n"
     ]
    }
   ],
   "source": [
    "size = len(testing_dataloader.dataset)\n",
    "total = 0\n",
    "for X, y in testing_dataloader:\n",
    "    y_hat = model(X)\n",
    "    total += sum(y_hat.argmax(1) == y).item()\n",
    "print(f'Accuracy: {total/size:>2f}')"
   ]
  }
 ],
 "metadata": {
  "kernelspec": {
   "display_name": "Python 3",
   "language": "python",
   "name": "python3"
  },
  "language_info": {
   "codemirror_mode": {
    "name": "ipython",
    "version": 3
   },
   "file_extension": ".py",
   "mimetype": "text/x-python",
   "name": "python",
   "nbconvert_exporter": "python",
   "pygments_lexer": "ipython3",
   "version": "3.6.10"
  }
 },
 "nbformat": 4,
 "nbformat_minor": 4
}
