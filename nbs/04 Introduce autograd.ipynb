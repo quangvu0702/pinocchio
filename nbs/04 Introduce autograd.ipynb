{
 "cells": [
  {
   "cell_type": "code",
   "execution_count": 1,
   "metadata": {},
   "outputs": [],
   "source": [
    "# pytorch support calculate gradient automaticaly."
   ]
  },
  {
   "cell_type": "code",
   "execution_count": 2,
   "metadata": {},
   "outputs": [],
   "source": [
    "# We try to solve the linear problem\n",
    "# a * x + b = y.\n",
    "# we have sample (x,y) find a and b to minimize RMS error"
   ]
  },
  {
   "cell_type": "code",
   "execution_count": 3,
   "metadata": {},
   "outputs": [],
   "source": [
    "from torch.autograd import Variable\n",
    "from torch import Tensor, nn\n",
    "import torch"
   ]
  },
  {
   "cell_type": "code",
   "execution_count": 4,
   "metadata": {},
   "outputs": [],
   "source": [
    "a = Variable(torch.rand(1), requires_grad=True)\n",
    "b = Variable(torch.rand(1), requires_grad=True)"
   ]
  },
  {
   "cell_type": "code",
   "execution_count": 5,
   "metadata": {},
   "outputs": [
    {
     "data": {
      "text/plain": [
       "(tensor([0.3743], requires_grad=True), tensor([0.6167], requires_grad=True))"
      ]
     },
     "execution_count": 5,
     "metadata": {},
     "output_type": "execute_result"
    }
   ],
   "source": [
    "a, b"
   ]
  },
  {
   "cell_type": "code",
   "execution_count": 6,
   "metadata": {},
   "outputs": [],
   "source": [
    "x = Tensor([3])\n",
    "y = Tensor([9])"
   ]
  },
  {
   "cell_type": "code",
   "execution_count": 7,
   "metadata": {},
   "outputs": [],
   "source": [
    "y_hat = a * x + b"
   ]
  },
  {
   "cell_type": "code",
   "execution_count": 8,
   "metadata": {},
   "outputs": [
    {
     "data": {
      "text/plain": [
       "tensor([1.7395], grad_fn=<AddBackward0>)"
      ]
     },
     "execution_count": 8,
     "metadata": {},
     "output_type": "execute_result"
    }
   ],
   "source": [
    "y_hat"
   ]
  },
  {
   "cell_type": "code",
   "execution_count": 9,
   "metadata": {},
   "outputs": [],
   "source": [
    "loss = nn.MSELoss()(y_hat, y)"
   ]
  },
  {
   "cell_type": "code",
   "execution_count": 10,
   "metadata": {},
   "outputs": [
    {
     "data": {
      "text/plain": [
       "tensor(52.7148, grad_fn=<MseLossBackward>)"
      ]
     },
     "execution_count": 10,
     "metadata": {},
     "output_type": "execute_result"
    }
   ],
   "source": [
    "loss"
   ]
  },
  {
   "cell_type": "code",
   "execution_count": 11,
   "metadata": {},
   "outputs": [],
   "source": [
    "loss.backward()"
   ]
  },
  {
   "cell_type": "code",
   "execution_count": 12,
   "metadata": {},
   "outputs": [],
   "source": [
    "lr = 0.01"
   ]
  },
  {
   "cell_type": "code",
   "execution_count": 13,
   "metadata": {},
   "outputs": [
    {
     "data": {
      "text/plain": [
       "(tensor([-43.5630]), tensor([-14.5210]))"
      ]
     },
     "execution_count": 13,
     "metadata": {},
     "output_type": "execute_result"
    }
   ],
   "source": [
    "a.grad, b.grad"
   ]
  },
  {
   "cell_type": "code",
   "execution_count": 14,
   "metadata": {},
   "outputs": [],
   "source": [
    "# a = a - lr * a.grad\n",
    "# b = b - lr * b.grad"
   ]
  },
  {
   "cell_type": "code",
   "execution_count": 15,
   "metadata": {},
   "outputs": [],
   "source": [
    "a.data = a.data - lr * a.grad.data\n",
    "b.data = b.data - lr * b.grad.data"
   ]
  },
  {
   "cell_type": "code",
   "execution_count": 16,
   "metadata": {},
   "outputs": [
    {
     "data": {
      "text/plain": [
       "(tensor([0.8099], requires_grad=True), tensor([0.7619], requires_grad=True))"
      ]
     },
     "execution_count": 16,
     "metadata": {},
     "output_type": "execute_result"
    }
   ],
   "source": [
    "a, b"
   ]
  },
  {
   "cell_type": "code",
   "execution_count": 17,
   "metadata": {},
   "outputs": [
    {
     "data": {
      "text/plain": [
       "tensor([3.1916], grad_fn=<AddBackward0>)"
      ]
     },
     "execution_count": 17,
     "metadata": {},
     "output_type": "execute_result"
    }
   ],
   "source": [
    "y_hat = a * x + b\n",
    "y_hat"
   ]
  },
  {
   "cell_type": "code",
   "execution_count": 18,
   "metadata": {
    "scrolled": true
   },
   "outputs": [
    {
     "name": "stdout",
     "output_type": "stream",
     "text": [
      "tensor([3.]) tensor([9.])\n"
     ]
    }
   ],
   "source": [
    "print(x,y)"
   ]
  },
  {
   "cell_type": "code",
   "execution_count": 19,
   "metadata": {},
   "outputs": [],
   "source": [
    "x = Tensor([3])\n",
    "y = Tensor([9])\n",
    "a = Variable(Tensor([1]), requires_grad=True)\n",
    "b = Variable(Tensor([1]), requires_grad=True)"
   ]
  },
  {
   "cell_type": "code",
   "execution_count": 20,
   "metadata": {},
   "outputs": [
    {
     "name": "stdout",
     "output_type": "stream",
     "text": [
      "0 loss tensor(25., grad_fn=<MseLossBackward>) grad tensor([-30.]) tensor([-10.])\n",
      "1 loss tensor(16., grad_fn=<MseLossBackward>) grad tensor([-24.]) tensor([-8.])\n",
      "2 loss tensor(10.2400, grad_fn=<MseLossBackward>) grad tensor([-19.2000]) tensor([-6.4000])\n",
      "3 loss tensor(6.5536, grad_fn=<MseLossBackward>) grad tensor([-15.3600]) tensor([-5.1200])\n",
      "4 loss tensor(4.1943, grad_fn=<MseLossBackward>) grad tensor([-12.2880]) tensor([-4.0960])\n",
      "5 loss tensor(2.6844, grad_fn=<MseLossBackward>) grad tensor([-9.8304]) tensor([-3.2768])\n",
      "6 loss tensor(1.7180, grad_fn=<MseLossBackward>) grad tensor([-7.8643]) tensor([-2.6214])\n",
      "7 loss tensor(1.0995, grad_fn=<MseLossBackward>) grad tensor([-6.2915]) tensor([-2.0972])\n",
      "8 loss tensor(0.7037, grad_fn=<MseLossBackward>) grad tensor([-5.0332]) tensor([-1.6777])\n",
      "9 loss tensor(0.4504, grad_fn=<MseLossBackward>) grad tensor([-4.0265]) tensor([-1.3422])\n"
     ]
    }
   ],
   "source": [
    "lr = 0.01\n",
    "MSE = nn.MSELoss()\n",
    "for i in range(10):\n",
    "    y_hat = a * x + b\n",
    "    loss = MSE(y_hat, y)\n",
    "    loss.backward()\n",
    "    print(i, 'loss', loss, 'grad', a.grad, b.grad)\n",
    "    a.data = a.data - lr * a.grad\n",
    "    b.data = b.data - lr * b.grad\n",
    "    # zero grad after do backward if we don't want grad is added to the next backward\n",
    "    a.grad.data.zero_()\n",
    "    b.grad.data.zero_()"
   ]
  }
 ],
 "metadata": {
  "kernelspec": {
   "display_name": "Python 3",
   "language": "python",
   "name": "python3"
  },
  "language_info": {
   "codemirror_mode": {
    "name": "ipython",
    "version": 3
   },
   "file_extension": ".py",
   "mimetype": "text/x-python",
   "name": "python",
   "nbconvert_exporter": "python",
   "pygments_lexer": "ipython3",
   "version": "3.6.10"
  }
 },
 "nbformat": 4,
 "nbformat_minor": 4
}
