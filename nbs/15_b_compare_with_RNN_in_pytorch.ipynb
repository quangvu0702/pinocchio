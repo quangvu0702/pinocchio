{
 "cells": [
  {
   "cell_type": "code",
   "execution_count": 1,
   "metadata": {},
   "outputs": [],
   "source": [
    "import torch\n",
    "import torch.nn as nn\n",
    "from exp.nb_12 import test_close\n",
    "torch.seed()\n",
    "\n",
    "i_h = torch.nn.Embedding(1001, 50)\n",
    "h_h = torch.nn.Linear(50, 50)\n",
    "h_o = torch.nn.Linear(50, 1001)\n",
    "relu = torch.nn.ReLU()"
   ]
  },
  {
   "cell_type": "code",
   "execution_count": 2,
   "metadata": {},
   "outputs": [
    {
     "name": "stdout",
     "output_type": "stream",
     "text": [
      "tensor([  1,  11, 111])\n",
      "3\n",
      "x.shape torch.Size([3, 3])\n"
     ]
    },
    {
     "data": {
      "text/plain": [
       "(torch.Size([3, 1001]), torch.Size([3, 50]))"
      ]
     },
     "execution_count": 2,
     "metadata": {},
     "output_type": "execute_result"
    }
   ],
   "source": [
    "# continue refactor\n",
    "x = torch.tensor([[1,2,3], [11,12,13], [111,112,113]]); print(x[:, 0]); print(x.shape[1])\n",
    "input = i_h(x)\n",
    "print('x.shape', x.shape)\n",
    "h = 0\n",
    "for i in range(x.shape[1]):\n",
    "    h = relu(h_h(h + i_h(x[:, i])))\n",
    "o3 = h_o(h)\n",
    "o3.shape, h.shape"
   ]
  },
  {
   "cell_type": "code",
   "execution_count": 3,
   "metadata": {},
   "outputs": [
    {
     "name": "stdout",
     "output_type": "stream",
     "text": [
      "torch.Size([3, 50])\n"
     ]
    },
    {
     "data": {
      "text/plain": [
       "tensor([0.1321, 0.0000, 0.0000, 0.0000, 0.0000, 0.2844, 0.0000, 0.0327, 0.0000,\n",
       "        0.6509, 0.3402, 0.2649, 0.0000, 0.0000, 0.2951, 0.4416, 0.0000, 0.0000,\n",
       "        0.0000, 0.0000, 0.0334, 0.0000, 0.0000, 0.0000, 0.0000, 0.7293, 0.0000,\n",
       "        0.5065, 0.4021, 1.1643, 0.1924, 0.0335, 0.1732, 0.0976, 0.0000, 1.2522,\n",
       "        0.0000, 0.3773, 1.5590, 0.1777, 0.3854, 0.0657, 0.1099, 0.0000, 0.9420,\n",
       "        1.5679, 1.0433, 1.4135, 0.4119, 0.0000], grad_fn=<SelectBackward>)"
      ]
     },
     "execution_count": 3,
     "metadata": {},
     "output_type": "execute_result"
    }
   ],
   "source": [
    "print(h.shape)\n",
    "h[0]"
   ]
  },
  {
   "cell_type": "code",
   "execution_count": 4,
   "metadata": {},
   "outputs": [],
   "source": [
    "test_close(i_h(x[:, 0]), input[:, 0, :])"
   ]
  },
  {
   "cell_type": "code",
   "execution_count": 5,
   "metadata": {},
   "outputs": [
    {
     "data": {
      "text/plain": [
       "(torch.Size([3, 3, 50]), torch.Size([1, 3, 50]))"
      ]
     },
     "execution_count": 5,
     "metadata": {},
     "output_type": "execute_result"
    }
   ],
   "source": [
    "rnn = nn.RNN(50, 50, 1, nonlinearity='relu', batch_first=True)\n",
    "h0 = torch.zeros(1, 3, 50)\n",
    "# assign initial value\n",
    "rnn.weight_hh_l0.data = h_h.weight.data\n",
    "rnn.bias_hh_l0.data = h_h.bias.data\n",
    "rnn.weight_ih_l0.data = h_h.weight.data\n",
    "rnn.bias_ih_l0.data = torch.zeros_like(rnn.bias_ih_l0)\n",
    "test_close(rnn.weight_hh_l0, h_h.weight)\n",
    "\n",
    "output, hn = rnn(input, h0)\n",
    "\n",
    "output.shape, hn.shape"
   ]
  },
  {
   "cell_type": "code",
   "execution_count": 6,
   "metadata": {},
   "outputs": [],
   "source": [
    "test_close(hn.squeeze(0), h)"
   ]
  },
  {
   "cell_type": "code",
   "execution_count": 7,
   "metadata": {},
   "outputs": [],
   "source": [
    "# every thing look find now. We will replace our implement by torch.nn.RNN"
   ]
  },
  {
   "cell_type": "code",
   "execution_count": 8,
   "metadata": {},
   "outputs": [],
   "source": [
    "from fastai.data.external import URLs, untar_data"
   ]
  },
  {
   "cell_type": "code",
   "execution_count": 9,
   "metadata": {},
   "outputs": [],
   "source": [
    "import fastai"
   ]
  },
  {
   "cell_type": "code",
   "execution_count": 10,
   "metadata": {},
   "outputs": [
    {
     "data": {
      "text/plain": [
       "(#2) [Path('/home/vule/.fastai/data/human_numbers/train.txt'),Path('/home/vule/.fastai/data/human_numbers/valid.txt')]"
      ]
     },
     "execution_count": 10,
     "metadata": {},
     "output_type": "execute_result"
    }
   ],
   "source": [
    "path = untar_data(URLs.HUMAN_NUMBERS)\n",
    "path.ls()"
   ]
  },
  {
   "cell_type": "code",
   "execution_count": 11,
   "metadata": {},
   "outputs": [],
   "source": [
    "from fastcore.foundation import L\n",
    "import pandas as pd\n",
    "from torch import tensor\n",
    "from fastai.data.core import DataLoaders\n",
    "\n",
    "# Load data\n",
    "train_df = pd.read_csv(path/'train.txt', header=None, names=['number'])\n",
    "valid_df = pd.read_csv(path/'valid.txt', header=None, names=['number'])\n",
    "data_df = pd.concat([train_df, valid_df])\n",
    "data_df.number = data_df.number.apply(lambda x: x.strip())\n",
    "\n",
    "\n",
    "# Convert word to number.\n",
    "text = ' . '.join(data_df.number.to_list())\n",
    "tokens = text.split(' ')\n",
    "vocabs = L(tokens).unique()\n",
    "word2idx = {w:i for i, w in enumerate(vocabs)}\n",
    "nums = [word2idx[w] for w in tokens]"
   ]
  },
  {
   "cell_type": "code",
   "execution_count": 12,
   "metadata": {},
   "outputs": [
    {
     "data": {
      "text/plain": [
       "30"
      ]
     },
     "execution_count": 12,
     "metadata": {},
     "output_type": "execute_result"
    }
   ],
   "source": [
    "len(vocabs)"
   ]
  },
  {
   "cell_type": "code",
   "execution_count": 13,
   "metadata": {},
   "outputs": [],
   "source": [
    "# L([(tokens[i:i+3], tokens[i+3]) for i in range(0, len(tokens)-4, 3)])\n",
    "seqs = L([(tensor(nums[i:i+3]), nums[i+3]) for i in range(0, len(nums)-4, 3)])\n",
    "\n",
    "bs = 64\n",
    "cut = int(len(seqs) * 0.8)\n",
    "dls = DataLoaders.from_dsets(seqs[:cut], seqs[cut:], bs=bs, shuffle=False)"
   ]
  },
  {
   "cell_type": "code",
   "execution_count": 14,
   "metadata": {},
   "outputs": [
    {
     "data": {
      "text/plain": [
       "(#4207) [(tensor([ 1,  8, 29]), 26),(tensor([26,  5,  1]), 8),(tensor([ 8, 29, 26]), 6),(tensor([6, 1, 8]), 29),(tensor([29, 26,  7]), 1),(tensor([ 1,  8, 29]), 26),(tensor([26,  8,  1]), 8),(tensor([ 8, 29, 26]), 9),(tensor([9, 1, 8]), 29),(tensor([29, 27,  1]), 8)...]"
      ]
     },
     "execution_count": 14,
     "metadata": {},
     "output_type": "execute_result"
    }
   ],
   "source": [
    "dls.train_ds; dls.valid_ds"
   ]
  },
  {
   "cell_type": "code",
   "execution_count": 15,
   "metadata": {},
   "outputs": [
    {
     "data": {
      "text/plain": [
       "(torch.Size([64, 3]), torch.Size([64]))"
      ]
     },
     "execution_count": 15,
     "metadata": {},
     "output_type": "execute_result"
    }
   ],
   "source": [
    "b = dls.one_batch()\n",
    "b[0].shape, b[1].shape"
   ]
  },
  {
   "cell_type": "code",
   "execution_count": 16,
   "metadata": {},
   "outputs": [],
   "source": [
    "from fastai.learner import Learner\n",
    "from fastai.callback.all import *\n",
    "from torch.functional import F\n",
    "from fastai.metrics import accuracy"
   ]
  },
  {
   "cell_type": "code",
   "execution_count": 17,
   "metadata": {},
   "outputs": [
    {
     "name": "stdout",
     "output_type": "stream",
     "text": [
      "(tensor([0, 1, 2, 1, 3, 1, 4, 1, 5, 1, 6, 1, 7, 1, 8, 1]), tensor([1, 2, 1, 3, 1, 4, 1, 5, 1, 6, 1, 7, 1, 8, 1, 9])) (tensor([ 8,  1,  2, 28, 22,  9,  1,  2, 28, 23,  1,  2, 28, 23,  0,  1]), tensor([ 1,  2, 28, 22,  9,  1,  2, 28, 23,  1,  2, 28, 23,  0,  1,  2]))\n",
      "(tensor([ 2, 28, 23,  2,  1,  2, 28, 23,  3,  1,  2, 28, 23,  4,  1,  2]), tensor([28, 23,  2,  1,  2, 28, 23,  3,  1,  2, 28, 23,  4,  1,  2, 28])) (tensor([ 5,  1,  4, 28, 23,  6,  1,  4, 28, 23,  7,  1,  4, 28, 23,  8]), tensor([ 1,  4, 28, 23,  6,  1,  4, 28, 23,  7,  1,  4, 28, 23,  8,  1]))\n"
     ]
    }
   ],
   "source": [
    "# creating more signal:\n",
    "ls = 16\n",
    "seqs = L([(tensor(nums[i:i+ls]), tensor(nums[i+1:i+1+ls])) for i in range(0, len(nums)-ls-1, ls)])\n",
    "cut = int(len(seqs) * 0.80)\n",
    "bs = 64\n",
    "m = len(seqs) // 64\n",
    "# reorder seqs to reuse the last state\n",
    "print(seqs[0], seqs[m-1])\n",
    "print(seqs[m], seqs[2*m-1])\n",
    "\n",
    "def group_chucks(ds, bs):\n",
    "    m = len(ds) // bs\n",
    "    reorder_seqs = L()\n",
    "    for m_i in range(m): reorder_seqs += [seqs[bs_i*m + m_i] for bs_i in range(bs)]\n",
    "    return reorder_seqs\n",
    "\n",
    "dls = DataLoaders.from_dsets(group_chucks(seqs[:cut], bs), group_chucks(seqs[cut:], bs), bs=bs, shuffle=False, drop_last=True)\n",
    "X, y = dls.one_batch()"
   ]
  },
  {
   "cell_type": "code",
   "execution_count": 18,
   "metadata": {},
   "outputs": [
    {
     "name": "stdout",
     "output_type": "stream",
     "text": [
      "torch.Size([64, 16, 30])\n"
     ]
    }
   ],
   "source": [
    "from torch.autograd import Variable\n",
    "from torch.nn import Module\n",
    "from torch.functional import F\n",
    "\n",
    "\n",
    "class LMModel5(Module):\n",
    "    def __init__(self, vocab_sz, n_hidden):\n",
    "        super(LMModel5, self).__init__()\n",
    "        self.n_hidden = n_hidden\n",
    "        self.i_h = torch.nn.Embedding(vocab_sz, n_hidden)\n",
    "        self.rnn = torch.nn.RNN(n_hidden, n_hidden, 1, nonlinearity='relu', batch_first=True)\n",
    "        self.h_o = torch.nn.Linear(n_hidden, vocab_sz)\n",
    "        self.h = torch.zeros(1, 64, n_hidden)\n",
    "    def forward(self, x):\n",
    "        input = self.i_h(x)\n",
    "        outs, hs = self.rnn(input, self.h)\n",
    "        self.h = hs.detach()\n",
    "        return self.h_o(outs)\n",
    "    \n",
    "    def reset(self): self.h = torch.zeros(1, 64, self.n_hidden)\n",
    "\n",
    "\n",
    "model5 = LMModel5(vocab_sz=len(vocabs), n_hidden=64)\n",
    "model5.reset()\n",
    "o4 = model5(X); print(o4.shape)"
   ]
  },
  {
   "cell_type": "code",
   "execution_count": 19,
   "metadata": {},
   "outputs": [
    {
     "data": {
      "text/plain": [
       "torch.Size([64, 16])"
      ]
     },
     "execution_count": 19,
     "metadata": {},
     "output_type": "execute_result"
    }
   ],
   "source": [
    "X.shape"
   ]
  },
  {
   "cell_type": "code",
   "execution_count": 20,
   "metadata": {},
   "outputs": [
    {
     "name": "stdout",
     "output_type": "stream",
     "text": [
      "inps shape: torch.Size([64, 16, 64])\n",
      "outs shapes torch.Size([64, 16, 64]),\n",
      "h shape torch.Size([1, 64, 64])\n"
     ]
    },
    {
     "data": {
      "text/plain": [
       "torch.Size([64, 16, 30])"
      ]
     },
     "execution_count": 20,
     "metadata": {},
     "output_type": "execute_result"
    }
   ],
   "source": [
    "# debug model\n",
    "inps = model5.i_h(X); print(f'inps shape: {inps.shape}')\n",
    "outs, hs = model5.rnn(inps, model5.h); print(f'outs shapes {outs.shape},\\nh shape {hs.shape}')\n",
    "model5.h_o(outs).shape"
   ]
  },
  {
   "cell_type": "code",
   "execution_count": 21,
   "metadata": {},
   "outputs": [],
   "source": [
    "def loss_function(inp, targ):\n",
    "    return F.cross_entropy(inp.view(-1, len(vocabs)), targ.view(-1))\n",
    "\n",
    "learn = Learner(dls, model5, loss_func=loss_function, metrics=accuracy, cbs=[ModelResetter])"
   ]
  },
  {
   "cell_type": "code",
   "execution_count": 22,
   "metadata": {},
   "outputs": [
    {
     "data": {
      "text/html": [],
      "text/plain": [
       "<IPython.core.display.HTML object>"
      ]
     },
     "metadata": {},
     "output_type": "display_data"
    },
    {
     "data": {
      "text/plain": [
       "SuggestedLRs(lr_min=0.017378008365631102, lr_steep=0.019054606556892395)"
      ]
     },
     "execution_count": 22,
     "metadata": {},
     "output_type": "execute_result"
    },
    {
     "data": {
      "image/png": "[encoded data removed]",
      "text/plain": [
       "<Figure size 432x288 with 1 Axes>"
      ]
     },
     "metadata": {
      "needs_background": "light"
     },
     "output_type": "display_data"
    }
   ],
   "source": [
    "learn.lr_find()"
   ]
  },
  {
   "cell_type": "code",
   "execution_count": 23,
   "metadata": {
    "scrolled": true
   },
   "outputs": [
    {
     "data": {
      "text/html": [
       "<table border=\"1\" class=\"dataframe\">\n",
       "  <thead>\n",
       "    <tr style=\"text-align: left;\">\n",
       "      <th>epoch</th>\n",
       "      <th>train_loss</th>\n",
       "      <th>valid_loss</th>\n",
       "      <th>accuracy</th>\n",
       "      <th>time</th>\n",
       "    </tr>\n",
       "  </thead>\n",
       "  <tbody>\n",
       "    <tr>\n",
       "      <td>0</td>\n",
       "      <td>3.145148</td>\n",
       "      <td>2.790671</td>\n",
       "      <td>0.248291</td>\n",
       "      <td>00:00</td>\n",
       "    </tr>\n",
       "    <tr>\n",
       "      <td>1</td>\n",
       "      <td>2.206758</td>\n",
       "      <td>1.774574</td>\n",
       "      <td>0.412598</td>\n",
       "      <td>00:00</td>\n",
       "    </tr>\n",
       "    <tr>\n",
       "      <td>2</td>\n",
       "      <td>1.698992</td>\n",
       "      <td>1.543758</td>\n",
       "      <td>0.437093</td>\n",
       "      <td>00:00</td>\n",
       "    </tr>\n",
       "    <tr>\n",
       "      <td>3</td>\n",
       "      <td>1.435211</td>\n",
       "      <td>1.323819</td>\n",
       "      <td>0.548665</td>\n",
       "      <td>00:00</td>\n",
       "    </tr>\n",
       "    <tr>\n",
       "      <td>4</td>\n",
       "      <td>1.216033</td>\n",
       "      <td>1.176522</td>\n",
       "      <td>0.593343</td>\n",
       "      <td>00:00</td>\n",
       "    </tr>\n",
       "    <tr>\n",
       "      <td>5</td>\n",
       "      <td>1.048560</td>\n",
       "      <td>1.088907</td>\n",
       "      <td>0.631266</td>\n",
       "      <td>00:00</td>\n",
       "    </tr>\n",
       "    <tr>\n",
       "      <td>6</td>\n",
       "      <td>0.929929</td>\n",
       "      <td>1.027773</td>\n",
       "      <td>0.657227</td>\n",
       "      <td>00:00</td>\n",
       "    </tr>\n",
       "    <tr>\n",
       "      <td>7</td>\n",
       "      <td>0.813910</td>\n",
       "      <td>0.961912</td>\n",
       "      <td>0.679281</td>\n",
       "      <td>00:00</td>\n",
       "    </tr>\n",
       "    <tr>\n",
       "      <td>8</td>\n",
       "      <td>0.728436</td>\n",
       "      <td>0.890570</td>\n",
       "      <td>0.718018</td>\n",
       "      <td>00:00</td>\n",
       "    </tr>\n",
       "    <tr>\n",
       "      <td>9</td>\n",
       "      <td>0.649296</td>\n",
       "      <td>0.837760</td>\n",
       "      <td>0.742106</td>\n",
       "      <td>00:00</td>\n",
       "    </tr>\n",
       "    <tr>\n",
       "      <td>10</td>\n",
       "      <td>0.582049</td>\n",
       "      <td>0.797196</td>\n",
       "      <td>0.754395</td>\n",
       "      <td>00:00</td>\n",
       "    </tr>\n",
       "    <tr>\n",
       "      <td>11</td>\n",
       "      <td>0.532606</td>\n",
       "      <td>0.771704</td>\n",
       "      <td>0.762207</td>\n",
       "      <td>00:00</td>\n",
       "    </tr>\n",
       "    <tr>\n",
       "      <td>12</td>\n",
       "      <td>0.498196</td>\n",
       "      <td>0.750008</td>\n",
       "      <td>0.768962</td>\n",
       "      <td>00:00</td>\n",
       "    </tr>\n",
       "    <tr>\n",
       "      <td>13</td>\n",
       "      <td>0.472330</td>\n",
       "      <td>0.747055</td>\n",
       "      <td>0.770915</td>\n",
       "      <td>00:00</td>\n",
       "    </tr>\n",
       "    <tr>\n",
       "      <td>14</td>\n",
       "      <td>0.458527</td>\n",
       "      <td>0.744632</td>\n",
       "      <td>0.771729</td>\n",
       "      <td>00:00</td>\n",
       "    </tr>\n",
       "  </tbody>\n",
       "</table>"
      ],
      "text/plain": [
       "<IPython.core.display.HTML object>"
      ]
     },
     "metadata": {},
     "output_type": "display_data"
    }
   ],
   "source": [
    "learn.fit_one_cycle(15, 3e-3)"
   ]
  },
  {
   "cell_type": "code",
   "execution_count": 26,
   "metadata": {},
   "outputs": [
    {
     "name": "stdout",
     "output_type": "stream",
     "text": [
      "torch.Size([64, 16, 30])\n"
     ]
    }
   ],
   "source": [
    "# stack RNN\n",
    "from torch.autograd import Variable\n",
    "from torch.nn import Module\n",
    "from torch.functional import F\n",
    "\n",
    "\n",
    "class LMModel6(Module):\n",
    "    def __init__(self, vocab_sz, n_hidden):\n",
    "        super(LMModel6, self).__init__()\n",
    "        self.n_hidden = n_hidden\n",
    "        self.i_h = torch.nn.Embedding(vocab_sz, n_hidden)\n",
    "        self.rnn = torch.nn.RNN(n_hidden, n_hidden, 2, nonlinearity='relu', batch_first=True)\n",
    "        self.h_o = torch.nn.Linear(n_hidden, vocab_sz)\n",
    "        self.h = torch.zeros(2, 64, n_hidden)\n",
    "    def forward(self, x):\n",
    "        input = self.i_h(x)\n",
    "        outs, hs = self.rnn(input, self.h)\n",
    "        self.h = hs.detach()\n",
    "        return self.h_o(outs)\n",
    "    \n",
    "    def reset(self): self.h = torch.zeros(2, 64, self.n_hidden)\n",
    "\n",
    "\n",
    "model6 = LMModel6(vocab_sz=len(vocabs), n_hidden=64)\n",
    "model6.reset()\n",
    "o6 = model6(X); print(o6.shape)"
   ]
  },
  {
   "cell_type": "code",
   "execution_count": 27,
   "metadata": {},
   "outputs": [],
   "source": [
    "learn = Learner(dls, model6, loss_func=loss_function, metrics=accuracy, cbs=[ModelResetter])"
   ]
  },
  {
   "cell_type": "code",
   "execution_count": 29,
   "metadata": {},
   "outputs": [
    {
     "data": {
      "text/html": [
       "<table border=\"1\" class=\"dataframe\">\n",
       "  <thead>\n",
       "    <tr style=\"text-align: left;\">\n",
       "      <th>epoch</th>\n",
       "      <th>train_loss</th>\n",
       "      <th>valid_loss</th>\n",
       "      <th>accuracy</th>\n",
       "      <th>time</th>\n",
       "    </tr>\n",
       "  </thead>\n",
       "  <tbody>\n",
       "    <tr>\n",
       "      <td>0</td>\n",
       "      <td>0.233351</td>\n",
       "      <td>0.506157</td>\n",
       "      <td>0.859212</td>\n",
       "      <td>00:00</td>\n",
       "    </tr>\n",
       "    <tr>\n",
       "      <td>1</td>\n",
       "      <td>0.269089</td>\n",
       "      <td>0.635627</td>\n",
       "      <td>0.795817</td>\n",
       "      <td>00:00</td>\n",
       "    </tr>\n",
       "    <tr>\n",
       "      <td>2</td>\n",
       "      <td>0.273084</td>\n",
       "      <td>0.499939</td>\n",
       "      <td>0.856283</td>\n",
       "      <td>00:00</td>\n",
       "    </tr>\n",
       "    <tr>\n",
       "      <td>3</td>\n",
       "      <td>0.322807</td>\n",
       "      <td>0.475301</td>\n",
       "      <td>0.866943</td>\n",
       "      <td>00:00</td>\n",
       "    </tr>\n",
       "    <tr>\n",
       "      <td>4</td>\n",
       "      <td>0.266825</td>\n",
       "      <td>0.452330</td>\n",
       "      <td>0.876709</td>\n",
       "      <td>00:00</td>\n",
       "    </tr>\n",
       "    <tr>\n",
       "      <td>5</td>\n",
       "      <td>0.220879</td>\n",
       "      <td>0.509061</td>\n",
       "      <td>0.852946</td>\n",
       "      <td>00:00</td>\n",
       "    </tr>\n",
       "    <tr>\n",
       "      <td>6</td>\n",
       "      <td>0.226294</td>\n",
       "      <td>0.463720</td>\n",
       "      <td>0.869710</td>\n",
       "      <td>00:00</td>\n",
       "    </tr>\n",
       "    <tr>\n",
       "      <td>7</td>\n",
       "      <td>0.173541</td>\n",
       "      <td>0.377519</td>\n",
       "      <td>0.907308</td>\n",
       "      <td>00:00</td>\n",
       "    </tr>\n",
       "    <tr>\n",
       "      <td>8</td>\n",
       "      <td>0.139935</td>\n",
       "      <td>0.359651</td>\n",
       "      <td>0.916097</td>\n",
       "      <td>00:00</td>\n",
       "    </tr>\n",
       "    <tr>\n",
       "      <td>9</td>\n",
       "      <td>0.120585</td>\n",
       "      <td>0.349992</td>\n",
       "      <td>0.919434</td>\n",
       "      <td>00:00</td>\n",
       "    </tr>\n",
       "    <tr>\n",
       "      <td>10</td>\n",
       "      <td>0.103915</td>\n",
       "      <td>0.329771</td>\n",
       "      <td>0.928467</td>\n",
       "      <td>00:00</td>\n",
       "    </tr>\n",
       "    <tr>\n",
       "      <td>11</td>\n",
       "      <td>0.092733</td>\n",
       "      <td>0.325885</td>\n",
       "      <td>0.932617</td>\n",
       "      <td>00:00</td>\n",
       "    </tr>\n",
       "    <tr>\n",
       "      <td>12</td>\n",
       "      <td>0.084361</td>\n",
       "      <td>0.313637</td>\n",
       "      <td>0.939128</td>\n",
       "      <td>00:00</td>\n",
       "    </tr>\n",
       "    <tr>\n",
       "      <td>13</td>\n",
       "      <td>0.077907</td>\n",
       "      <td>0.311610</td>\n",
       "      <td>0.940430</td>\n",
       "      <td>00:00</td>\n",
       "    </tr>\n",
       "    <tr>\n",
       "      <td>14</td>\n",
       "      <td>0.072572</td>\n",
       "      <td>0.309207</td>\n",
       "      <td>0.941488</td>\n",
       "      <td>00:00</td>\n",
       "    </tr>\n",
       "  </tbody>\n",
       "</table>"
      ],
      "text/plain": [
       "<IPython.core.display.HTML object>"
      ]
     },
     "metadata": {},
     "output_type": "display_data"
    }
   ],
   "source": [
    "learn.fit_one_cycle(15, 3e-3)"
   ]
  }
 ],
 "metadata": {
  "interpreter": {
   "hash": "60ba4aafa20d668f76212e1b57158d4f6ea4305eb74b28aa6dec647267ce0f8a"
  },
  "kernelspec": {
   "display_name": "Python 3",
   "language": "python",
   "name": "python3"
  },
  "language_info": {
   "codemirror_mode": {
    "name": "ipython",
    "version": 3
   },
   "file_extension": ".py",
   "mimetype": "text/x-python",
   "name": "python",
   "nbconvert_exporter": "python",
   "pygments_lexer": "ipython3",
   "version": "3.6.10"
  }
 },
 "nbformat": 4,
 "nbformat_minor": 2
}
