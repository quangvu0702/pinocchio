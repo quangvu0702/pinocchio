{
 "cells": [
  {
   "cell_type": "code",
   "execution_count": 1,
   "metadata": {},
   "outputs": [],
   "source": [
    "# export\n",
    "import operator\n",
    "import torch\n",
    "def test(a, b, cmp, cname=None):\n",
    "    if cname is None: cname = cmp.__name__\n",
    "    assert cmp(a,b), f'{cname}\\n a \\n b'\n",
    "\n",
    "def test_eq(a, b): test(a, b, operator.eq, '==')\n",
    "\n",
    "def test_close(a, b):\n",
    "    assert torch.allclose(a, b, rtol=1e-03, atol=1e-03)"
   ]
  },
  {
   "cell_type": "code",
   "execution_count": 2,
   "metadata": {},
   "outputs": [],
   "source": [
    "test_eq(1, 1)"
   ]
  },
  {
   "cell_type": "code",
   "execution_count": 3,
   "metadata": {},
   "outputs": [],
   "source": [
    "# test_eq(1, 2)"
   ]
  },
  {
   "cell_type": "code",
   "execution_count": 3,
   "metadata": {},
   "outputs": [
    {
     "name": "stdout",
     "output_type": "stream",
     "text": [
      "Converted 12_unit_test.ipynb to exp/nb_12.py\r\n"
     ]
    }
   ],
   "source": [
    "!python notebook2script.py 12_unit_test.ipynb"
   ]
  }
 ],
 "metadata": {
  "interpreter": {
   "hash": "60ba4aafa20d668f76212e1b57158d4f6ea4305eb74b28aa6dec647267ce0f8a"
  },
  "kernelspec": {
   "display_name": "Python 3",
   "language": "python",
   "name": "python3"
  },
  "language_info": {
   "codemirror_mode": {
    "name": "ipython",
    "version": 3
   },
   "file_extension": ".py",
   "mimetype": "text/x-python",
   "name": "python",
   "nbconvert_exporter": "python",
   "pygments_lexer": "ipython3",
   "version": "3.6.10"
  }
 },
 "nbformat": 4,
 "nbformat_minor": 2
}
