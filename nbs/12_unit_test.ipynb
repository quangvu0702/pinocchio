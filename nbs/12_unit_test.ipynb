{
 "cells": [
  {
   "cell_type": "code",
   "execution_count": 1,
   "source": [
    "# export\n",
    "import operator\n",
    "import torch\n",
    "def test(a, b, cmp, cname=None):\n",
    "    if cname is None: cname = cmp.__name__\n",
    "    assert cmp(a,b), f'{cname}\\n a \\n b'\n",
    "\n",
    "def test_eq(a, b): test(a, b, operator.eq, '==')\n",
    "\n",
    "def test_close(a, b): test(a, b, torch.allclose, '==')"
   ],
   "outputs": [],
   "metadata": {}
  },
  {
   "cell_type": "code",
   "execution_count": 2,
   "source": [
    "test_eq(1, 1)"
   ],
   "outputs": [],
   "metadata": {}
  },
  {
   "cell_type": "code",
   "execution_count": 3,
   "source": [
    "# test_eq(1, 2)"
   ],
   "outputs": [],
   "metadata": {}
  },
  {
   "cell_type": "code",
   "execution_count": 4,
   "source": [
    "!python notebook2script.py 12_unit_test.ipynb"
   ],
   "outputs": [
    {
     "output_type": "stream",
     "name": "stdout",
     "text": [
      "Converted 12_unit_test.ipynb to exp/nb_12.py\n"
     ]
    }
   ],
   "metadata": {}
  }
 ],
 "metadata": {
  "orig_nbformat": 4,
  "language_info": {
   "name": "python",
   "version": "3.6.10",
   "mimetype": "text/x-python",
   "codemirror_mode": {
    "name": "ipython",
    "version": 3
   },
   "pygments_lexer": "ipython3",
   "nbconvert_exporter": "python",
   "file_extension": ".py"
  },
  "kernelspec": {
   "name": "python3",
   "display_name": "Python 3.6.10 64-bit ('samwell': conda)"
  },
  "interpreter": {
   "hash": "60ba4aafa20d668f76212e1b57158d4f6ea4305eb74b28aa6dec647267ce0f8a"
  }
 },
 "nbformat": 4,
 "nbformat_minor": 2
}