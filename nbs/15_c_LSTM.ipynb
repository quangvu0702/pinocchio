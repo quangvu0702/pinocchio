{
 "cells": [
  {
   "cell_type": "code",
   "execution_count": 1,
   "metadata": {},
   "outputs": [
    {
     "data": {
      "text/plain": [
       "2780109999982521504"
      ]
     },
     "execution_count": 1,
     "metadata": {},
     "output_type": "execute_result"
    }
   ],
   "source": [
    "import torch\n",
    "import torch.nn as nn\n",
    "from exp.nb_12 import test_close\n",
    "torch.seed()"
   ]
  },
  {
   "cell_type": "code",
   "execution_count": 26,
   "metadata": {},
   "outputs": [
    {
     "data": {
      "text/plain": [
       "(torch.Size([3, 5, 20]), torch.Size([1, 3, 20]), torch.Size([1, 3, 20]))"
      ]
     },
     "execution_count": 26,
     "metadata": {},
     "output_type": "execute_result"
    }
   ],
   "source": [
    "rnn = nn.LSTM(10, 20, 1, batch_first=True)\n",
    "input = torch.randn(3, 5, 10)\n",
    "h0 = torch.randn(1, 3, 20)\n",
    "c0 = torch.randn(1, 3, 20)\n",
    "output, (hn, cn) = rnn(input, (h0, c0))\n",
    "output.shape, hn.shape, cn.shape"
   ]
  },
  {
   "cell_type": "code",
   "execution_count": 3,
   "metadata": {},
   "outputs": [],
   "source": [
    "# every thing look find now. We will replace our implement by torch.nn.RNN"
   ]
  },
  {
   "cell_type": "code",
   "execution_count": 4,
   "metadata": {},
   "outputs": [],
   "source": [
    "from fastai.data.external import URLs, untar_data"
   ]
  },
  {
   "cell_type": "code",
   "execution_count": 5,
   "metadata": {},
   "outputs": [],
   "source": [
    "import fastai"
   ]
  },
  {
   "cell_type": "code",
   "execution_count": 6,
   "metadata": {},
   "outputs": [
    {
     "data": {
      "text/plain": [
       "(#2) [Path('/home/vule/.fastai/data/human_numbers/train.txt'),Path('/home/vule/.fastai/data/human_numbers/valid.txt')]"
      ]
     },
     "execution_count": 6,
     "metadata": {},
     "output_type": "execute_result"
    }
   ],
   "source": [
    "path = untar_data(URLs.HUMAN_NUMBERS)\n",
    "path.ls()"
   ]
  },
  {
   "cell_type": "code",
   "execution_count": 7,
   "metadata": {},
   "outputs": [],
   "source": [
    "from fastcore.foundation import L\n",
    "import pandas as pd\n",
    "from torch import tensor\n",
    "from fastai.data.core import DataLoaders\n",
    "\n",
    "# Load data\n",
    "train_df = pd.read_csv(path/'train.txt', header=None, names=['number'])\n",
    "valid_df = pd.read_csv(path/'valid.txt', header=None, names=['number'])\n",
    "data_df = pd.concat([train_df, valid_df])\n",
    "data_df.number = data_df.number.apply(lambda x: x.strip())\n",
    "\n",
    "\n",
    "# Convert word to number.\n",
    "text = ' . '.join(data_df.number.to_list())\n",
    "tokens = text.split(' ')\n",
    "vocabs = L(tokens).unique()\n",
    "word2idx = {w:i for i, w in enumerate(vocabs)}\n",
    "nums = [word2idx[w] for w in tokens]"
   ]
  },
  {
   "cell_type": "code",
   "execution_count": 8,
   "metadata": {},
   "outputs": [
    {
     "data": {
      "text/plain": [
       "30"
      ]
     },
     "execution_count": 8,
     "metadata": {},
     "output_type": "execute_result"
    }
   ],
   "source": [
    "len(vocabs)"
   ]
  },
  {
   "cell_type": "code",
   "execution_count": 9,
   "metadata": {},
   "outputs": [],
   "source": [
    "# L([(tokens[i:i+3], tokens[i+3]) for i in range(0, len(tokens)-4, 3)])\n",
    "seqs = L([(tensor(nums[i:i+3]), nums[i+3]) for i in range(0, len(nums)-4, 3)])\n",
    "\n",
    "bs = 64\n",
    "cut = int(len(seqs) * 0.8)\n",
    "dls = DataLoaders.from_dsets(seqs[:cut], seqs[cut:], bs=bs, shuffle=False)"
   ]
  },
  {
   "cell_type": "code",
   "execution_count": 10,
   "metadata": {},
   "outputs": [
    {
     "data": {
      "text/plain": [
       "(#4207) [(tensor([ 1,  8, 29]), 26),(tensor([26,  5,  1]), 8),(tensor([ 8, 29, 26]), 6),(tensor([6, 1, 8]), 29),(tensor([29, 26,  7]), 1),(tensor([ 1,  8, 29]), 26),(tensor([26,  8,  1]), 8),(tensor([ 8, 29, 26]), 9),(tensor([9, 1, 8]), 29),(tensor([29, 27,  1]), 8)...]"
      ]
     },
     "execution_count": 10,
     "metadata": {},
     "output_type": "execute_result"
    }
   ],
   "source": [
    "dls.train_ds; dls.valid_ds"
   ]
  },
  {
   "cell_type": "code",
   "execution_count": 11,
   "metadata": {},
   "outputs": [
    {
     "data": {
      "text/plain": [
       "(torch.Size([64, 3]), torch.Size([64]))"
      ]
     },
     "execution_count": 11,
     "metadata": {},
     "output_type": "execute_result"
    }
   ],
   "source": [
    "b = dls.one_batch()\n",
    "b[0].shape, b[1].shape"
   ]
  },
  {
   "cell_type": "code",
   "execution_count": 12,
   "metadata": {},
   "outputs": [],
   "source": [
    "from fastai.learner import Learner\n",
    "from fastai.callback.all import *\n",
    "from torch.functional import F\n",
    "from fastai.metrics import accuracy"
   ]
  },
  {
   "cell_type": "code",
   "execution_count": 13,
   "metadata": {},
   "outputs": [
    {
     "name": "stdout",
     "output_type": "stream",
     "text": [
      "(tensor([0, 1, 2, 1, 3, 1, 4, 1, 5, 1, 6, 1, 7, 1, 8, 1]), tensor([1, 2, 1, 3, 1, 4, 1, 5, 1, 6, 1, 7, 1, 8, 1, 9])) (tensor([ 8,  1,  2, 28, 22,  9,  1,  2, 28, 23,  1,  2, 28, 23,  0,  1]), tensor([ 1,  2, 28, 22,  9,  1,  2, 28, 23,  1,  2, 28, 23,  0,  1,  2]))\n",
      "(tensor([ 2, 28, 23,  2,  1,  2, 28, 23,  3,  1,  2, 28, 23,  4,  1,  2]), tensor([28, 23,  2,  1,  2, 28, 23,  3,  1,  2, 28, 23,  4,  1,  2, 28])) (tensor([ 5,  1,  4, 28, 23,  6,  1,  4, 28, 23,  7,  1,  4, 28, 23,  8]), tensor([ 1,  4, 28, 23,  6,  1,  4, 28, 23,  7,  1,  4, 28, 23,  8,  1]))\n"
     ]
    }
   ],
   "source": [
    "# creating more signal:\n",
    "ls = 16\n",
    "seqs = L([(tensor(nums[i:i+ls]), tensor(nums[i+1:i+1+ls])) for i in range(0, len(nums)-ls-1, ls)])\n",
    "cut = int(len(seqs) * 0.80)\n",
    "bs = 64\n",
    "m = len(seqs) // 64\n",
    "# reorder seqs to reuse the last state\n",
    "print(seqs[0], seqs[m-1])\n",
    "print(seqs[m], seqs[2*m-1])\n",
    "\n",
    "def group_chucks(ds, bs):\n",
    "    m = len(ds) // bs\n",
    "    reorder_seqs = L()\n",
    "    for m_i in range(m): reorder_seqs += [seqs[bs_i*m + m_i] for bs_i in range(bs)]\n",
    "    return reorder_seqs\n",
    "\n",
    "dls = DataLoaders.from_dsets(group_chucks(seqs[:cut], bs), group_chucks(seqs[cut:], bs), bs=bs, shuffle=False, drop_last=True)\n",
    "X, y = dls.one_batch()"
   ]
  },
  {
   "cell_type": "code",
   "execution_count": 44,
   "metadata": {},
   "outputs": [
    {
     "name": "stdout",
     "output_type": "stream",
     "text": [
      "torch.Size([64, 16, 30])\n"
     ]
    }
   ],
   "source": [
    "from torch.autograd import Variable\n",
    "from torch.nn import Module\n",
    "from torch.functional import F\n",
    "\n",
    "\n",
    "class LMModel5(Module):\n",
    "    def __init__(self, vocab_sz, n_hidden):\n",
    "        super(LMModel5, self).__init__()\n",
    "        self.n_hidden = n_hidden\n",
    "        self.i_h = torch.nn.Embedding(vocab_sz, n_hidden)\n",
    "        self.rnn = torch.nn.LSTM(n_hidden, n_hidden, 1, batch_first=True)\n",
    "        self.h_o = torch.nn.Linear(n_hidden, vocab_sz)\n",
    "        self.h = torch.zeros(1, 64, n_hidden)\n",
    "        self.c = torch.zeros(1, 64, n_hidden)\n",
    "    def forward(self, x):\n",
    "        h, c = self.h, self.c\n",
    "        input = self.i_h(x)\n",
    "        outs, (h, c) = self.rnn(input, (h, c))\n",
    "        self.h = h.detach()\n",
    "        self.c = c.detach()\n",
    "        return self.h_o(outs)\n",
    "    \n",
    "    def reset(self):\n",
    "        self.h = torch.zeros(1, 64, self.n_hidden)\n",
    "        self.c = torch.zeros(1, 64, self.n_hidden)\n",
    "\n",
    "\n",
    "model5 = LMModel5(vocab_sz=len(vocabs), n_hidden=64)\n",
    "model5.reset()\n",
    "o4 = model5(X); print(o4.shape)"
   ]
  },
  {
   "cell_type": "code",
   "execution_count": 45,
   "metadata": {},
   "outputs": [
    {
     "data": {
      "text/plain": [
       "torch.Size([64, 16])"
      ]
     },
     "execution_count": 45,
     "metadata": {},
     "output_type": "execute_result"
    }
   ],
   "source": [
    "X.shape"
   ]
  },
  {
   "cell_type": "code",
   "execution_count": 46,
   "metadata": {},
   "outputs": [],
   "source": [
    "def loss_function(inp, targ):\n",
    "    return F.cross_entropy(inp.view(-1, len(vocabs)), targ.view(-1))\n",
    "\n",
    "learn = Learner(dls, model5, loss_func=loss_function, metrics=accuracy, cbs=[ModelResetter])"
   ]
  },
  {
   "cell_type": "code",
   "execution_count": 47,
   "metadata": {},
   "outputs": [
    {
     "data": {
      "text/html": [],
      "text/plain": [
       "<IPython.core.display.HTML object>"
      ]
     },
     "metadata": {},
     "output_type": "display_data"
    },
    {
     "data": {
      "text/plain": [
       "SuggestedLRs(lr_min=0.07585775852203369, lr_steep=0.02290867641568184)"
      ]
     },
     "execution_count": 47,
     "metadata": {},
     "output_type": "execute_result"
    },
    {
     "data": {
      "image/png": "[encoded data removed]",
      "text/plain": [
       "<Figure size 432x288 with 1 Axes>"
      ]
     },
     "metadata": {
      "needs_background": "light"
     },
     "output_type": "display_data"
    }
   ],
   "source": [
    "learn.lr_find()"
   ]
  },
  {
   "cell_type": "code",
   "execution_count": 48,
   "metadata": {
    "scrolled": true
   },
   "outputs": [
    {
     "data": {
      "text/html": [
       "<table border=\"1\" class=\"dataframe\">\n",
       "  <thead>\n",
       "    <tr style=\"text-align: left;\">\n",
       "      <th>epoch</th>\n",
       "      <th>train_loss</th>\n",
       "      <th>valid_loss</th>\n",
       "      <th>accuracy</th>\n",
       "      <th>time</th>\n",
       "    </tr>\n",
       "  </thead>\n",
       "  <tbody>\n",
       "    <tr>\n",
       "      <td>0</td>\n",
       "      <td>3.263033</td>\n",
       "      <td>3.099261</td>\n",
       "      <td>0.321777</td>\n",
       "      <td>00:00</td>\n",
       "    </tr>\n",
       "    <tr>\n",
       "      <td>1</td>\n",
       "      <td>2.559287</td>\n",
       "      <td>1.927389</td>\n",
       "      <td>0.370524</td>\n",
       "      <td>00:00</td>\n",
       "    </tr>\n",
       "    <tr>\n",
       "      <td>2</td>\n",
       "      <td>1.871091</td>\n",
       "      <td>1.606510</td>\n",
       "      <td>0.473551</td>\n",
       "      <td>00:00</td>\n",
       "    </tr>\n",
       "    <tr>\n",
       "      <td>3</td>\n",
       "      <td>1.532904</td>\n",
       "      <td>1.356704</td>\n",
       "      <td>0.591309</td>\n",
       "      <td>00:00</td>\n",
       "    </tr>\n",
       "    <tr>\n",
       "      <td>4</td>\n",
       "      <td>1.293692</td>\n",
       "      <td>1.207724</td>\n",
       "      <td>0.615397</td>\n",
       "      <td>00:00</td>\n",
       "    </tr>\n",
       "    <tr>\n",
       "      <td>5</td>\n",
       "      <td>1.114882</td>\n",
       "      <td>1.034506</td>\n",
       "      <td>0.666667</td>\n",
       "      <td>00:00</td>\n",
       "    </tr>\n",
       "    <tr>\n",
       "      <td>6</td>\n",
       "      <td>0.959610</td>\n",
       "      <td>0.926340</td>\n",
       "      <td>0.717936</td>\n",
       "      <td>00:00</td>\n",
       "    </tr>\n",
       "    <tr>\n",
       "      <td>7</td>\n",
       "      <td>0.830869</td>\n",
       "      <td>0.820070</td>\n",
       "      <td>0.756673</td>\n",
       "      <td>00:00</td>\n",
       "    </tr>\n",
       "    <tr>\n",
       "      <td>8</td>\n",
       "      <td>0.720199</td>\n",
       "      <td>0.735791</td>\n",
       "      <td>0.775635</td>\n",
       "      <td>00:00</td>\n",
       "    </tr>\n",
       "    <tr>\n",
       "      <td>9</td>\n",
       "      <td>0.632438</td>\n",
       "      <td>0.671127</td>\n",
       "      <td>0.801921</td>\n",
       "      <td>00:00</td>\n",
       "    </tr>\n",
       "    <tr>\n",
       "      <td>10</td>\n",
       "      <td>0.557023</td>\n",
       "      <td>0.615193</td>\n",
       "      <td>0.833333</td>\n",
       "      <td>00:00</td>\n",
       "    </tr>\n",
       "    <tr>\n",
       "      <td>11</td>\n",
       "      <td>0.499468</td>\n",
       "      <td>0.582973</td>\n",
       "      <td>0.838704</td>\n",
       "      <td>00:00</td>\n",
       "    </tr>\n",
       "    <tr>\n",
       "      <td>12</td>\n",
       "      <td>0.457043</td>\n",
       "      <td>0.553077</td>\n",
       "      <td>0.855957</td>\n",
       "      <td>00:00</td>\n",
       "    </tr>\n",
       "    <tr>\n",
       "      <td>13</td>\n",
       "      <td>0.432139</td>\n",
       "      <td>0.547248</td>\n",
       "      <td>0.858398</td>\n",
       "      <td>00:00</td>\n",
       "    </tr>\n",
       "    <tr>\n",
       "      <td>14</td>\n",
       "      <td>0.419318</td>\n",
       "      <td>0.544468</td>\n",
       "      <td>0.860677</td>\n",
       "      <td>00:00</td>\n",
       "    </tr>\n",
       "  </tbody>\n",
       "</table>"
      ],
      "text/plain": [
       "<IPython.core.display.HTML object>"
      ]
     },
     "metadata": {},
     "output_type": "display_data"
    }
   ],
   "source": [
    "learn.fit_one_cycle(15, 3e-3)"
   ]
  },
  {
   "cell_type": "code",
   "execution_count": 50,
   "metadata": {},
   "outputs": [
    {
     "name": "stdout",
     "output_type": "stream",
     "text": [
      "torch.Size([64, 16, 30])\n"
     ]
    }
   ],
   "source": [
    "# stack RNN\n",
    "from torch.autograd import Variable\n",
    "from torch.nn import Module\n",
    "from torch.functional import F\n",
    "\n",
    "\n",
    "class LMModel6(Module):\n",
    "    def __init__(self, vocab_sz, n_hidden):\n",
    "        super(LMModel6, self).__init__()\n",
    "        self.n_hidden = n_hidden\n",
    "        self.i_h = torch.nn.Embedding(vocab_sz, n_hidden)\n",
    "        self.rnn = torch.nn.LSTM(n_hidden, n_hidden, 2, batch_first=True)\n",
    "        self.h_o = torch.nn.Linear(n_hidden, vocab_sz)\n",
    "\n",
    "    def forward(self, x):\n",
    "        h, c = self.h, self.c\n",
    "        input = self.i_h(x)\n",
    "        outs, (h, c) = self.rnn(input, (h, c))\n",
    "        self.h = h.detach()\n",
    "        self.c = c.detach()\n",
    "        return self.h_o(outs)\n",
    "    \n",
    "    def reset(self):\n",
    "        self.h = torch.zeros(2, 64, self.n_hidden)\n",
    "        self.c = torch.zeros(2, 64, self.n_hidden)\n",
    "\n",
    "\n",
    "\n",
    "model6 = LMModel6(vocab_sz=len(vocabs), n_hidden=64)\n",
    "model6.reset()\n",
    "o6 = model6(X); print(o6.shape)"
   ]
  },
  {
   "cell_type": "code",
   "execution_count": 51,
   "metadata": {},
   "outputs": [],
   "source": [
    "learn = Learner(dls, model6, loss_func=loss_function, metrics=accuracy, cbs=[ModelResetter])"
   ]
  },
  {
   "cell_type": "code",
   "execution_count": 53,
   "metadata": {},
   "outputs": [
    {
     "data": {
      "text/html": [
       "<table border=\"1\" class=\"dataframe\">\n",
       "  <thead>\n",
       "    <tr style=\"text-align: left;\">\n",
       "      <th>epoch</th>\n",
       "      <th>train_loss</th>\n",
       "      <th>valid_loss</th>\n",
       "      <th>accuracy</th>\n",
       "      <th>time</th>\n",
       "    </tr>\n",
       "  </thead>\n",
       "  <tbody>\n",
       "    <tr>\n",
       "      <td>0</td>\n",
       "      <td>0.395912</td>\n",
       "      <td>0.522062</td>\n",
       "      <td>0.846191</td>\n",
       "      <td>00:00</td>\n",
       "    </tr>\n",
       "    <tr>\n",
       "      <td>1</td>\n",
       "      <td>0.381728</td>\n",
       "      <td>0.506861</td>\n",
       "      <td>0.834880</td>\n",
       "      <td>00:01</td>\n",
       "    </tr>\n",
       "    <tr>\n",
       "      <td>2</td>\n",
       "      <td>0.342798</td>\n",
       "      <td>0.463079</td>\n",
       "      <td>0.863770</td>\n",
       "      <td>00:00</td>\n",
       "    </tr>\n",
       "    <tr>\n",
       "      <td>3</td>\n",
       "      <td>0.299310</td>\n",
       "      <td>0.372765</td>\n",
       "      <td>0.890544</td>\n",
       "      <td>00:00</td>\n",
       "    </tr>\n",
       "    <tr>\n",
       "      <td>4</td>\n",
       "      <td>0.226903</td>\n",
       "      <td>0.267300</td>\n",
       "      <td>0.937988</td>\n",
       "      <td>00:01</td>\n",
       "    </tr>\n",
       "    <tr>\n",
       "      <td>5</td>\n",
       "      <td>0.180516</td>\n",
       "      <td>0.229288</td>\n",
       "      <td>0.947754</td>\n",
       "      <td>00:00</td>\n",
       "    </tr>\n",
       "    <tr>\n",
       "      <td>6</td>\n",
       "      <td>0.127556</td>\n",
       "      <td>0.178088</td>\n",
       "      <td>0.959961</td>\n",
       "      <td>00:01</td>\n",
       "    </tr>\n",
       "    <tr>\n",
       "      <td>7</td>\n",
       "      <td>0.086142</td>\n",
       "      <td>0.157217</td>\n",
       "      <td>0.963786</td>\n",
       "      <td>00:01</td>\n",
       "    </tr>\n",
       "    <tr>\n",
       "      <td>8</td>\n",
       "      <td>0.060773</td>\n",
       "      <td>0.132739</td>\n",
       "      <td>0.970947</td>\n",
       "      <td>00:01</td>\n",
       "    </tr>\n",
       "    <tr>\n",
       "      <td>9</td>\n",
       "      <td>0.045794</td>\n",
       "      <td>0.121799</td>\n",
       "      <td>0.969645</td>\n",
       "      <td>00:01</td>\n",
       "    </tr>\n",
       "    <tr>\n",
       "      <td>10</td>\n",
       "      <td>0.035359</td>\n",
       "      <td>0.113965</td>\n",
       "      <td>0.973633</td>\n",
       "      <td>00:01</td>\n",
       "    </tr>\n",
       "    <tr>\n",
       "      <td>11</td>\n",
       "      <td>0.028805</td>\n",
       "      <td>0.106612</td>\n",
       "      <td>0.974528</td>\n",
       "      <td>00:01</td>\n",
       "    </tr>\n",
       "    <tr>\n",
       "      <td>12</td>\n",
       "      <td>0.024717</td>\n",
       "      <td>0.105129</td>\n",
       "      <td>0.974772</td>\n",
       "      <td>00:01</td>\n",
       "    </tr>\n",
       "    <tr>\n",
       "      <td>13</td>\n",
       "      <td>0.022500</td>\n",
       "      <td>0.104800</td>\n",
       "      <td>0.974528</td>\n",
       "      <td>00:00</td>\n",
       "    </tr>\n",
       "    <tr>\n",
       "      <td>14</td>\n",
       "      <td>0.021463</td>\n",
       "      <td>0.104660</td>\n",
       "      <td>0.974609</td>\n",
       "      <td>00:01</td>\n",
       "    </tr>\n",
       "  </tbody>\n",
       "</table>"
      ],
      "text/plain": [
       "<IPython.core.display.HTML object>"
      ]
     },
     "metadata": {},
     "output_type": "display_data"
    }
   ],
   "source": [
    "learn.fit_one_cycle(15, 3e-3)"
   ]
  }
 ],
 "metadata": {
  "interpreter": {
   "hash": "60ba4aafa20d668f76212e1b57158d4f6ea4305eb74b28aa6dec647267ce0f8a"
  },
  "kernelspec": {
   "display_name": "Python 3",
   "language": "python",
   "name": "python3"
  },
  "language_info": {
   "codemirror_mode": {
    "name": "ipython",
    "version": 3
   },
   "file_extension": ".py",
   "mimetype": "text/x-python",
   "name": "python",
   "nbconvert_exporter": "python",
   "pygments_lexer": "ipython3",
   "version": "3.6.10"
  }
 },
 "nbformat": 4,
 "nbformat_minor": 2
}
