{
 "cells": [
  {
   "cell_type": "code",
   "execution_count": 1,
   "metadata": {},
   "outputs": [
    {
     "data": {
      "text/plain": [
       "'cuda'"
      ]
     },
     "execution_count": 1,
     "metadata": {},
     "output_type": "execute_result"
    }
   ],
   "source": [
    "import torch\n",
    "device = 'cuda' if torch.cuda.is_available() else 'cpu'\n",
    "device"
   ]
  },
  {
   "cell_type": "code",
   "execution_count": 3,
   "metadata": {},
   "outputs": [
    {
     "data": {
      "text/plain": [
       "(torch.Size([60000, 28, 28]), torch.Size([10000, 28, 28]))"
      ]
     },
     "execution_count": 3,
     "metadata": {},
     "output_type": "execute_result"
    }
   ],
   "source": [
    "# 1.a Dataset\n",
    "from torchvision import datasets\n",
    "from torchvision.transforms import ToTensor\n",
    "\n",
    "training_data = datasets.FashionMNIST(\n",
    "    root=\"data\",\n",
    "    train=True,\n",
    "    download=True,\n",
    "    transform=ToTensor())\n",
    "\n",
    "testing_data = datasets.FashionMNIST(\n",
    "    root=\"data\",\n",
    "    train=False,\n",
    "    download=True,\n",
    "    transform=ToTensor())\n",
    "\n",
    "training_data.data.shape, testing_data.data.shape"
   ]
  },
  {
   "cell_type": "code",
   "execution_count": 4,
   "metadata": {},
   "outputs": [
    {
     "data": {
      "text/plain": [
       "(torch.Size([64, 1, 28, 28]), torch.Size([64]))"
      ]
     },
     "execution_count": 4,
     "metadata": {},
     "output_type": "execute_result"
    }
   ],
   "source": [
    "# 1.b DataLoader\n",
    "from torch.utils.data import DataLoader\n",
    "\n",
    "training_dataloader = DataLoader(training_data, 64, shuffle=True)\n",
    "testing_dataloader = DataLoader(testing_data, 64, shuffle=False)\n",
    "\n",
    "X, y = next(iter(training_dataloader))\n",
    "X.shape, y.shape"
   ]
  },
  {
   "cell_type": "code",
   "execution_count": 5,
   "metadata": {},
   "outputs": [],
   "source": [
    "cuda_X, cuda_y = X.to(device), y.to(device)"
   ]
  },
  {
   "cell_type": "code",
   "execution_count": 9,
   "metadata": {},
   "outputs": [
    {
     "name": "stdout",
     "output_type": "stream",
     "text": [
      "torch.Size([64, 1, 28, 28]) torch.Size([64, 10])\n"
     ]
    }
   ],
   "source": [
    "# play with conv layer\n",
    "from torch import nn\n",
    "\n",
    "# build a conv layer with basic parameter\n",
    "# n input channel, n output feature, ks:kenel size, act:activate\n",
    "def conv(ni, nf, ks=3, stride=1, act=True):\n",
    "    layers = [nn.Conv2d(ni, nf, stride=stride, kernel_size=ks, padding=ks//2)]\n",
    "    layers.append(nn.BatchNorm2d(nf))\n",
    "    if act: layers.append(nn.ReLU())\n",
    "    res = nn.Sequential(*layers)\n",
    "    return res\n",
    "\n",
    "def block(ni, nf): return conv(ni, nf)\n",
    "\n",
    "# get model from block\n",
    "def get_model():\n",
    "    return nn.Sequential(\n",
    "            block(1,16),   #14x14\n",
    "            block(16,32),  #7x7\n",
    "            block(32, 64), #4x4\n",
    "            block(64, 128),#2x2\n",
    "            block(128,256),#1x1\n",
    "            nn.AdaptiveAvgPool2d(1),\n",
    "            nn.Flatten(),\n",
    "            nn.Linear(256, 10)).to(device)\n",
    "\n",
    "model = get_model()\n",
    "print(X.shape, model(X.to(device)).shape)"
   ]
  },
  {
   "cell_type": "code",
   "execution_count": 11,
   "metadata": {},
   "outputs": [],
   "source": [
    "y_hat = model(X.to(device))"
   ]
  },
  {
   "cell_type": "code",
   "execution_count": 13,
   "metadata": {},
   "outputs": [],
   "source": [
    "# 3. Loss\n",
    "loss_fn = nn.CrossEntropyLoss()\n",
    "\n",
    "loss = loss_fn(y_hat, y.to(device))\n",
    "\n",
    "loss.backward()"
   ]
  },
  {
   "cell_type": "code",
   "execution_count": 14,
   "metadata": {},
   "outputs": [],
   "source": [
    "# 4. Optimizer SGD\n",
    "from torch.optim import SGD"
   ]
  },
  {
   "cell_type": "code",
   "execution_count": 16,
   "metadata": {},
   "outputs": [
    {
     "name": "stdout",
     "output_type": "stream",
     "text": [
      "loss: 2.314800  [    0/60000]\n",
      "loss: 1.759572  [19200/60000]\n",
      "loss: 1.341351  [38400/60000]\n",
      "loss: 1.210514  [57600/60000]\n",
      "loss: 1.325168  [    0/60000]\n",
      "loss: 1.192551  [19200/60000]\n",
      "loss: 1.140095  [38400/60000]\n",
      "loss: 0.938623  [57600/60000]\n"
     ]
    }
   ],
   "source": [
    "# 5. Combine things together:\n",
    "# train model\n",
    "def train(model, dataloader, optimizer, epochs=2):\n",
    "    size = len(dataloader.dataset)\n",
    "    for epoch in range(epochs):\n",
    "        for batch, (X, y) in enumerate(dataloader):\n",
    "            X, y = X.to(device), y.to(device)\n",
    "            y_hat = model(X)\n",
    "            loss = loss_fn(y_hat, y)\n",
    "\n",
    "            # backward\n",
    "            loss.backward()\n",
    "            optimizer.step()\n",
    "            optimizer.zero_grad()\n",
    "\n",
    "            if batch % 300 == 0:\n",
    "                loss, current = loss.item(), batch * len(X)\n",
    "                print(f\"loss: {loss:>7f}  [{current:>5d}/{size:>5d}]\")\n",
    "\n",
    "\n",
    "optimizer = SGD(model.parameters(), lr=3e-3)\n",
    "train(model, training_dataloader, optimizer)"
   ]
  },
  {
   "cell_type": "code",
   "execution_count": 18,
   "metadata": {},
   "outputs": [
    {
     "name": "stdout",
     "output_type": "stream",
     "text": [
      "Accuracy: 0.700500\n"
     ]
    }
   ],
   "source": [
    "def test(model, testing_dataloader):\n",
    "    size = len(testing_dataloader.dataset)\n",
    "    total = 0\n",
    "    for X, y in testing_dataloader:\n",
    "        X, y = X.to(device), y.to(device)\n",
    "        y_hat = model(X)\n",
    "        total += sum(y_hat.argmax(1) == y).item()\n",
    "    print(f'Accuracy: {total/size:>2f}')\n",
    "    \n",
    "test(model, testing_dataloader)"
   ]
  },
  {
   "cell_type": "code",
   "execution_count": 21,
   "metadata": {},
   "outputs": [
    {
     "name": "stdout",
     "output_type": "stream",
     "text": [
      "loss: 2.326347  [    0/60000]\n",
      "loss: 1.640328  [19200/60000]\n",
      "loss: 1.513402  [38400/60000]\n",
      "loss: 1.327605  [57600/60000]\n",
      "loss: 1.212009  [    0/60000]\n",
      "loss: 1.129552  [19200/60000]\n",
      "loss: 1.040257  [38400/60000]\n",
      "loss: 1.006928  [57600/60000]\n",
      "loss: 0.993070  [    0/60000]\n",
      "loss: 1.009636  [19200/60000]\n",
      "loss: 1.042453  [38400/60000]\n",
      "loss: 0.837528  [57600/60000]\n",
      "loss: 0.920342  [    0/60000]\n",
      "loss: 0.727526  [19200/60000]\n",
      "loss: 0.657815  [38400/60000]\n",
      "loss: 0.926464  [57600/60000]\n",
      "loss: 0.582225  [    0/60000]\n",
      "loss: 0.648594  [19200/60000]\n",
      "loss: 0.658379  [38400/60000]\n",
      "loss: 0.791733  [57600/60000]\n",
      "loss: 0.779679  [    0/60000]\n",
      "loss: 0.471150  [19200/60000]\n",
      "loss: 0.602264  [38400/60000]\n",
      "loss: 0.642031  [57600/60000]\n",
      "loss: 0.605967  [    0/60000]\n",
      "loss: 0.675904  [19200/60000]\n",
      "loss: 0.492870  [38400/60000]\n",
      "loss: 0.608716  [57600/60000]\n",
      "loss: 0.575342  [    0/60000]\n",
      "loss: 0.607085  [19200/60000]\n",
      "loss: 0.658717  [38400/60000]\n",
      "loss: 0.599891  [57600/60000]\n",
      "loss: 0.765165  [    0/60000]\n",
      "loss: 0.557375  [19200/60000]\n",
      "loss: 0.453991  [38400/60000]\n",
      "loss: 0.435866  [57600/60000]\n",
      "loss: 0.479649  [    0/60000]\n",
      "loss: 0.437862  [19200/60000]\n",
      "loss: 0.566776  [38400/60000]\n",
      "loss: 0.777315  [57600/60000]\n",
      "Accuracy: 0.813600\n"
     ]
    }
   ],
   "source": [
    "# Base-line models:\n",
    "model = get_model()\n",
    "optimizer = SGD(model.parameters(), lr=3e-3)\n",
    "train(model, training_dataloader, optimizer, 10)\n",
    "test(model, testing_dataloader)\n",
    "# 0.887400"
   ]
  },
  {
   "cell_type": "code",
   "execution_count": 22,
   "metadata": {},
   "outputs": [],
   "source": [
    "from IPython.core.debugger import set_trace\n",
    "\n",
    "def noop(x):\n",
    "    return x\n",
    "\n",
    "# ResnetBlock\n",
    "class ResnetBlock(nn.Module):\n",
    "    def __init__(self, ni, nf, stride=2):\n",
    "        super(ResnetBlock, self).__init__()\n",
    "        self.convs = nn.Sequential(\n",
    "                        conv(ni, nf),\n",
    "                        conv(nf, nf, stride=stride, act=False))\n",
    "        self.pool = noop if stride == 1 else nn.AvgPool2d(stride, ceil_mode=True)\n",
    "        self.idconv = noop if ni == nf else conv(ni, nf, ks=1, act=False)\n",
    "    def forward(self, x):\n",
    "        return nn.ReLU()(self.convs(x) + self.idconv(self.pool(x)))"
   ]
  },
  {
   "cell_type": "code",
   "execution_count": 23,
   "metadata": {},
   "outputs": [
    {
     "name": "stdout",
     "output_type": "stream",
     "text": [
      "loss: 2.404256  [    0/60000]\n",
      "loss: 0.633075  [19200/60000]\n",
      "loss: 0.444788  [38400/60000]\n",
      "loss: 0.432799  [57600/60000]\n",
      "loss: 0.431536  [    0/60000]\n",
      "loss: 0.241054  [19200/60000]\n",
      "loss: 0.407671  [38400/60000]\n",
      "loss: 0.241693  [57600/60000]\n",
      "loss: 0.292393  [    0/60000]\n",
      "loss: 0.244618  [19200/60000]\n",
      "loss: 0.327733  [38400/60000]\n",
      "loss: 0.230948  [57600/60000]\n",
      "loss: 0.376455  [    0/60000]\n",
      "loss: 0.131386  [19200/60000]\n",
      "loss: 0.242885  [38400/60000]\n",
      "loss: 0.354061  [57600/60000]\n",
      "loss: 0.231409  [    0/60000]\n",
      "loss: 0.126834  [19200/60000]\n",
      "loss: 0.219649  [38400/60000]\n",
      "loss: 0.184550  [57600/60000]\n",
      "loss: 0.355030  [    0/60000]\n",
      "loss: 0.284776  [19200/60000]\n",
      "loss: 0.293274  [38400/60000]\n",
      "loss: 0.203125  [57600/60000]\n",
      "loss: 0.275308  [    0/60000]\n",
      "loss: 0.141862  [19200/60000]\n",
      "loss: 0.133716  [38400/60000]\n",
      "loss: 0.139759  [57600/60000]\n",
      "loss: 0.165664  [    0/60000]\n",
      "loss: 0.193569  [19200/60000]\n",
      "loss: 0.140947  [38400/60000]\n",
      "loss: 0.327154  [57600/60000]\n",
      "loss: 0.093778  [    0/60000]\n",
      "loss: 0.206266  [19200/60000]\n",
      "loss: 0.148839  [38400/60000]\n",
      "loss: 0.120567  [57600/60000]\n",
      "loss: 0.197167  [    0/60000]\n",
      "loss: 0.110888  [19200/60000]\n",
      "loss: 0.075567  [38400/60000]\n",
      "loss: 0.068161  [57600/60000]\n",
      "Accuracy: 0.898900\n"
     ]
    }
   ],
   "source": [
    "# Resnet block\n",
    "def block(ni, nf): return ResnetBlock(ni, nf)\n",
    "model = get_model()\n",
    "optimizer = SGD(model.parameters(), lr=3e-3)\n",
    "train(model, training_dataloader, optimizer, 10)\n",
    "test(model, testing_dataloader)\n",
    "# 0.893100"
   ]
  },
  {
   "cell_type": "code",
   "execution_count": null,
   "metadata": {},
   "outputs": [
    {
     "name": "stdout",
     "output_type": "stream",
     "text": [
      "loss: 2.527095  [    0/60000]\n",
      "loss: 0.441763  [19200/60000]\n",
      "loss: 0.336222  [38400/60000]\n",
      "loss: 0.284289  [57600/60000]\n",
      "loss: 0.360004  [    0/60000]\n",
      "loss: 0.148952  [19200/60000]\n",
      "loss: 0.212381  [38400/60000]\n",
      "loss: 0.281431  [57600/60000]\n",
      "loss: 0.240316  [    0/60000]\n",
      "loss: 0.386212  [19200/60000]\n",
      "loss: 0.189799  [38400/60000]\n",
      "loss: 0.301721  [57600/60000]\n",
      "loss: 0.170949  [    0/60000]\n"
     ]
    }
   ],
   "source": [
    "# stack block\n",
    "def block(ni, nf): return nn.Sequential(ResnetBlock(ni, nf), ResnetBlock(nf, nf, stride=1))\n",
    "model = get_model()\n",
    "optimizer = SGD(model.parameters(), lr=3e-3)\n",
    "train(model, training_dataloader, optimizer, 10)\n",
    "test(model, testing_dataloader)\n",
    "# 0.893100"
   ]
  }
 ],
 "metadata": {
  "kernelspec": {
   "display_name": "Python 3",
   "language": "python",
   "name": "python3"
  },
  "language_info": {
   "codemirror_mode": {
    "name": "ipython",
    "version": 3
   },
   "file_extension": ".py",
   "mimetype": "text/x-python",
   "name": "python",
   "nbconvert_exporter": "python",
   "pygments_lexer": "ipython3",
   "version": "3.6.10"
  }
 },
 "nbformat": 4,
 "nbformat_minor": 4
}
