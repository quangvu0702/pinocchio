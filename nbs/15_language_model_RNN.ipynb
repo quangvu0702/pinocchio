{
 "cells": [
  {
   "cell_type": "code",
   "execution_count": 1,
   "metadata": {},
   "outputs": [],
   "source": [
    "import torch\n",
    "from exp.nb_12 import test_close\n",
    "torch.seed()\n",
    "\n",
    "i_h = torch.nn.Embedding(1001, 50)\n",
    "h_h = torch.nn.Linear(50, 50)\n",
    "h_o = torch.nn.Linear(50, 1001)\n",
    "relu = torch.nn.ReLU()"
   ]
  },
  {
   "cell_type": "code",
   "execution_count": 2,
   "metadata": {},
   "outputs": [
    {
     "name": "stdout",
     "output_type": "stream",
     "text": [
      "torch.Size([3, 50])\n",
      "torch.Size([3, 50])\n",
      "torch.Size([3, 50])\n",
      "torch.Size([3, 50])\n",
      "torch.Size([3, 50])\n"
     ]
    }
   ],
   "source": [
    "x1, x2, x3 = [1,11,111], [2,12,112], [3,13,113]\n",
    "h = h_h(i_h(torch.tensor(x1))); print(h.shape)\n",
    "h = relu(h); print(h.shape)\n",
    "\n",
    "h = h + i_h(torch.tensor(x2)); print(h.shape)\n",
    "h = relu(h_h(h))\n",
    "\n",
    "h = h + i_h(torch.tensor(x3)); print(h.shape)\n",
    "h = relu(h_h(h))\n",
    "\n",
    "o1 = h_o(h); print(h.shape)"
   ]
  },
  {
   "cell_type": "code",
   "execution_count": 3,
   "metadata": {},
   "outputs": [
    {
     "name": "stdout",
     "output_type": "stream",
     "text": [
      "tensor([  1,  11, 111])\n",
      "torch.Size([3, 50])\n"
     ]
    }
   ],
   "source": [
    "# refactor\n",
    "x = torch.tensor([[1,2,3], [11,12,13], [111,112,113]]); print(x[:, 0])\n",
    "h = relu(h_h(i_h(x[:, 0])))\n",
    "h = relu(h_h(h + i_h(x[:, 1])))\n",
    "h = relu(h_h(h + i_h(x[:, 2]))); print(h.shape)\n",
    "o2 = h_o(h)\n",
    "test_close(o1, o2)"
   ]
  },
  {
   "cell_type": "code",
   "execution_count": 4,
   "metadata": {},
   "outputs": [
    {
     "name": "stdout",
     "output_type": "stream",
     "text": [
      "tensor([  1,  11, 111])\n",
      "3\n"
     ]
    }
   ],
   "source": [
    "# continue refactor\n",
    "x = torch.tensor([[1,2,3], [11,12,13], [111,112,113]]); print(x[:, 0]); print(x.shape[1])\n",
    "h = 0\n",
    "for i in range(x.shape[1]):\n",
    "    h = relu(h_h(h + i_h(x[:, i])))\n",
    "o3 = h_o(h)\n",
    "test_close(o1, o3)"
   ]
  },
  {
   "cell_type": "code",
   "execution_count": 9,
   "metadata": {},
   "outputs": [
    {
     "data": {
      "text/plain": [
       "torch.Size([3, 1001])"
      ]
     },
     "execution_count": 9,
     "metadata": {},
     "output_type": "execute_result"
    }
   ],
   "source": [
    "o1.shape"
   ]
  },
  {
   "cell_type": "code",
   "execution_count": 5,
   "metadata": {},
   "outputs": [
    {
     "name": "stdout",
     "output_type": "stream",
     "text": [
      "torch.Size([3, 1001])\n"
     ]
    }
   ],
   "source": [
    "from torch.nn import Module\n",
    "from torch.functional import F\n",
    "\n",
    "class LMModel1(Module):\n",
    "    def __init__(self, vocab_sz, n_hidden):\n",
    "        super(LMModel1, self).__init__()\n",
    "        self.i_h = torch.nn.Embedding(vocab_sz, n_hidden)\n",
    "        self.h_h = torch.nn.Linear(n_hidden, n_hidden)\n",
    "        self.h_o = torch.nn.Linear(n_hidden, vocab_sz)\n",
    "    \n",
    "    def forward(self, x):\n",
    "        h = 0\n",
    "        for i in range(3):\n",
    "            h = h + self.i_h(x[:, i])\n",
    "            h = F.relu(self.h_h(h))\n",
    "        return self.h_o(h)\n",
    "\n",
    "model = LMModel1(vocab_sz=1001, n_hidden=50)\n",
    "o4 = model(x); print(o4.shape)"
   ]
  },
  {
   "cell_type": "code",
   "execution_count": 6,
   "metadata": {},
   "outputs": [],
   "source": [
    "from fastai.data.external import URLs, untar_data"
   ]
  },
  {
   "cell_type": "code",
   "execution_count": 7,
   "metadata": {},
   "outputs": [],
   "source": [
    "import fastai"
   ]
  },
  {
   "cell_type": "code",
   "execution_count": 8,
   "metadata": {},
   "outputs": [
    {
     "data": {
      "text/plain": [
       "(#2) [Path('/home/vule/.fastai/data/human_numbers/train.txt'),Path('/home/vule/.fastai/data/human_numbers/valid.txt')]"
      ]
     },
     "execution_count": 8,
     "metadata": {},
     "output_type": "execute_result"
    }
   ],
   "source": [
    "path = untar_data(URLs.HUMAN_NUMBERS)\n",
    "path.ls()"
   ]
  },
  {
   "cell_type": "code",
   "execution_count": 9,
   "metadata": {},
   "outputs": [],
   "source": [
    "from fastcore.foundation import L\n",
    "import pandas as pd\n",
    "from torch import tensor\n",
    "from fastai.data.core import DataLoaders\n",
    "\n",
    "# Load data\n",
    "train_df = pd.read_csv(path/'train.txt', header=None, names=['number'])\n",
    "valid_df = pd.read_csv(path/'valid.txt', header=None, names=['number'])\n",
    "data_df = pd.concat([train_df, valid_df])\n",
    "data_df.number = data_df.number.apply(lambda x: x.strip())\n",
    "\n",
    "\n",
    "# Convert word to number.\n",
    "text = ' . '.join(data_df.number.to_list())\n",
    "tokens = text.split(' ')\n",
    "vocabs = L(tokens).unique()\n",
    "word2idx = {w:i for i, w in enumerate(vocabs)}\n",
    "nums = [word2idx[w] for w in tokens]"
   ]
  },
  {
   "cell_type": "code",
   "execution_count": 10,
   "metadata": {},
   "outputs": [
    {
     "data": {
      "text/plain": [
       "30"
      ]
     },
     "execution_count": 10,
     "metadata": {},
     "output_type": "execute_result"
    }
   ],
   "source": [
    "len(vocabs)"
   ]
  },
  {
   "cell_type": "code",
   "execution_count": 11,
   "metadata": {},
   "outputs": [],
   "source": [
    "# L([(tokens[i:i+3], tokens[i+3]) for i in range(0, len(tokens)-4, 3)])\n",
    "seqs = L([(tensor(nums[i:i+3]), nums[i+3]) for i in range(0, len(nums)-4, 3)])\n",
    "\n",
    "bs = 64\n",
    "cut = int(len(seqs) * 0.8)\n",
    "dls = DataLoaders.from_dsets(seqs[:cut], seqs[cut:], bs=bs, shuffle=False)"
   ]
  },
  {
   "cell_type": "code",
   "execution_count": 12,
   "metadata": {},
   "outputs": [
    {
     "data": {
      "text/plain": [
       "(#4207) [(tensor([ 1,  8, 29]), 26),(tensor([26,  5,  1]), 8),(tensor([ 8, 29, 26]), 6),(tensor([6, 1, 8]), 29),(tensor([29, 26,  7]), 1),(tensor([ 1,  8, 29]), 26),(tensor([26,  8,  1]), 8),(tensor([ 8, 29, 26]), 9),(tensor([9, 1, 8]), 29),(tensor([29, 27,  1]), 8)...]"
      ]
     },
     "execution_count": 12,
     "metadata": {},
     "output_type": "execute_result"
    }
   ],
   "source": [
    "dls.train_ds; dls.valid_ds"
   ]
  },
  {
   "cell_type": "code",
   "execution_count": 13,
   "metadata": {},
   "outputs": [
    {
     "data": {
      "text/plain": [
       "(torch.Size([64, 3]), torch.Size([64]))"
      ]
     },
     "execution_count": 13,
     "metadata": {},
     "output_type": "execute_result"
    }
   ],
   "source": [
    "b = dls.one_batch()\n",
    "b[0].shape, b[1].shape"
   ]
  },
  {
   "cell_type": "code",
   "execution_count": 14,
   "metadata": {},
   "outputs": [],
   "source": [
    "from fastai.learner import Learner\n",
    "from fastai.callback.all import *\n",
    "from torch.functional import F\n",
    "from fastai.metrics import accuracy"
   ]
  },
  {
   "cell_type": "code",
   "execution_count": 15,
   "metadata": {},
   "outputs": [],
   "source": [
    "learn = Learner(dls, LMModel1(len(vocabs), n_hidden=64), loss_func=F.cross_entropy, metrics=accuracy)"
   ]
  },
  {
   "cell_type": "code",
   "execution_count": 16,
   "metadata": {},
   "outputs": [
    {
     "data": {
      "text/html": [],
      "text/plain": [
       "<IPython.core.display.HTML object>"
      ]
     },
     "metadata": {},
     "output_type": "display_data"
    },
    {
     "data": {
      "text/plain": [
       "SuggestedLRs(lr_min=0.014454397559165954, lr_steep=0.12022644281387329)"
      ]
     },
     "execution_count": 16,
     "metadata": {},
     "output_type": "execute_result"
    },
    {
     "data": {
      "image/png": "[encoded data removed]",
      "text/plain": [
       "<Figure size 432x288 with 1 Axes>"
      ]
     },
     "metadata": {
      "needs_background": "light"
     },
     "output_type": "display_data"
    }
   ],
   "source": [
    "learn.lr_find()"
   ]
  },
  {
   "cell_type": "code",
   "execution_count": 17,
   "metadata": {},
   "outputs": [
    {
     "data": {
      "text/html": [
       "<table border=\"1\" class=\"dataframe\">\n",
       "  <thead>\n",
       "    <tr style=\"text-align: left;\">\n",
       "      <th>epoch</th>\n",
       "      <th>train_loss</th>\n",
       "      <th>valid_loss</th>\n",
       "      <th>accuracy</th>\n",
       "      <th>time</th>\n",
       "    </tr>\n",
       "  </thead>\n",
       "  <tbody>\n",
       "    <tr>\n",
       "      <td>0</td>\n",
       "      <td>1.313570</td>\n",
       "      <td>2.111984</td>\n",
       "      <td>0.487521</td>\n",
       "      <td>00:01</td>\n",
       "    </tr>\n",
       "    <tr>\n",
       "      <td>1</td>\n",
       "      <td>1.265121</td>\n",
       "      <td>1.946874</td>\n",
       "      <td>0.481341</td>\n",
       "      <td>00:03</td>\n",
       "    </tr>\n",
       "    <tr>\n",
       "      <td>2</td>\n",
       "      <td>1.334385</td>\n",
       "      <td>1.535688</td>\n",
       "      <td>0.449964</td>\n",
       "      <td>00:01</td>\n",
       "    </tr>\n",
       "    <tr>\n",
       "      <td>3</td>\n",
       "      <td>1.343860</td>\n",
       "      <td>1.562397</td>\n",
       "      <td>0.501070</td>\n",
       "      <td>00:01</td>\n",
       "    </tr>\n",
       "  </tbody>\n",
       "</table>"
      ],
      "text/plain": [
       "<IPython.core.display.HTML object>"
      ]
     },
     "metadata": {},
     "output_type": "display_data"
    }
   ],
   "source": [
    "learn.fit_one_cycle(4, 1e-2)"
   ]
  },
  {
   "cell_type": "code",
   "execution_count": 18,
   "metadata": {},
   "outputs": [],
   "source": [
    "# we only get accuracy about 35% if we shuffle data.\n",
    "# when samples are not iid. The order matter."
   ]
  },
  {
   "cell_type": "code",
   "execution_count": 19,
   "metadata": {},
   "outputs": [],
   "source": [
    "# instead intial hidden value from zeros, we let it learn from data."
   ]
  },
  {
   "cell_type": "code",
   "execution_count": 20,
   "metadata": {},
   "outputs": [
    {
     "name": "stdout",
     "output_type": "stream",
     "text": [
      "torch.Size([64, 30])\n"
     ]
    }
   ],
   "source": [
    "from torch.autograd import Variable\n",
    "\n",
    "class LMModel2(Module):\n",
    "    def __init__(self, vocab_sz, n_hidden):\n",
    "        super(LMModel2, self).__init__()\n",
    "        self.i_h = torch.nn.Embedding(vocab_sz, n_hidden)\n",
    "        self.h_h = torch.nn.Linear(n_hidden, n_hidden)\n",
    "        self.h_o = torch.nn.Linear(n_hidden, vocab_sz)\n",
    "        self.inital_h = Variable(torch.rand(1, n_hidden), requires_grad=True)\n",
    "    def forward(self, x):\n",
    "        h = self.inital_h\n",
    "        for i in range(3):\n",
    "            h = h + self.i_h(x[:, i])\n",
    "            h = F.relu(self.h_h(h))\n",
    "        return self.h_o(h)\n",
    "\n",
    "model2 = LMModel2(vocab_sz=len(vocabs), n_hidden=64)\n",
    "o4 = model2(b[0]); print(o4.shape)"
   ]
  },
  {
   "cell_type": "code",
   "execution_count": 21,
   "metadata": {},
   "outputs": [
    {
     "data": {
      "text/html": [
       "<table border=\"1\" class=\"dataframe\">\n",
       "  <thead>\n",
       "    <tr style=\"text-align: left;\">\n",
       "      <th>epoch</th>\n",
       "      <th>train_loss</th>\n",
       "      <th>valid_loss</th>\n",
       "      <th>accuracy</th>\n",
       "      <th>time</th>\n",
       "    </tr>\n",
       "  </thead>\n",
       "  <tbody>\n",
       "    <tr>\n",
       "      <td>0</td>\n",
       "      <td>1.513237</td>\n",
       "      <td>2.174897</td>\n",
       "      <td>0.485619</td>\n",
       "      <td>00:02</td>\n",
       "    </tr>\n",
       "    <tr>\n",
       "      <td>1</td>\n",
       "      <td>1.213942</td>\n",
       "      <td>2.012939</td>\n",
       "      <td>0.497742</td>\n",
       "      <td>00:02</td>\n",
       "    </tr>\n",
       "    <tr>\n",
       "      <td>2</td>\n",
       "      <td>1.236195</td>\n",
       "      <td>2.687970</td>\n",
       "      <td>0.430711</td>\n",
       "      <td>00:02</td>\n",
       "    </tr>\n",
       "    <tr>\n",
       "      <td>3</td>\n",
       "      <td>1.237812</td>\n",
       "      <td>2.484218</td>\n",
       "      <td>0.496553</td>\n",
       "      <td>00:01</td>\n",
       "    </tr>\n",
       "    <tr>\n",
       "      <td>4</td>\n",
       "      <td>1.360928</td>\n",
       "      <td>2.013160</td>\n",
       "      <td>0.408367</td>\n",
       "      <td>00:01</td>\n",
       "    </tr>\n",
       "    <tr>\n",
       "      <td>5</td>\n",
       "      <td>1.314140</td>\n",
       "      <td>1.695347</td>\n",
       "      <td>0.507012</td>\n",
       "      <td>00:01</td>\n",
       "    </tr>\n",
       "    <tr>\n",
       "      <td>6</td>\n",
       "      <td>1.283506</td>\n",
       "      <td>1.707710</td>\n",
       "      <td>0.507012</td>\n",
       "      <td>00:02</td>\n",
       "    </tr>\n",
       "    <tr>\n",
       "      <td>7</td>\n",
       "      <td>1.271556</td>\n",
       "      <td>1.669346</td>\n",
       "      <td>0.394105</td>\n",
       "      <td>00:01</td>\n",
       "    </tr>\n",
       "  </tbody>\n",
       "</table>"
      ],
      "text/plain": [
       "<IPython.core.display.HTML object>"
      ]
     },
     "metadata": {},
     "output_type": "display_data"
    }
   ],
   "source": [
    "learn = Learner(dls, model2, loss_func=F.cross_entropy, metrics=accuracy)\n",
    "learn.fit_one_cycle(8, 1e-2)"
   ]
  },
  {
   "cell_type": "code",
   "execution_count": 22,
   "metadata": {
    "scrolled": true
   },
   "outputs": [
    {
     "data": {
      "text/html": [
       "<table border=\"1\" class=\"dataframe\">\n",
       "  <thead>\n",
       "    <tr style=\"text-align: left;\">\n",
       "      <th>epoch</th>\n",
       "      <th>train_loss</th>\n",
       "      <th>valid_loss</th>\n",
       "      <th>accuracy</th>\n",
       "      <th>time</th>\n",
       "    </tr>\n",
       "  </thead>\n",
       "  <tbody>\n",
       "    <tr>\n",
       "      <td>0</td>\n",
       "      <td>2.433463</td>\n",
       "      <td>2.243866</td>\n",
       "      <td>0.424631</td>\n",
       "      <td>00:01</td>\n",
       "    </tr>\n",
       "    <tr>\n",
       "      <td>1</td>\n",
       "      <td>1.415526</td>\n",
       "      <td>2.031033</td>\n",
       "      <td>0.480266</td>\n",
       "      <td>00:01</td>\n",
       "    </tr>\n",
       "    <tr>\n",
       "      <td>2</td>\n",
       "      <td>1.356055</td>\n",
       "      <td>1.907913</td>\n",
       "      <td>0.485021</td>\n",
       "      <td>00:01</td>\n",
       "    </tr>\n",
       "    <tr>\n",
       "      <td>3</td>\n",
       "      <td>1.328258</td>\n",
       "      <td>1.774331</td>\n",
       "      <td>0.492867</td>\n",
       "      <td>00:01</td>\n",
       "    </tr>\n",
       "    <tr>\n",
       "      <td>4</td>\n",
       "      <td>1.309693</td>\n",
       "      <td>1.704420</td>\n",
       "      <td>0.496196</td>\n",
       "      <td>00:01</td>\n",
       "    </tr>\n",
       "    <tr>\n",
       "      <td>5</td>\n",
       "      <td>1.314583</td>\n",
       "      <td>1.646431</td>\n",
       "      <td>0.502378</td>\n",
       "      <td>00:01</td>\n",
       "    </tr>\n",
       "    <tr>\n",
       "      <td>6</td>\n",
       "      <td>1.308275</td>\n",
       "      <td>1.613481</td>\n",
       "      <td>0.501902</td>\n",
       "      <td>00:01</td>\n",
       "    </tr>\n",
       "    <tr>\n",
       "      <td>7</td>\n",
       "      <td>1.284941</td>\n",
       "      <td>1.634750</td>\n",
       "      <td>0.457680</td>\n",
       "      <td>00:01</td>\n",
       "    </tr>\n",
       "  </tbody>\n",
       "</table>"
      ],
      "text/plain": [
       "<IPython.core.display.HTML object>"
      ]
     },
     "metadata": {},
     "output_type": "display_data"
    }
   ],
   "source": [
    "# extend input length from 3 to 4\n",
    "# L([(tokens[i:i+3], tokens[i+3]) for i in range(0, len(tokens)-4, 3)])\n",
    "seqs = L([(tensor(nums[i:i+4]), nums[i+4]) for i in range(0, len(nums)-5, 3)])\n",
    "\n",
    "bs = 64\n",
    "cut = int(len(seqs) * 0.8)\n",
    "dls = DataLoaders.from_dsets(seqs[:cut], seqs[cut:], bs=bs, shuffle=False)\n",
    "\n",
    "class LMModel3(Module):\n",
    "    def __init__(self, vocab_sz, n_hidden):\n",
    "        super(LMModel3, self).__init__()\n",
    "        self.i_h = torch.nn.Embedding(vocab_sz, n_hidden)\n",
    "        self.h_h = torch.nn.Linear(n_hidden, n_hidden)\n",
    "        self.h_o = torch.nn.Linear(n_hidden, vocab_sz)\n",
    "        self.inital_h = Variable(torch.rand(1, n_hidden), requires_grad=True)\n",
    "    def forward(self, x):\n",
    "        h = self.inital_h\n",
    "        for i in range(4):\n",
    "            h = h + self.i_h(x[:, i])\n",
    "            h = F.relu(self.h_h(h))\n",
    "        return self.h_o(h)\n",
    "\n",
    "model3 = LMModel3(vocab_sz=len(vocabs), n_hidden=64)\n",
    "\n",
    "learn = Learner(dls, model3, loss_func=F.cross_entropy, metrics=accuracy)\n",
    "learn.fit_one_cycle(8, 1e-3)"
   ]
  },
  {
   "cell_type": "code",
   "execution_count": 23,
   "metadata": {},
   "outputs": [
    {
     "data": {
      "text/plain": [
       "[3, 4]"
      ]
     },
     "execution_count": 23,
     "metadata": {},
     "output_type": "execute_result"
    }
   ],
   "source": [
    "i = 0\n",
    "[0,1,2,3,4,5][i+3:i+5]"
   ]
  },
  {
   "cell_type": "code",
   "execution_count": 24,
   "metadata": {},
   "outputs": [
    {
     "data": {
      "text/plain": [
       "(torch.Size([64, 4]), torch.Size([64, 2]))"
      ]
     },
     "execution_count": 24,
     "metadata": {},
     "output_type": "execute_result"
    }
   ],
   "source": [
    "# save all hidden states instead of the last one. using it to calculate loss.\n",
    "# L([(tokens[i:i+3], tokens[i+1:i+4]) for i in range(0, len(tokens)-4, 3)])\n",
    "seqs = L([(tensor(nums[i:i+4]), tensor(nums[i+3:i+5])) for i in range(0, len(nums)-5, 3)])\n",
    "bs = 64\n",
    "cut = int(len(seqs) * 0.8)\n",
    "dls = DataLoaders.from_dsets(seqs[:cut], seqs[cut:], bs=bs, shuffle=False)\n",
    "X , y = dls.one_batch()\n",
    "X.shape, y.shape"
   ]
  },
  {
   "cell_type": "code",
   "execution_count": 25,
   "metadata": {},
   "outputs": [
    {
     "name": "stdout",
     "output_type": "stream",
     "text": [
      "torch.Size([64, 2, 30])\n"
     ]
    }
   ],
   "source": [
    "from torch.autograd import Variable\n",
    "\n",
    "class LMModel3(Module):\n",
    "    def __init__(self, vocab_sz, n_hidden):\n",
    "        super(LMModel3, self).__init__()\n",
    "        self.i_h = torch.nn.Embedding(vocab_sz, n_hidden)\n",
    "        self.h_h = torch.nn.Linear(n_hidden, n_hidden)\n",
    "        self.h_o = torch.nn.Linear(n_hidden, vocab_sz)\n",
    "        self.inital_h = Variable(torch.rand(1, n_hidden), requires_grad=True)\n",
    "\n",
    "    def forward(self, x):\n",
    "        h = self.inital_h\n",
    "        outs = []\n",
    "        for i in range(4):\n",
    "            h = h + self.i_h(x[:, i])\n",
    "            h = F.relu(self.h_h(h))\n",
    "            if i>=2: outs.append(self.h_o(h))\n",
    "        return torch.stack(outs, dim=1)\n",
    "\n",
    "model3 = LMModel3(vocab_sz=len(vocabs), n_hidden=64)\n",
    "o4 = model3(X); print(o4.shape)"
   ]
  },
  {
   "cell_type": "code",
   "execution_count": 26,
   "metadata": {},
   "outputs": [],
   "source": [
    "def loss_function(inp, targ):\n",
    "    return F.cross_entropy(inp.view(-1, len(vocabs)), targ.view(-1))"
   ]
  },
  {
   "cell_type": "code",
   "execution_count": 27,
   "metadata": {},
   "outputs": [
    {
     "data": {
      "text/plain": [
       "tensor(3.4377, grad_fn=<NllLossBackward>)"
      ]
     },
     "execution_count": 27,
     "metadata": {},
     "output_type": "execute_result"
    }
   ],
   "source": [
    "loss_function(o4, y)"
   ]
  },
  {
   "cell_type": "code",
   "execution_count": 28,
   "metadata": {},
   "outputs": [
    {
     "data": {
      "text/html": [
       "<table border=\"1\" class=\"dataframe\">\n",
       "  <thead>\n",
       "    <tr style=\"text-align: left;\">\n",
       "      <th>epoch</th>\n",
       "      <th>train_loss</th>\n",
       "      <th>valid_loss</th>\n",
       "      <th>accuracy</th>\n",
       "      <th>time</th>\n",
       "    </tr>\n",
       "  </thead>\n",
       "  <tbody>\n",
       "    <tr>\n",
       "      <td>0</td>\n",
       "      <td>1.493052</td>\n",
       "      <td>1.989056</td>\n",
       "      <td>0.477294</td>\n",
       "      <td>00:02</td>\n",
       "    </tr>\n",
       "    <tr>\n",
       "      <td>1</td>\n",
       "      <td>1.323665</td>\n",
       "      <td>1.834136</td>\n",
       "      <td>0.454351</td>\n",
       "      <td>00:05</td>\n",
       "    </tr>\n",
       "    <tr>\n",
       "      <td>2</td>\n",
       "      <td>1.352542</td>\n",
       "      <td>1.581849</td>\n",
       "      <td>0.483952</td>\n",
       "      <td>00:02</td>\n",
       "    </tr>\n",
       "    <tr>\n",
       "      <td>3</td>\n",
       "      <td>1.444858</td>\n",
       "      <td>1.612293</td>\n",
       "      <td>0.426058</td>\n",
       "      <td>00:02</td>\n",
       "    </tr>\n",
       "  </tbody>\n",
       "</table>"
      ],
      "text/plain": [
       "<IPython.core.display.HTML object>"
      ]
     },
     "metadata": {},
     "output_type": "display_data"
    }
   ],
   "source": [
    "learn = Learner(dls, model3, loss_func=loss_function, metrics=accuracy)\n",
    "learn.fit_one_cycle(4, 3e-3)"
   ]
  },
  {
   "cell_type": "code",
   "execution_count": 29,
   "metadata": {},
   "outputs": [],
   "source": [
    "# Using the last state of the previous batch as the inital state of next batch."
   ]
  },
  {
   "cell_type": "code",
   "execution_count": 30,
   "metadata": {},
   "outputs": [
    {
     "name": "stdout",
     "output_type": "stream",
     "text": [
      "(tensor([0, 1, 2]), 1) (tensor([ 2, 28, 23]), 3)\n",
      "(tensor([3, 1, 2]), 28) (tensor([0, 1, 4]), 28)\n"
     ]
    }
   ],
   "source": [
    "seqs = L([(tensor(nums[i:i+3]), nums[i+3]) for i in range(0, len(nums)-4, 3)])\n",
    "bs = 64\n",
    "m = len(seqs) // 64\n",
    "# reorder seqs to reuse the last state\n",
    "print(seqs[0], seqs[m-1])\n",
    "print(seqs[m], seqs[2*m-1])\n",
    "\n",
    "def group_chucks(ds, bs):\n",
    "    m = len(ds) // bs\n",
    "    reorder_seqs = L()\n",
    "    for m_i in range(m): reorder_seqs += [seqs[bs_i*m + m_i] for bs_i in range(bs)]\n",
    "    return reorder_seqs\n",
    "\n",
    "dls = DataLoaders.from_dsets(group_chucks(seqs[:cut], bs), group_chucks(seqs[cut:], bs), bs=bs, shuffle=False, drop_last=True)\n",
    "# X, y = dls.one_batch()"
   ]
  },
  {
   "cell_type": "code",
   "execution_count": 31,
   "metadata": {},
   "outputs": [
    {
     "name": "stdout",
     "output_type": "stream",
     "text": [
      "torch.Size([64, 30])\n"
     ]
    }
   ],
   "source": [
    "from torch.autograd import Variable\n",
    "\n",
    "class LMModel4(Module):\n",
    "    def __init__(self, vocab_sz, n_hidden):\n",
    "        super(LMModel4, self).__init__()\n",
    "        self.i_h = torch.nn.Embedding(vocab_sz, n_hidden)\n",
    "        self.h_h = torch.nn.Linear(n_hidden, n_hidden)\n",
    "        self.h_o = torch.nn.Linear(n_hidden, vocab_sz)\n",
    "        self.inital_h = Variable(torch.rand(1, n_hidden), requires_grad=True)\n",
    "\n",
    "    def forward(self, x):\n",
    "        for i in range(3):\n",
    "            self.h = self.h + self.i_h(x[:, i])\n",
    "            self.h = F.relu(self.h_h(self.h))\n",
    "        out = self.h_o(self.h)\n",
    "        self.h = self.h.detach()\n",
    "        return out\n",
    "    \n",
    "    def reset(self): self.h = 0\n",
    "        \n",
    "model4 = LMModel4(vocab_sz=len(vocabs), n_hidden=64)\n",
    "model4.reset()\n",
    "o4 = model4(X); print(o4.shape)"
   ]
  },
  {
   "cell_type": "code",
   "execution_count": 32,
   "metadata": {},
   "outputs": [
    {
     "data": {
      "text/html": [
       "<table border=\"1\" class=\"dataframe\">\n",
       "  <thead>\n",
       "    <tr style=\"text-align: left;\">\n",
       "      <th>epoch</th>\n",
       "      <th>train_loss</th>\n",
       "      <th>valid_loss</th>\n",
       "      <th>accuracy</th>\n",
       "      <th>time</th>\n",
       "    </tr>\n",
       "  </thead>\n",
       "  <tbody>\n",
       "    <tr>\n",
       "      <td>0</td>\n",
       "      <td>1.734186</td>\n",
       "      <td>1.784795</td>\n",
       "      <td>0.414423</td>\n",
       "      <td>00:01</td>\n",
       "    </tr>\n",
       "    <tr>\n",
       "      <td>1</td>\n",
       "      <td>1.287117</td>\n",
       "      <td>1.495087</td>\n",
       "      <td>0.464904</td>\n",
       "      <td>00:01</td>\n",
       "    </tr>\n",
       "    <tr>\n",
       "      <td>2</td>\n",
       "      <td>1.078313</td>\n",
       "      <td>1.379143</td>\n",
       "      <td>0.517067</td>\n",
       "      <td>00:01</td>\n",
       "    </tr>\n",
       "    <tr>\n",
       "      <td>3</td>\n",
       "      <td>1.016521</td>\n",
       "      <td>1.218339</td>\n",
       "      <td>0.549279</td>\n",
       "      <td>00:01</td>\n",
       "    </tr>\n",
       "    <tr>\n",
       "      <td>4</td>\n",
       "      <td>0.957809</td>\n",
       "      <td>1.102992</td>\n",
       "      <td>0.588221</td>\n",
       "      <td>00:01</td>\n",
       "    </tr>\n",
       "    <tr>\n",
       "      <td>5</td>\n",
       "      <td>0.899413</td>\n",
       "      <td>0.990202</td>\n",
       "      <td>0.604808</td>\n",
       "      <td>00:01</td>\n",
       "    </tr>\n",
       "    <tr>\n",
       "      <td>6</td>\n",
       "      <td>0.855093</td>\n",
       "      <td>0.940884</td>\n",
       "      <td>0.618510</td>\n",
       "      <td>00:01</td>\n",
       "    </tr>\n",
       "    <tr>\n",
       "      <td>7</td>\n",
       "      <td>0.818563</td>\n",
       "      <td>0.902781</td>\n",
       "      <td>0.636779</td>\n",
       "      <td>00:01</td>\n",
       "    </tr>\n",
       "    <tr>\n",
       "      <td>8</td>\n",
       "      <td>0.772911</td>\n",
       "      <td>0.874325</td>\n",
       "      <td>0.661779</td>\n",
       "      <td>00:01</td>\n",
       "    </tr>\n",
       "    <tr>\n",
       "      <td>9</td>\n",
       "      <td>0.755985</td>\n",
       "      <td>0.853539</td>\n",
       "      <td>0.661058</td>\n",
       "      <td>00:01</td>\n",
       "    </tr>\n",
       "  </tbody>\n",
       "</table>"
      ],
      "text/plain": [
       "<IPython.core.display.HTML object>"
      ]
     },
     "metadata": {},
     "output_type": "display_data"
    }
   ],
   "source": [
    "learn = Learner(dls, model4, loss_func=F.cross_entropy, metrics=accuracy, cbs=[ModelResetter])\n",
    "\n",
    "# learn.lr_find()\n",
    "\n",
    "learn.fit_one_cycle(10, 3e-3)"
   ]
  },
  {
   "cell_type": "code",
   "execution_count": 44,
   "metadata": {},
   "outputs": [
    {
     "name": "stdout",
     "output_type": "stream",
     "text": [
      "(tensor([0, 1, 2, 1, 3, 1, 4, 1, 5, 1, 6, 1, 7, 1, 8, 1]), tensor([1, 2, 1, 3, 1, 4, 1, 5, 1, 6, 1, 7, 1, 8, 1, 9])) (tensor([ 8,  1,  2, 28, 22,  9,  1,  2, 28, 23,  1,  2, 28, 23,  0,  1]), tensor([ 1,  2, 28, 22,  9,  1,  2, 28, 23,  1,  2, 28, 23,  0,  1,  2]))\n",
      "(tensor([ 2, 28, 23,  2,  1,  2, 28, 23,  3,  1,  2, 28, 23,  4,  1,  2]), tensor([28, 23,  2,  1,  2, 28, 23,  3,  1,  2, 28, 23,  4,  1,  2, 28])) (tensor([ 5,  1,  4, 28, 23,  6,  1,  4, 28, 23,  7,  1,  4, 28, 23,  8]), tensor([ 1,  4, 28, 23,  6,  1,  4, 28, 23,  7,  1,  4, 28, 23,  8,  1]))\n"
     ]
    }
   ],
   "source": [
    "# creating more signal:\n",
    "ls = 16\n",
    "seqs = L([(tensor(nums[i:i+ls]), tensor(nums[i+1:i+1+ls])) for i in range(0, len(nums)-ls-1, ls)])\n",
    "cut = int(len(seqs) * 0.80)\n",
    "bs = 64\n",
    "m = len(seqs) // 64\n",
    "# reorder seqs to reuse the last state\n",
    "print(seqs[0], seqs[m-1])\n",
    "print(seqs[m], seqs[2*m-1])\n",
    "\n",
    "def group_chucks(ds, bs):\n",
    "    m = len(ds) // bs\n",
    "    reorder_seqs = L()\n",
    "    for m_i in range(m): reorder_seqs += [seqs[bs_i*m + m_i] for bs_i in range(bs)]\n",
    "    return reorder_seqs\n",
    "\n",
    "dls = DataLoaders.from_dsets(group_chucks(seqs[:cut], bs), group_chucks(seqs[cut:], bs), bs=bs, shuffle=False, drop_last=True)\n",
    "X, y = dls.one_batch()"
   ]
  },
  {
   "cell_type": "code",
   "execution_count": 45,
   "metadata": {},
   "outputs": [
    {
     "name": "stdout",
     "output_type": "stream",
     "text": [
      "torch.Size([64, 16, 30])\n"
     ]
    }
   ],
   "source": [
    "from torch.autograd import Variable\n",
    "\n",
    "class LMModel5(Module):\n",
    "    def __init__(self, vocab_sz, n_hidden):\n",
    "        super(LMModel5, self).__init__()\n",
    "        self.i_h = torch.nn.Embedding(vocab_sz, n_hidden)\n",
    "        self.h_h = torch.nn.Linear(n_hidden, n_hidden)\n",
    "        self.h_o = torch.nn.Linear(n_hidden, vocab_sz)\n",
    "        self.h = 0\n",
    "    def forward(self, x):\n",
    "        outs = []\n",
    "        for i in range(ls):\n",
    "            self.h = self.h + self.i_h(x[:, i])\n",
    "            self.h = F.relu(self.h_h(self.h))\n",
    "            outs.append(self.h_o(self.h))\n",
    "        self.h = self.h.detach()\n",
    "        return torch.stack(outs, dim=1)\n",
    "    \n",
    "    def reset(self): self.h = 0\n",
    "\n",
    "\n",
    "model5 = LMModel5(vocab_sz=len(vocabs), n_hidden=64)\n",
    "model5.reset()\n",
    "o4 = model5(X); print(o4.shape)"
   ]
  },
  {
   "cell_type": "code",
   "execution_count": 46,
   "metadata": {},
   "outputs": [],
   "source": [
    "learn = Learner(dls, model5, loss_func=loss_function, metrics=accuracy, cbs=[ModelResetter])"
   ]
  },
  {
   "cell_type": "code",
   "execution_count": 47,
   "metadata": {},
   "outputs": [
    {
     "data": {
      "text/html": [],
      "text/plain": [
       "<IPython.core.display.HTML object>"
      ]
     },
     "metadata": {},
     "output_type": "display_data"
    },
    {
     "data": {
      "text/plain": [
       "SuggestedLRs(lr_min=0.03019951581954956, lr_steep=0.010964781977236271)"
      ]
     },
     "execution_count": 47,
     "metadata": {},
     "output_type": "execute_result"
    },
    {
     "data": {
      "image/png": "[encoded data removed]",
      "text/plain": [
       "<Figure size 432x288 with 1 Axes>"
      ]
     },
     "metadata": {
      "needs_background": "light"
     },
     "output_type": "display_data"
    }
   ],
   "source": [
    "learn.lr_find()"
   ]
  },
  {
   "cell_type": "code",
   "execution_count": 48,
   "metadata": {},
   "outputs": [
    {
     "data": {
      "text/html": [
       "<table border=\"1\" class=\"dataframe\">\n",
       "  <thead>\n",
       "    <tr style=\"text-align: left;\">\n",
       "      <th>epoch</th>\n",
       "      <th>train_loss</th>\n",
       "      <th>valid_loss</th>\n",
       "      <th>accuracy</th>\n",
       "      <th>time</th>\n",
       "    </tr>\n",
       "  </thead>\n",
       "  <tbody>\n",
       "    <tr>\n",
       "      <td>0</td>\n",
       "      <td>3.241925</td>\n",
       "      <td>2.978011</td>\n",
       "      <td>0.253337</td>\n",
       "      <td>00:00</td>\n",
       "    </tr>\n",
       "    <tr>\n",
       "      <td>1</td>\n",
       "      <td>2.288593</td>\n",
       "      <td>1.789420</td>\n",
       "      <td>0.397217</td>\n",
       "      <td>00:00</td>\n",
       "    </tr>\n",
       "    <tr>\n",
       "      <td>2</td>\n",
       "      <td>1.723006</td>\n",
       "      <td>1.516585</td>\n",
       "      <td>0.475749</td>\n",
       "      <td>00:00</td>\n",
       "    </tr>\n",
       "    <tr>\n",
       "      <td>3</td>\n",
       "      <td>1.436987</td>\n",
       "      <td>1.411505</td>\n",
       "      <td>0.509766</td>\n",
       "      <td>00:00</td>\n",
       "    </tr>\n",
       "    <tr>\n",
       "      <td>4</td>\n",
       "      <td>1.284275</td>\n",
       "      <td>1.315724</td>\n",
       "      <td>0.537842</td>\n",
       "      <td>00:00</td>\n",
       "    </tr>\n",
       "    <tr>\n",
       "      <td>5</td>\n",
       "      <td>1.151206</td>\n",
       "      <td>1.209869</td>\n",
       "      <td>0.573730</td>\n",
       "      <td>00:00</td>\n",
       "    </tr>\n",
       "    <tr>\n",
       "      <td>6</td>\n",
       "      <td>1.038243</td>\n",
       "      <td>1.152799</td>\n",
       "      <td>0.583252</td>\n",
       "      <td>00:00</td>\n",
       "    </tr>\n",
       "    <tr>\n",
       "      <td>7</td>\n",
       "      <td>0.956245</td>\n",
       "      <td>1.065239</td>\n",
       "      <td>0.628255</td>\n",
       "      <td>00:00</td>\n",
       "    </tr>\n",
       "    <tr>\n",
       "      <td>8</td>\n",
       "      <td>0.885087</td>\n",
       "      <td>1.009890</td>\n",
       "      <td>0.655843</td>\n",
       "      <td>00:00</td>\n",
       "    </tr>\n",
       "    <tr>\n",
       "      <td>9</td>\n",
       "      <td>0.838413</td>\n",
       "      <td>0.998199</td>\n",
       "      <td>0.656250</td>\n",
       "      <td>00:00</td>\n",
       "    </tr>\n",
       "    <tr>\n",
       "      <td>10</td>\n",
       "      <td>0.786725</td>\n",
       "      <td>0.955438</td>\n",
       "      <td>0.669352</td>\n",
       "      <td>00:00</td>\n",
       "    </tr>\n",
       "    <tr>\n",
       "      <td>11</td>\n",
       "      <td>0.752286</td>\n",
       "      <td>0.936839</td>\n",
       "      <td>0.683675</td>\n",
       "      <td>00:00</td>\n",
       "    </tr>\n",
       "    <tr>\n",
       "      <td>12</td>\n",
       "      <td>0.721440</td>\n",
       "      <td>0.926939</td>\n",
       "      <td>0.682780</td>\n",
       "      <td>00:00</td>\n",
       "    </tr>\n",
       "    <tr>\n",
       "      <td>13</td>\n",
       "      <td>0.703828</td>\n",
       "      <td>0.907585</td>\n",
       "      <td>0.694987</td>\n",
       "      <td>00:00</td>\n",
       "    </tr>\n",
       "    <tr>\n",
       "      <td>14</td>\n",
       "      <td>0.689891</td>\n",
       "      <td>0.903549</td>\n",
       "      <td>0.701091</td>\n",
       "      <td>00:00</td>\n",
       "    </tr>\n",
       "  </tbody>\n",
       "</table>"
      ],
      "text/plain": [
       "<IPython.core.display.HTML object>"
      ]
     },
     "metadata": {},
     "output_type": "display_data"
    }
   ],
   "source": [
    "learn.fit_one_cycle(15, 3e-3)"
   ]
  }
 ],
 "metadata": {
  "interpreter": {
   "hash": "60ba4aafa20d668f76212e1b57158d4f6ea4305eb74b28aa6dec647267ce0f8a"
  },
  "kernelspec": {
   "display_name": "Python 3",
   "language": "python",
   "name": "python3"
  },
  "language_info": {
   "codemirror_mode": {
    "name": "ipython",
    "version": 3
   },
   "file_extension": ".py",
   "mimetype": "text/x-python",
   "name": "python",
   "nbconvert_exporter": "python",
   "pygments_lexer": "ipython3",
   "version": "3.6.10"
  }
 },
 "nbformat": 4,
 "nbformat_minor": 2
}
