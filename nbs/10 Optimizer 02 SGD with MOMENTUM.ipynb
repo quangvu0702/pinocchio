{
 "cells": [
  {
   "cell_type": "code",
   "execution_count": 1,
   "metadata": {},
   "outputs": [
    {
     "data": {
      "text/plain": [
       "'cuda'"
      ]
     },
     "execution_count": 1,
     "metadata": {},
     "output_type": "execute_result"
    }
   ],
   "source": [
    "import torch\n",
    "device = 'cuda' if torch.cuda.is_available() else 'cpu'\n",
    "device"
   ]
  },
  {
   "cell_type": "code",
   "execution_count": 2,
   "metadata": {},
   "outputs": [
    {
     "data": {
      "text/plain": [
       "(torch.Size([60000, 28, 28]), torch.Size([10000, 28, 28]))"
      ]
     },
     "execution_count": 2,
     "metadata": {},
     "output_type": "execute_result"
    }
   ],
   "source": [
    "# 1.a Dataset\n",
    "from torchvision import datasets\n",
    "from torchvision.transforms import ToTensor\n",
    "\n",
    "training_data = datasets.FashionMNIST(\n",
    "    root=\"data\",\n",
    "    train=True,\n",
    "    download=True,\n",
    "    transform=ToTensor())\n",
    "\n",
    "testing_data = datasets.FashionMNIST(\n",
    "    root=\"data\",\n",
    "    train=False,\n",
    "    download=True,\n",
    "    transform=ToTensor())\n",
    "\n",
    "training_data.data.shape, testing_data.data.shape"
   ]
  },
  {
   "cell_type": "code",
   "execution_count": 3,
   "metadata": {},
   "outputs": [
    {
     "data": {
      "text/plain": [
       "(torch.Size([64, 1, 28, 28]), torch.Size([64]))"
      ]
     },
     "execution_count": 3,
     "metadata": {},
     "output_type": "execute_result"
    }
   ],
   "source": [
    "# 1.b DataLoader\n",
    "from torch.utils.data import DataLoader\n",
    "\n",
    "training_dataloader = DataLoader(training_data, 64, shuffle=True)\n",
    "testing_dataloader = DataLoader(testing_data, 64, shuffle=False)\n",
    "\n",
    "X, y = next(iter(training_dataloader))\n",
    "X.shape, y.shape"
   ]
  },
  {
   "cell_type": "code",
   "execution_count": 4,
   "metadata": {},
   "outputs": [],
   "source": [
    "cuda_X, cuda_y = X.to(device), y.to(device)"
   ]
  },
  {
   "cell_type": "code",
   "execution_count": 5,
   "metadata": {},
   "outputs": [],
   "source": [
    "# play with conv layer\n",
    "from torch import nn\n",
    "\n",
    "# build a conv layer with basic parameter\n",
    "# n input channel, n output feature, ks:kenel size, act:activate\n",
    "def conv(ni, nf, ks=3, stride=1, act=True):\n",
    "    layers = [nn.Conv2d(ni, nf, stride=stride, kernel_size=ks, padding=ks//2)]\n",
    "    layers.append(nn.BatchNorm2d(nf))\n",
    "    if act: layers.append(nn.ReLU())\n",
    "    res = nn.Sequential(*layers)\n",
    "    return res\n",
    "\n",
    "def block(ni, nf): return conv(ni, nf)\n",
    "\n",
    "# get model from block\n",
    "def get_model():\n",
    "    return nn.Sequential(\n",
    "            block(1,16),   #14x14\n",
    "            block(16,32),  #7x7\n",
    "            block(32, 64), #4x4\n",
    "            block(64, 128),#2x2\n",
    "            block(128,256),#1x1\n",
    "            nn.AdaptiveAvgPool2d(1),\n",
    "            nn.Flatten(),\n",
    "            nn.Linear(256, 10)).to(device)"
   ]
  },
  {
   "cell_type": "code",
   "execution_count": 6,
   "metadata": {},
   "outputs": [],
   "source": [
    "# Learning rate finder:\n",
    "import matplotlib.pyplot as plt\n",
    "\n",
    "def learning_rate_finder(model, dataloader, opt=None, cut_off=3):\n",
    "    lr = 1e-6\n",
    "    lrs = []\n",
    "    losses = []\n",
    "    optimizer = opt(model.parameters(), lr=lr)\n",
    "\n",
    "    for X, y in dataloader:\n",
    "        X, y = X.to(device), y.to(device)\n",
    "        y_hat = model(X)\n",
    "        loss = loss_fn(y_hat, y)\n",
    "        lrs.append(optimizer.param_groups[0]['lr'])\n",
    "        losses.append(loss.item())\n",
    "        loss.backward()\n",
    "        optimizer.step()\n",
    "        optimizer.zero_grad()\n",
    "        # update lr\n",
    "        optimizer.param_groups[0]['lr'] *= 1.1\n",
    "        if optimizer.param_groups[0]['lr'] > 1: break\n",
    "    plt.xscale('log')\n",
    "    plt.plot(lrs[0:-cut_off], losses[0:-cut_off])\n",
    "    plt.show()"
   ]
  },
  {
   "cell_type": "code",
   "execution_count": 7,
   "metadata": {},
   "outputs": [],
   "source": [
    "# 5. Combine things together:\n",
    "# train model\n",
    "def train(model, dataloader, opt=None, epochs=2):\n",
    "    size = len(dataloader.dataset)\n",
    "    for epoch in range(epochs):\n",
    "        print(epoch)\n",
    "        for batch, (X, y) in enumerate(dataloader):\n",
    "            X, y = X.to(device), y.to(device)\n",
    "            y_hat = model(X)\n",
    "            loss = loss_fn(y_hat, y)\n",
    "\n",
    "            # backward\n",
    "            loss.backward()\n",
    "            opt.step()\n",
    "            opt.zero_grad()\n",
    "\n",
    "            if batch % 300 == 0:\n",
    "                loss, current = loss.item(), batch * len(X)\n",
    "                print(f\"loss: {loss:>7f}  [{current:>5d}/{size:>5d}]\")\n",
    "\n",
    "# learning_rate_finder(model, training_dataloader)\n",
    "# optimizer = SGD(model.parameters(), lr=1e-2)\n",
    "# train(model, training_dataloader, optimizer)"
   ]
  },
  {
   "cell_type": "code",
   "execution_count": 8,
   "metadata": {},
   "outputs": [],
   "source": [
    "def test(model, testing_dataloader):\n",
    "    size = len(testing_dataloader.dataset)\n",
    "    total = 0\n",
    "    for X, y in testing_dataloader:\n",
    "        X, y = X.to(device), y.to(device)\n",
    "        y_hat = model(X)\n",
    "        total += sum(y_hat.argmax(1) == y).item()\n",
    "    print(f'Accuracy: {total/size:>2f}')\n",
    "    \n",
    "# test(model, testing_dataloader)"
   ]
  },
  {
   "cell_type": "code",
   "execution_count": 9,
   "metadata": {},
   "outputs": [],
   "source": [
    "from IPython.core.debugger import set_trace\n",
    "\n",
    "def noop(x):\n",
    "    return x\n",
    "\n",
    "# ResnetBlock\n",
    "class ResnetBlock(nn.Module):\n",
    "    def __init__(self, ni, nf, stride=2):\n",
    "        super(ResnetBlock, self).__init__()\n",
    "        self.convs = nn.Sequential(\n",
    "                        conv(ni, nf),\n",
    "                        conv(nf, nf, stride=stride, act=False))\n",
    "        self.pool = noop if stride == 1 else nn.AvgPool2d(stride, ceil_mode=True)\n",
    "        self.idconv = noop if ni == nf else conv(ni, nf, ks=1, act=False)\n",
    "    def forward(self, x):\n",
    "        return nn.ReLU()(self.convs(x) + self.idconv(self.pool(x)))"
   ]
  },
  {
   "cell_type": "code",
   "execution_count": 10,
   "metadata": {},
   "outputs": [],
   "source": [
    "# Resnet block\n",
    "def block(ni, nf): return ResnetBlock(ni, nf)\n",
    "# model = get_model()\n",
    "# learning_rate_finder(model, training_dataloader) # 1e-3\n",
    "# optimizer = SGD(model.parameters(), lr=1e-3)\n",
    "# train(model, training_dataloader, optimizer, 3)\n",
    "# test(model, testing_dataloader)\n",
    "# 0.893100"
   ]
  },
  {
   "cell_type": "code",
   "execution_count": 34,
   "metadata": {},
   "outputs": [],
   "source": [
    "class SGDOptimizer():\n",
    "    def __init__(self, params, lr, mom=0):\n",
    "        self.params = list(params)\n",
    "        self.param_groups = [{}]\n",
    "        self.param_groups[0]['lr'] = lr\n",
    "        self.mom = mom\n",
    "        self.avg_grad = {}\n",
    "\n",
    "    def zero_grad(self):\n",
    "        for p in self.params:\n",
    "            p.grad.detach_()\n",
    "            p.grad.zero_()\n",
    "\n",
    "    def step(self):\n",
    "        for p in self.params:\n",
    "            # get avg_grad:\n",
    "            avg_grad = self.avg_grad[p] if p in self.avg_grad else torch.zeros_like(p)\n",
    "            # update avg_grad:\n",
    "            avg_grad = avg_grad * self.mom + p.grad.data\n",
    "            self.avg_grad[p] = avg_grad\n",
    "            # step\n",
    "            p.data -= self.param_groups[0]['lr'] * avg_grad"
   ]
  },
  {
   "cell_type": "code",
   "execution_count": 28,
   "metadata": {},
   "outputs": [
    {
     "data": {
      "text/plain": [
       "torch.Size([64, 1, 28, 28])"
      ]
     },
     "execution_count": 28,
     "metadata": {},
     "output_type": "execute_result"
    }
   ],
   "source": [
    "X.shape"
   ]
  },
  {
   "cell_type": "code",
   "execution_count": 29,
   "metadata": {},
   "outputs": [
    {
     "data": {
      "text/plain": [
       "torch.Size([64, 1, 28, 28])"
      ]
     },
     "execution_count": 29,
     "metadata": {},
     "output_type": "execute_result"
    }
   ],
   "source": [
    "torch.zeros_like(X).shape"
   ]
  },
  {
   "cell_type": "code",
   "execution_count": 35,
   "metadata": {
    "scrolled": true
   },
   "outputs": [
    {
     "data": {
      "image/png": "[encoded data removed]",
      "text/plain": [
       "<Figure size 432x288 with 1 Axes>"
      ]
     },
     "metadata": {
      "needs_background": "light"
     },
     "output_type": "display_data"
    }
   ],
   "source": [
    "# Train model:\n",
    "model = get_model()\n",
    "loss_fn = nn.CrossEntropyLoss()\n",
    "learning_rate_finder(model, training_dataloader, opt=SGDOptimizer) # 3e-3"
   ]
  },
  {
   "cell_type": "code",
   "execution_count": 36,
   "metadata": {},
   "outputs": [
    {
     "name": "stdout",
     "output_type": "stream",
     "text": [
      "0\n",
      "loss: 2.507818  [    0/60000]\n",
      "loss: 0.785083  [19200/60000]\n",
      "loss: 0.536696  [38400/60000]\n",
      "loss: 0.519710  [57600/60000]\n",
      "1\n",
      "loss: 0.553348  [    0/60000]\n",
      "loss: 0.269702  [19200/60000]\n",
      "loss: 0.335601  [38400/60000]\n",
      "loss: 0.272002  [57600/60000]\n",
      "2\n",
      "loss: 0.351417  [    0/60000]\n",
      "loss: 0.442982  [19200/60000]\n",
      "loss: 0.465858  [38400/60000]\n",
      "loss: 0.428826  [57600/60000]\n",
      "Accuracy: 0.865800\n"
     ]
    }
   ],
   "source": [
    "model = get_model()\n",
    "optimizer = SGDOptimizer(model.parameters(), lr=1e-3)\n",
    "train(model, training_dataloader, optimizer, 3)\n",
    "test(model, testing_dataloader)"
   ]
  },
  {
   "cell_type": "code",
   "execution_count": 37,
   "metadata": {},
   "outputs": [
    {
     "name": "stdout",
     "output_type": "stream",
     "text": [
      "0\n",
      "loss: 2.555711  [    0/60000]\n",
      "loss: 0.481470  [19200/60000]\n",
      "loss: 0.278392  [38400/60000]\n",
      "loss: 0.304796  [57600/60000]\n",
      "1\n",
      "loss: 0.267878  [    0/60000]\n",
      "loss: 0.287578  [19200/60000]\n",
      "loss: 0.473209  [38400/60000]\n",
      "loss: 0.323865  [57600/60000]\n",
      "2\n",
      "loss: 0.252256  [    0/60000]\n",
      "loss: 0.121283  [19200/60000]\n",
      "loss: 0.359607  [38400/60000]\n",
      "loss: 0.158434  [57600/60000]\n",
      "Accuracy: 0.901900\n"
     ]
    }
   ],
   "source": [
    "model = get_model()\n",
    "optimizer = SGDOptimizer(model.parameters(), lr=1e-3, mom=.9)\n",
    "train(model, training_dataloader, optimizer, 3)\n",
    "test(model, testing_dataloader)"
   ]
  }
 ],
 "metadata": {
  "kernelspec": {
   "display_name": "Python 3",
   "language": "python",
   "name": "python3"
  },
  "language_info": {
   "codemirror_mode": {
    "name": "ipython",
    "version": 3
   },
   "file_extension": ".py",
   "mimetype": "text/x-python",
   "name": "python",
   "nbconvert_exporter": "python",
   "pygments_lexer": "ipython3",
   "version": "3.7.6"
  }
 },
 "nbformat": 4,
 "nbformat_minor": 4
}
