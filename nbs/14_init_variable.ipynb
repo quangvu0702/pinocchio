{
 "cells": [
  {
   "cell_type": "code",
   "execution_count": 6,
   "source": [
    "import torch; torch.__version__"
   ],
   "outputs": [
    {
     "output_type": "execute_result",
     "data": {
      "text/plain": [
       "'1.7.0'"
      ]
     },
     "metadata": {},
     "execution_count": 6
    }
   ],
   "metadata": {}
  },
  {
   "cell_type": "code",
   "execution_count": 27,
   "source": [
    "def normalize(x):\n",
    "    x = (x - x.mean()) / x.std()\n",
    "    return x\n",
    "\n",
    "def show_stats(x):\n",
    "    print(f\"mean {x.mean()}, var {x.var()}\")"
   ],
   "outputs": [],
   "metadata": {}
  },
  {
   "cell_type": "code",
   "execution_count": 36,
   "source": [
    "# inital value with mean 0 and variance 1\n",
    "x = torch.randn((5,100))\n",
    "show_stats(x)"
   ],
   "outputs": [
    {
     "output_type": "stream",
     "name": "stdout",
     "text": [
      "mean 0.03743870183825493, var 0.9078378081321716\n"
     ]
    }
   ],
   "metadata": {}
  },
  {
   "cell_type": "code",
   "execution_count": 40,
   "source": [
    "x = torch.randn((5,100))\n",
    "show_stats(x)\n",
    "for _ in range(100): x = x@torch.randn(100, 100)\n",
    "show_stats(x)\n",
    "# what does happen here? the number is too large."
   ],
   "outputs": [
    {
     "output_type": "stream",
     "name": "stdout",
     "text": [
      "mean -0.044438596814870834, var 1.0013803243637085\n",
      "mean nan, var nan\n"
     ]
    }
   ],
   "metadata": {}
  },
  {
   "cell_type": "code",
   "execution_count": 59,
   "source": [
    "x = torch.randn((5,100))\n",
    "show_stats(x)\n",
    "x = x@ (torch.randn(100, 100) * 0.1)\n",
    "show_stats(x)"
   ],
   "outputs": [
    {
     "output_type": "stream",
     "name": "stdout",
     "text": [
      "mean 0.06444118916988373, var 0.9826703071594238\n",
      "mean -0.04397384077310562, var 0.9705567955970764\n"
     ]
    }
   ],
   "metadata": {}
  },
  {
   "cell_type": "code",
   "execution_count": 66,
   "source": [
    "x = torch.randn((10,100))\n",
    "show_stats(x)\n",
    "for _ in range(100): x = x@ (torch.randn(100, 100) * 0.01)\n",
    "show_stats(x)\n",
    "# if weights are too small, all number in deeper layers go to zeros."
   ],
   "outputs": [
    {
     "output_type": "stream",
     "name": "stdout",
     "text": [
      "mean 0.0013801021268591285, var 0.9993589520454407\n",
      "mean 0.0, var 0.0\n"
     ]
    }
   ],
   "metadata": {}
  },
  {
   "cell_type": "code",
   "execution_count": 68,
   "source": [
    "x = torch.randn((10,100))\n",
    "show_stats(x)\n",
    "for _ in range(100): x = x@ (torch.randn(100, 100) * 0.1)\n",
    "show_stats(x)"
   ],
   "outputs": [
    {
     "output_type": "stream",
     "name": "stdout",
     "text": [
      "mean 0.009399848990142345, var 0.9129796028137207\n",
      "mean 0.001977393636479974, var 0.28145459294319153\n"
     ]
    }
   ],
   "metadata": {}
  },
  {
   "cell_type": "code",
   "execution_count": 72,
   "source": [
    "x = torch.randn((5,100))\n",
    "show_stats(x)\n",
    "for _ in range(50): x = torch.nn.ReLU()(x@ (torch.randn(100, 100) * 0.1))\n",
    "show_stats(x)\n",
    "# intial too small so the mean and std of last layer will go to zero."
   ],
   "outputs": [
    {
     "output_type": "stream",
     "name": "stdout",
     "text": [
      "mean 0.03861618787050247, var 1.0013974905014038\n",
      "mean 4.477078263676049e-09, var 4.1607360173707153e-17\n"
     ]
    }
   ],
   "metadata": {}
  },
  {
   "cell_type": "code",
   "execution_count": 99,
   "source": [
    "import math\n",
    "x = torch.randn((5,100))\n",
    "show_stats(x)\n",
    "for _ in range(50): x = torch.nn.ReLU()(x@ (torch.randn(100, 100) * math.sqrt(2.0/100)))\n",
    "show_stats(x)\n",
    "# not bad!\n"
   ],
   "outputs": [
    {
     "output_type": "stream",
     "name": "stdout",
     "text": [
      "mean 0.03289929777383804, var 0.9381896257400513\n",
      "mean 0.169600248336792, var 0.0657072439789772\n"
     ]
    }
   ],
   "metadata": {}
  }
 ],
 "metadata": {
  "orig_nbformat": 4,
  "language_info": {
   "name": "python",
   "version": "3.6.10",
   "mimetype": "text/x-python",
   "codemirror_mode": {
    "name": "ipython",
    "version": 3
   },
   "pygments_lexer": "ipython3",
   "nbconvert_exporter": "python",
   "file_extension": ".py"
  },
  "kernelspec": {
   "name": "python3",
   "display_name": "Python 3.6.10 64-bit ('samwell': conda)"
  },
  "interpreter": {
   "hash": "60ba4aafa20d668f76212e1b57158d4f6ea4305eb74b28aa6dec647267ce0f8a"
  }
 },
 "nbformat": 4,
 "nbformat_minor": 2
}