{
 "cells": [
  {
   "cell_type": "code",
   "execution_count": 1,
   "metadata": {},
   "outputs": [
    {
     "data": {
      "text/plain": [
       "'cuda'"
      ]
     },
     "execution_count": 1,
     "metadata": {},
     "output_type": "execute_result"
    }
   ],
   "source": [
    "import torch\n",
    "device = 'cuda' if torch.cuda.is_available() else 'cpu'\n",
    "device"
   ]
  },
  {
   "cell_type": "code",
   "execution_count": 2,
   "metadata": {},
   "outputs": [
    {
     "data": {
      "text/plain": [
       "(torch.Size([60000, 28, 28]), torch.Size([10000, 28, 28]))"
      ]
     },
     "execution_count": 2,
     "metadata": {},
     "output_type": "execute_result"
    }
   ],
   "source": [
    "# 1.a Dataset\n",
    "from torchvision import datasets\n",
    "from torchvision.transforms import ToTensor\n",
    "\n",
    "training_data = datasets.FashionMNIST(\n",
    "    root=\"data\",\n",
    "    train=True,\n",
    "    download=True,\n",
    "    transform=ToTensor())\n",
    "\n",
    "testing_data = datasets.FashionMNIST(\n",
    "    root=\"data\",\n",
    "    train=False,\n",
    "    download=True,\n",
    "    transform=ToTensor())\n",
    "\n",
    "training_data.data.shape, testing_data.data.shape"
   ]
  },
  {
   "cell_type": "code",
   "execution_count": 3,
   "metadata": {},
   "outputs": [
    {
     "data": {
      "text/plain": [
       "(torch.Size([64, 1, 28, 28]), torch.Size([64]))"
      ]
     },
     "execution_count": 3,
     "metadata": {},
     "output_type": "execute_result"
    }
   ],
   "source": [
    "# 1.b DataLoader\n",
    "from torch.utils.data import DataLoader\n",
    "\n",
    "training_dataloader = DataLoader(training_data, 64, shuffle=True)\n",
    "testing_dataloader = DataLoader(testing_data, 64, shuffle=False)\n",
    "\n",
    "X, y = next(iter(training_dataloader))\n",
    "X.shape, y.shape"
   ]
  },
  {
   "cell_type": "code",
   "execution_count": 4,
   "metadata": {},
   "outputs": [],
   "source": [
    "cuda_X, cuda_y = X.to(device), y.to(device)"
   ]
  },
  {
   "cell_type": "code",
   "execution_count": 5,
   "metadata": {},
   "outputs": [
    {
     "name": "stdout",
     "output_type": "stream",
     "text": [
      "torch.Size([64, 1, 28, 28]) torch.Size([64, 10])\n"
     ]
    }
   ],
   "source": [
    "# play with conv layer\n",
    "from torch import nn\n",
    "\n",
    "# build a conv layer with basic parameter\n",
    "# n input channel, n output feature, ks:kenel size, act:activate\n",
    "def conv(ni, nf, ks=3, stride=1, act=True):\n",
    "    layers = [nn.Conv2d(ni, nf, stride=stride, kernel_size=ks, padding=ks//2)]\n",
    "    layers.append(nn.BatchNorm2d(nf))\n",
    "    if act: layers.append(nn.ReLU())\n",
    "    res = nn.Sequential(*layers)\n",
    "    return res\n",
    "\n",
    "def block(ni, nf): return conv(ni, nf)\n",
    "\n",
    "# get model from block\n",
    "def get_model():\n",
    "    return nn.Sequential(\n",
    "            block(1,16),   #14x14\n",
    "            block(16,32),  #7x7\n",
    "            block(32, 64), #4x4\n",
    "            block(64, 128),#2x2\n",
    "            block(128,256),#1x1\n",
    "            nn.AdaptiveAvgPool2d(1),\n",
    "            nn.Flatten(),\n",
    "            nn.Linear(256, 10)).to(device)\n",
    "\n",
    "model = get_model()\n",
    "print(X.shape, model(X.to(device)).shape)"
   ]
  },
  {
   "cell_type": "code",
   "execution_count": 6,
   "metadata": {},
   "outputs": [],
   "source": [
    "y_hat = model(X.to(device))"
   ]
  },
  {
   "cell_type": "code",
   "execution_count": 7,
   "metadata": {},
   "outputs": [],
   "source": [
    "# 3. Loss\n",
    "loss_fn = nn.CrossEntropyLoss()\n",
    "\n",
    "loss = loss_fn(y_hat, y.to(device))\n",
    "\n",
    "loss.backward()"
   ]
  },
  {
   "cell_type": "code",
   "execution_count": 8,
   "metadata": {},
   "outputs": [],
   "source": [
    "# 4. Optimizer SGD\n",
    "from torch.optim import SGD"
   ]
  },
  {
   "cell_type": "code",
   "execution_count": 20,
   "metadata": {},
   "outputs": [],
   "source": [
    "# Learning rate finder:\n",
    "import matplotlib.pyplot as plt\n",
    "\n",
    "def learning_rate_finder(model, dataloader, cut_off=3):\n",
    "    lr = 1e-6\n",
    "    lrs = []\n",
    "    losses = []\n",
    "    optimizer = SGD(model.parameters(), lr=lr)\n",
    "\n",
    "    for X, y in dataloader:\n",
    "        X, y = X.to(device), y.to(device)\n",
    "        y_hat = model(X)\n",
    "        loss = loss_fn(y_hat, y)\n",
    "        lrs.append(optimizer.param_groups[0]['lr'])\n",
    "        losses.append(loss.item())\n",
    "        loss.backward()\n",
    "        optimizer.step()\n",
    "        optimizer.zero_grad()\n",
    "        # update lr\n",
    "        optimizer.param_groups[0]['lr'] *= 1.1\n",
    "        if optimizer.param_groups[0]['lr'] > 1: break\n",
    "    plt.xscale('log')\n",
    "    plt.plot(lrs[0:-cut_off], losses[0:-cut_off])\n",
    "    plt.show()"
   ]
  },
  {
   "cell_type": "code",
   "execution_count": 21,
   "metadata": {},
   "outputs": [],
   "source": [
    "model = get_model().to(device)"
   ]
  },
  {
   "cell_type": "code",
   "execution_count": 22,
   "metadata": {},
   "outputs": [
    {
     "name": "stdout",
     "output_type": "stream",
     "text": [
      "145\n"
     ]
    },
    {
     "data": {
      "image/png": "[encoded data removed]",
      "text/plain": [
       "<Figure size 432x288 with 1 Axes>"
      ]
     },
     "metadata": {
      "needs_background": "light"
     },
     "output_type": "display_data"
    }
   ],
   "source": [
    "learning_rate_finder(model, training_dataloader)"
   ]
  },
  {
   "cell_type": "code",
   "execution_count": 13,
   "metadata": {},
   "outputs": [
    {
     "name": "stdout",
     "output_type": "stream",
     "text": [
      "loss: 6.322217  [    0/60000]\n",
      "loss: 1.490482  [19200/60000]\n",
      "loss: 1.155929  [38400/60000]\n",
      "loss: 0.969711  [57600/60000]\n",
      "loss: 0.963188  [    0/60000]\n",
      "loss: 0.688603  [19200/60000]\n",
      "loss: 0.746929  [38400/60000]\n",
      "loss: 0.846988  [57600/60000]\n"
     ]
    }
   ],
   "source": [
    "# 5. Combine things together:\n",
    "# train model\n",
    "def train(model, dataloader, optimizer, epochs=2):\n",
    "    size = len(dataloader.dataset)\n",
    "    for epoch in range(epochs):\n",
    "        for batch, (X, y) in enumerate(dataloader):\n",
    "            X, y = X.to(device), y.to(device)\n",
    "            y_hat = model(X)\n",
    "            loss = loss_fn(y_hat, y)\n",
    "\n",
    "            # backward\n",
    "            loss.backward()\n",
    "            optimizer.step()\n",
    "            optimizer.zero_grad()\n",
    "\n",
    "            if batch % 300 == 0:\n",
    "                loss, current = loss.item(), batch * len(X)\n",
    "                print(f\"loss: {loss:>7f}  [{current:>5d}/{size:>5d}]\")\n",
    "\n",
    "# learning_rate_finder(model, training_dataloader)\n",
    "optimizer = SGD(model.parameters(), lr=1e-2)\n",
    "train(model, training_dataloader, optimizer)"
   ]
  },
  {
   "cell_type": "code",
   "execution_count": null,
   "metadata": {},
   "outputs": [],
   "source": []
  },
  {
   "cell_type": "code",
   "execution_count": 14,
   "metadata": {},
   "outputs": [
    {
     "name": "stdout",
     "output_type": "stream",
     "text": [
      "Accuracy: 0.740700\n"
     ]
    }
   ],
   "source": [
    "def test(model, testing_dataloader):\n",
    "    size = len(testing_dataloader.dataset)\n",
    "    total = 0\n",
    "    for X, y in testing_dataloader:\n",
    "        X, y = X.to(device), y.to(device)\n",
    "        y_hat = model(X)\n",
    "        total += sum(y_hat.argmax(1) == y).item()\n",
    "    print(f'Accuracy: {total/size:>2f}')\n",
    "    \n",
    "test(model, testing_dataloader)"
   ]
  },
  {
   "cell_type": "code",
   "execution_count": 15,
   "metadata": {},
   "outputs": [
    {
     "name": "stdout",
     "output_type": "stream",
     "text": [
      "loss: 2.307364  [    0/60000]\n",
      "loss: 1.250921  [19200/60000]\n",
      "loss: 1.038132  [38400/60000]\n",
      "loss: 0.951336  [57600/60000]\n",
      "loss: 0.951028  [    0/60000]\n",
      "loss: 0.804053  [19200/60000]\n",
      "loss: 0.642646  [38400/60000]\n",
      "loss: 0.778798  [57600/60000]\n",
      "loss: 0.668624  [    0/60000]\n",
      "loss: 0.727460  [19200/60000]\n",
      "loss: 0.512934  [38400/60000]\n",
      "loss: 0.604623  [57600/60000]\n",
      "loss: 0.429797  [    0/60000]\n",
      "loss: 0.400999  [19200/60000]\n",
      "loss: 0.446318  [38400/60000]\n",
      "loss: 0.512685  [57600/60000]\n",
      "loss: 0.562962  [    0/60000]\n",
      "loss: 0.392147  [19200/60000]\n",
      "loss: 0.433248  [38400/60000]\n",
      "loss: 0.498035  [57600/60000]\n",
      "loss: 0.431864  [    0/60000]\n",
      "loss: 0.448343  [19200/60000]\n",
      "loss: 0.420028  [38400/60000]\n",
      "loss: 0.388215  [57600/60000]\n",
      "loss: 0.530158  [    0/60000]\n",
      "loss: 0.522580  [19200/60000]\n",
      "loss: 0.479356  [38400/60000]\n",
      "loss: 0.403045  [57600/60000]\n",
      "loss: 0.306167  [    0/60000]\n",
      "loss: 0.568193  [19200/60000]\n",
      "loss: 0.401648  [38400/60000]\n",
      "loss: 0.347534  [57600/60000]\n",
      "loss: 0.415871  [    0/60000]\n",
      "loss: 0.359491  [19200/60000]\n",
      "loss: 0.214182  [38400/60000]\n",
      "loss: 0.555329  [57600/60000]\n",
      "loss: 0.419900  [    0/60000]\n",
      "loss: 0.329525  [19200/60000]\n",
      "loss: 0.300034  [38400/60000]\n",
      "loss: 0.377648  [57600/60000]\n",
      "Accuracy: 0.864800\n"
     ]
    }
   ],
   "source": [
    "# Base-line models:\n",
    "model = get_model()\n",
    "optimizer = SGD(model.parameters(), lr=1e-2)\n",
    "train(model, training_dataloader, optimizer, 10)\n",
    "test(model, testing_dataloader)\n",
    "# 0.887400"
   ]
  },
  {
   "cell_type": "code",
   "execution_count": 24,
   "metadata": {},
   "outputs": [],
   "source": [
    "from IPython.core.debugger import set_trace\n",
    "\n",
    "def noop(x):\n",
    "    return x\n",
    "\n",
    "# ResnetBlock\n",
    "class ResnetBlock(nn.Module):\n",
    "    def __init__(self, ni, nf, stride=2):\n",
    "        super(ResnetBlock, self).__init__()\n",
    "        self.convs = nn.Sequential(\n",
    "                        conv(ni, nf),\n",
    "                        conv(nf, nf, stride=stride, act=False))\n",
    "        self.pool = noop if stride == 1 else nn.AvgPool2d(stride, ceil_mode=True)\n",
    "        self.idconv = noop if ni == nf else conv(ni, nf, ks=1, act=False)\n",
    "    def forward(self, x):\n",
    "        return nn.ReLU()(self.convs(x) + self.idconv(self.pool(x)))"
   ]
  },
  {
   "cell_type": "code",
   "execution_count": 30,
   "metadata": {},
   "outputs": [
    {
     "name": "stdout",
     "output_type": "stream",
     "text": [
      "loss: 2.409477  [    0/60000]\n",
      "loss: 0.809506  [19200/60000]\n",
      "loss: 0.488903  [38400/60000]\n",
      "loss: 0.443032  [57600/60000]\n",
      "loss: 0.361572  [    0/60000]\n",
      "loss: 0.437329  [19200/60000]\n",
      "loss: 0.404649  [38400/60000]\n",
      "loss: 0.398841  [57600/60000]\n",
      "loss: 0.519046  [    0/60000]\n",
      "loss: 0.281683  [19200/60000]\n",
      "loss: 0.342593  [38400/60000]\n",
      "loss: 0.493653  [57600/60000]\n",
      "loss: 0.337458  [    0/60000]\n",
      "loss: 0.395097  [19200/60000]\n",
      "loss: 0.325945  [38400/60000]\n",
      "loss: 0.330187  [57600/60000]\n",
      "loss: 0.285656  [    0/60000]\n",
      "loss: 0.358407  [19200/60000]\n",
      "loss: 0.268115  [38400/60000]\n",
      "loss: 0.427586  [57600/60000]\n",
      "loss: 0.375046  [    0/60000]\n",
      "loss: 0.356660  [19200/60000]\n",
      "loss: 0.359474  [38400/60000]\n",
      "loss: 0.307111  [57600/60000]\n",
      "loss: 0.370927  [    0/60000]\n",
      "loss: 0.354159  [19200/60000]\n",
      "loss: 0.379436  [38400/60000]\n",
      "loss: 0.226016  [57600/60000]\n",
      "loss: 0.220839  [    0/60000]\n",
      "loss: 0.316794  [19200/60000]\n",
      "loss: 0.088350  [38400/60000]\n",
      "loss: 0.167319  [57600/60000]\n",
      "loss: 0.214590  [    0/60000]\n",
      "loss: 0.139217  [19200/60000]\n",
      "loss: 0.181270  [38400/60000]\n",
      "loss: 0.148717  [57600/60000]\n",
      "loss: 0.319890  [    0/60000]\n",
      "loss: 0.170815  [19200/60000]\n",
      "loss: 0.369604  [38400/60000]\n",
      "loss: 0.171955  [57600/60000]\n",
      "Accuracy: 0.887300\n"
     ]
    }
   ],
   "source": [
    "# Resnet block\n",
    "def block(ni, nf): return ResnetBlock(ni, nf)\n",
    "model = get_model()\n",
    "# learning_rate_finder(model, training_dataloader) # 1e-3\n",
    "optimizer = SGD(model.parameters(), lr=1e-3)\n",
    "train(model, training_dataloader, optimizer, 10)\n",
    "test(model, testing_dataloader)\n",
    "# 0.893100"
   ]
  },
  {
   "cell_type": "code",
   "execution_count": 31,
   "metadata": {},
   "outputs": [
    {
     "name": "stdout",
     "output_type": "stream",
     "text": [
      "loss: 2.326237  [    0/60000]\n",
      "loss: 0.752521  [19200/60000]\n",
      "loss: 0.475189  [38400/60000]\n",
      "loss: 0.560834  [57600/60000]\n",
      "loss: 0.423104  [    0/60000]\n",
      "loss: 0.659659  [19200/60000]\n",
      "loss: 0.550457  [38400/60000]\n",
      "loss: 0.425709  [57600/60000]\n",
      "loss: 0.387782  [    0/60000]\n",
      "loss: 0.268971  [19200/60000]\n",
      "loss: 0.318121  [38400/60000]\n",
      "loss: 0.335748  [57600/60000]\n",
      "loss: 0.192609  [    0/60000]\n",
      "loss: 0.423895  [19200/60000]\n",
      "loss: 0.377841  [38400/60000]\n",
      "loss: 0.137894  [57600/60000]\n",
      "loss: 0.258547  [    0/60000]\n",
      "loss: 0.187302  [19200/60000]\n",
      "loss: 0.222946  [38400/60000]\n",
      "loss: 0.316030  [57600/60000]\n",
      "loss: 0.204746  [    0/60000]\n",
      "loss: 0.297774  [19200/60000]\n",
      "loss: 0.235617  [38400/60000]\n",
      "loss: 0.170636  [57600/60000]\n",
      "loss: 0.174542  [    0/60000]\n",
      "loss: 0.406716  [19200/60000]\n",
      "loss: 0.166058  [38400/60000]\n",
      "loss: 0.146371  [57600/60000]\n",
      "loss: 0.201122  [    0/60000]\n",
      "loss: 0.238349  [19200/60000]\n",
      "loss: 0.093672  [38400/60000]\n",
      "loss: 0.130995  [57600/60000]\n",
      "loss: 0.070526  [    0/60000]\n",
      "loss: 0.111807  [19200/60000]\n",
      "loss: 0.213318  [38400/60000]\n",
      "loss: 0.187961  [57600/60000]\n",
      "loss: 0.305241  [    0/60000]\n",
      "loss: 0.208500  [19200/60000]\n",
      "loss: 0.251607  [38400/60000]\n",
      "loss: 0.084477  [57600/60000]\n",
      "Accuracy: 0.882300\n"
     ]
    }
   ],
   "source": [
    "# stack block\n",
    "def block(ni, nf): return nn.Sequential(ResnetBlock(ni, nf), ResnetBlock(nf, nf, stride=1))\n",
    "model = get_model()\n",
    "# learning_rate_finder(model, training_dataloader) # 1e-3\n",
    "optimizer = SGD(model.parameters(), lr=1e-3)\n",
    "train(model, training_dataloader, optimizer, 10)\n",
    "test(model, testing_dataloader)\n",
    "# 0.893100"
   ]
  }
 ],
 "metadata": {
  "kernelspec": {
   "display_name": "Python 3",
   "language": "python",
   "name": "python3"
  },
  "language_info": {
   "codemirror_mode": {
    "name": "ipython",
    "version": 3
   },
   "file_extension": ".py",
   "mimetype": "text/x-python",
   "name": "python",
   "nbconvert_exporter": "python",
   "pygments_lexer": "ipython3",
   "version": "3.6.10"
  }
 },
 "nbformat": 4,
 "nbformat_minor": 4
}
