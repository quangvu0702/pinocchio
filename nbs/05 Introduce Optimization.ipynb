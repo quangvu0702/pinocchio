{
 "cells": [
  {
   "cell_type": "code",
   "execution_count": 1,
   "metadata": {},
   "outputs": [],
   "source": [
    "# 1. Dataset, DataLoader\n",
    "# 2. Model\n",
    "# 3. Loss\n",
    "# 4. Optimizer"
   ]
  },
  {
   "cell_type": "code",
   "execution_count": 2,
   "metadata": {},
   "outputs": [
    {
     "data": {
      "text/plain": [
       "(torch.Size([60000, 28, 28]), torch.Size([10000, 28, 28]))"
      ]
     },
     "execution_count": 2,
     "metadata": {},
     "output_type": "execute_result"
    }
   ],
   "source": [
    "# 1.a Dataset\n",
    "from torchvision import datasets\n",
    "from torchvision.transforms import ToTensor\n",
    "\n",
    "training_data = datasets.FashionMNIST(\n",
    "    root=\"data\",\n",
    "    train=True,\n",
    "    download=True,\n",
    "    transform=ToTensor())\n",
    "\n",
    "testing_data = datasets.FashionMNIST(\n",
    "    root=\"data\",\n",
    "    train=False,\n",
    "    download=True,\n",
    "    transform=ToTensor())\n",
    "\n",
    "training_data.data.shape, testing_data.data.shape"
   ]
  },
  {
   "cell_type": "code",
   "execution_count": 3,
   "metadata": {},
   "outputs": [
    {
     "data": {
      "text/plain": [
       "(torch.Size([64, 1, 28, 28]), torch.Size([64]))"
      ]
     },
     "execution_count": 3,
     "metadata": {},
     "output_type": "execute_result"
    }
   ],
   "source": [
    "# 1.b DataLoader\n",
    "from torch.utils.data import DataLoader\n",
    "\n",
    "training_dataloader = DataLoader(training_data, 64, shuffle=True)\n",
    "testing_dataloader = DataLoader(testing_data, 64, shuffle=False)\n",
    "\n",
    "X, y = next(iter(training_dataloader))\n",
    "X.shape, y.shape"
   ]
  },
  {
   "cell_type": "code",
   "execution_count": 4,
   "metadata": {},
   "outputs": [],
   "source": [
    "# 2. Model\n",
    "from torch import nn\n",
    "\n",
    "# This is simple model that take input -> linear -> relu -> linear -> output.\n",
    "class LinearModel(nn.Module):\n",
    "    def __init__(self):\n",
    "        super(LinearModel, self).__init__()\n",
    "        self.model = nn.Sequential(\n",
    "            nn.Flatten(),\n",
    "            nn.Linear(28 * 28, 100),\n",
    "            nn.ReLU(),\n",
    "            nn.Linear(100, 10),\n",
    "            nn.ReLU())\n",
    "    def forward(self, x):\n",
    "        out = self.model(x)\n",
    "        return out\n",
    "model = LinearModel()\n",
    "\n",
    "y_hat = model(X)"
   ]
  },
  {
   "cell_type": "code",
   "execution_count": 5,
   "metadata": {},
   "outputs": [],
   "source": [
    "# 3. Loss\n",
    "loss_fn = nn.CrossEntropyLoss()\n",
    "\n",
    "loss = loss_fn(y_hat, y)\n",
    "\n",
    "loss.backward()"
   ]
  },
  {
   "cell_type": "code",
   "execution_count": 6,
   "metadata": {},
   "outputs": [],
   "source": [
    "# 4. Optimizer SGD\n",
    "from torch.optim import SGD\n",
    "\n",
    "lr = 0.001\n",
    "optimizer = SGD(model.parameters(), lr)"
   ]
  },
  {
   "cell_type": "code",
   "execution_count": 7,
   "metadata": {},
   "outputs": [
    {
     "name": "stdout",
     "output_type": "stream",
     "text": [
      "loss: 2.308181  [    0/60000]\n",
      "loss: 2.229337  [19200/60000]\n",
      "loss: 2.205912  [38400/60000]\n",
      "loss: 2.195541  [57600/60000]\n",
      "loss: 2.190738  [    0/60000]\n",
      "loss: 2.018688  [19200/60000]\n",
      "loss: 1.915945  [38400/60000]\n",
      "loss: 1.930671  [57600/60000]\n",
      "loss: 1.896908  [    0/60000]\n",
      "loss: 1.883524  [19200/60000]\n",
      "loss: 1.794088  [38400/60000]\n",
      "loss: 1.577187  [57600/60000]\n",
      "loss: 1.677914  [    0/60000]\n",
      "loss: 1.632509  [19200/60000]\n",
      "loss: 1.543742  [38400/60000]\n",
      "loss: 1.473006  [57600/60000]\n",
      "loss: 1.550810  [    0/60000]\n",
      "loss: 1.537076  [19200/60000]\n",
      "loss: 1.510127  [38400/60000]\n",
      "loss: 1.406873  [57600/60000]\n",
      "loss: 1.561509  [    0/60000]\n",
      "loss: 1.575962  [19200/60000]\n",
      "loss: 1.450021  [38400/60000]\n",
      "loss: 1.369262  [57600/60000]\n",
      "loss: 1.469433  [    0/60000]\n",
      "loss: 1.482930  [19200/60000]\n",
      "loss: 1.458911  [38400/60000]\n",
      "loss: 1.233172  [57600/60000]\n",
      "loss: 1.375724  [    0/60000]\n",
      "loss: 1.175986  [19200/60000]\n",
      "loss: 1.366483  [38400/60000]\n",
      "loss: 1.140404  [57600/60000]\n",
      "loss: 1.473560  [    0/60000]\n",
      "loss: 1.239009  [19200/60000]\n",
      "loss: 1.345066  [38400/60000]\n",
      "loss: 1.406347  [57600/60000]\n",
      "loss: 1.207600  [    0/60000]\n",
      "loss: 1.585109  [19200/60000]\n",
      "loss: 1.347312  [38400/60000]\n",
      "loss: 1.284618  [57600/60000]\n"
     ]
    }
   ],
   "source": [
    "# 5. Combine things together:\n",
    "# train model\n",
    "epochs = 10\n",
    "size = len(training_dataloader.dataset)\n",
    "for epoch in range(epochs):\n",
    "    for batch, (X, y) in enumerate(training_dataloader):\n",
    "        y_hat = model(X)\n",
    "        loss = loss_fn(y_hat, y)\n",
    "\n",
    "        # backward\n",
    "        loss.backward()\n",
    "        optimizer.step()\n",
    "        optimizer.zero_grad()\n",
    "        \n",
    "        if batch % 300 == 0:\n",
    "            loss, current = loss.item(), batch * len(X)\n",
    "            print(f\"loss: {loss:>7f}  [{current:>5d}/{size:>5d}]\")"
   ]
  },
  {
   "cell_type": "code",
   "execution_count": 23,
   "metadata": {},
   "outputs": [
    {
     "data": {
      "text/plain": [
       "14"
      ]
     },
     "execution_count": 23,
     "metadata": {},
     "output_type": "execute_result"
    }
   ],
   "source": [
    "# Test model\n",
    "y_hat.shape, y.shape\n",
    "total = 0\n",
    "total += sum(y_hat.argmax(1) == y).item()\n",
    "total"
   ]
  },
  {
   "cell_type": "code",
   "execution_count": 26,
   "metadata": {},
   "outputs": [
    {
     "name": "stdout",
     "output_type": "stream",
     "text": [
      "Accuracy: 0.552500\n"
     ]
    }
   ],
   "source": [
    "epochs = 10\n",
    "size = len(testing_dataloader.dataset)\n",
    "total = 0\n",
    "for X, y in testing_dataloader:\n",
    "    y_hat = model(X)\n",
    "    total += sum(y_hat.argmax(1) == y).item()\n",
    "print(f'Accuracy: {total/size:>2f}')"
   ]
  }
 ],
 "metadata": {
  "kernelspec": {
   "display_name": "Python 3",
   "language": "python",
   "name": "python3"
  },
  "language_info": {
   "codemirror_mode": {
    "name": "ipython",
    "version": 3
   },
   "file_extension": ".py",
   "mimetype": "text/x-python",
   "name": "python",
   "nbconvert_exporter": "python",
   "pygments_lexer": "ipython3",
   "version": "3.6.10"
  }
 },
 "nbformat": 4,
 "nbformat_minor": 4
}
