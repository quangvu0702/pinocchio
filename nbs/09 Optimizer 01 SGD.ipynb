{
 "cells": [
  {
   "cell_type": "code",
   "execution_count": 1,
   "metadata": {},
   "outputs": [
    {
     "data": {
      "text/plain": [
       "'cuda'"
      ]
     },
     "execution_count": 1,
     "metadata": {},
     "output_type": "execute_result"
    }
   ],
   "source": [
    "import torch\n",
    "device = 'cuda' if torch.cuda.is_available() else 'cpu'\n",
    "device"
   ]
  },
  {
   "cell_type": "code",
   "execution_count": 2,
   "metadata": {},
   "outputs": [
    {
     "data": {
      "text/plain": [
       "(torch.Size([60000, 28, 28]), torch.Size([10000, 28, 28]))"
      ]
     },
     "execution_count": 2,
     "metadata": {},
     "output_type": "execute_result"
    }
   ],
   "source": [
    "# 1.a Dataset\n",
    "from torchvision import datasets\n",
    "from torchvision.transforms import ToTensor\n",
    "\n",
    "training_data = datasets.FashionMNIST(\n",
    "    root=\"data\",\n",
    "    train=True,\n",
    "    download=True,\n",
    "    transform=ToTensor())\n",
    "\n",
    "testing_data = datasets.FashionMNIST(\n",
    "    root=\"data\",\n",
    "    train=False,\n",
    "    download=True,\n",
    "    transform=ToTensor())\n",
    "\n",
    "training_data.data.shape, testing_data.data.shape"
   ]
  },
  {
   "cell_type": "code",
   "execution_count": 3,
   "metadata": {},
   "outputs": [
    {
     "data": {
      "text/plain": [
       "(torch.Size([64, 1, 28, 28]), torch.Size([64]))"
      ]
     },
     "execution_count": 3,
     "metadata": {},
     "output_type": "execute_result"
    }
   ],
   "source": [
    "# 1.b DataLoader\n",
    "from torch.utils.data import DataLoader\n",
    "\n",
    "training_dataloader = DataLoader(training_data, 64, shuffle=True)\n",
    "testing_dataloader = DataLoader(testing_data, 64, shuffle=False)\n",
    "\n",
    "X, y = next(iter(training_dataloader))\n",
    "X.shape, y.shape"
   ]
  },
  {
   "cell_type": "code",
   "execution_count": 4,
   "metadata": {},
   "outputs": [],
   "source": [
    "cuda_X, cuda_y = X.to(device), y.to(device)"
   ]
  },
  {
   "cell_type": "code",
   "execution_count": 5,
   "metadata": {},
   "outputs": [],
   "source": [
    "# play with conv layer\n",
    "from torch import nn\n",
    "\n",
    "# build a conv layer with basic parameter\n",
    "# n input channel, n output feature, ks:kenel size, act:activate\n",
    "def conv(ni, nf, ks=3, stride=1, act=True):\n",
    "    layers = [nn.Conv2d(ni, nf, stride=stride, kernel_size=ks, padding=ks//2)]\n",
    "    layers.append(nn.BatchNorm2d(nf))\n",
    "    if act: layers.append(nn.ReLU())\n",
    "    res = nn.Sequential(*layers)\n",
    "    return res\n",
    "\n",
    "def block(ni, nf): return conv(ni, nf)\n",
    "\n",
    "# get model from block\n",
    "def get_model():\n",
    "    return nn.Sequential(\n",
    "            block(1,16),   #14x14\n",
    "            block(16,32),  #7x7\n",
    "            block(32, 64), #4x4\n",
    "            block(64, 128),#2x2\n",
    "            block(128,256),#1x1\n",
    "            nn.AdaptiveAvgPool2d(1),\n",
    "            nn.Flatten(),\n",
    "            nn.Linear(256, 10)).to(device)"
   ]
  },
  {
   "cell_type": "code",
   "execution_count": 6,
   "metadata": {},
   "outputs": [],
   "source": [
    "# Learning rate finder:\n",
    "import matplotlib.pyplot as plt\n",
    "\n",
    "def learning_rate_finder(model, dataloader, opt=None, cut_off=3):\n",
    "    lr = 1e-6\n",
    "    lrs = []\n",
    "    losses = []\n",
    "    optimizer = opt(model.parameters(), lr=lr)\n",
    "\n",
    "    for X, y in dataloader:\n",
    "        X, y = X.to(device), y.to(device)\n",
    "        y_hat = model(X)\n",
    "        loss = loss_fn(y_hat, y)\n",
    "        lrs.append(optimizer.param_groups[0]['lr'])\n",
    "        losses.append(loss.item())\n",
    "        loss.backward()\n",
    "        optimizer.step()\n",
    "        optimizer.zero_grad()\n",
    "        # update lr\n",
    "        optimizer.param_groups[0]['lr'] *= 1.1\n",
    "        if optimizer.param_groups[0]['lr'] > 1: break\n",
    "    plt.xscale('log')\n",
    "    plt.plot(lrs[0:-cut_off], losses[0:-cut_off])\n",
    "    plt.show()"
   ]
  },
  {
   "cell_type": "code",
   "execution_count": 7,
   "metadata": {},
   "outputs": [],
   "source": [
    "# 5. Combine things together:\n",
    "# train model\n",
    "def train(model, dataloader, opt=None, epochs=2):\n",
    "    size = len(dataloader.dataset)\n",
    "    for epoch in range(epochs):\n",
    "        print(epoch)\n",
    "        for batch, (X, y) in enumerate(dataloader):\n",
    "            X, y = X.to(device), y.to(device)\n",
    "            y_hat = model(X)\n",
    "            loss = loss_fn(y_hat, y)\n",
    "\n",
    "            # backward\n",
    "            loss.backward()\n",
    "            opt.step()\n",
    "            opt.zero_grad()\n",
    "\n",
    "            if batch % 300 == 0:\n",
    "                loss, current = loss.item(), batch * len(X)\n",
    "                print(f\"loss: {loss:>7f}  [{current:>5d}/{size:>5d}]\")\n",
    "\n",
    "# learning_rate_finder(model, training_dataloader)\n",
    "# optimizer = SGD(model.parameters(), lr=1e-2)\n",
    "# train(model, training_dataloader, optimizer)"
   ]
  },
  {
   "cell_type": "code",
   "execution_count": 8,
   "metadata": {},
   "outputs": [],
   "source": [
    "def test(model, testing_dataloader):\n",
    "    size = len(testing_dataloader.dataset)\n",
    "    total = 0\n",
    "    for X, y in testing_dataloader:\n",
    "        X, y = X.to(device), y.to(device)\n",
    "        y_hat = model(X)\n",
    "        total += sum(y_hat.argmax(1) == y).item()\n",
    "    print(f'Accuracy: {total/size:>2f}')\n",
    "    \n",
    "# test(model, testing_dataloader)"
   ]
  },
  {
   "cell_type": "code",
   "execution_count": 9,
   "metadata": {},
   "outputs": [],
   "source": [
    "from IPython.core.debugger import set_trace\n",
    "\n",
    "def noop(x):\n",
    "    return x\n",
    "\n",
    "# ResnetBlock\n",
    "class ResnetBlock(nn.Module):\n",
    "    def __init__(self, ni, nf, stride=2):\n",
    "        super(ResnetBlock, self).__init__()\n",
    "        self.convs = nn.Sequential(\n",
    "                        conv(ni, nf),\n",
    "                        conv(nf, nf, stride=stride, act=False))\n",
    "        self.pool = noop if stride == 1 else nn.AvgPool2d(stride, ceil_mode=True)\n",
    "        self.idconv = noop if ni == nf else conv(ni, nf, ks=1, act=False)\n",
    "    def forward(self, x):\n",
    "        return nn.ReLU()(self.convs(x) + self.idconv(self.pool(x)))"
   ]
  },
  {
   "cell_type": "code",
   "execution_count": 10,
   "metadata": {},
   "outputs": [],
   "source": [
    "# Resnet block\n",
    "def block(ni, nf): return ResnetBlock(ni, nf)\n",
    "# model = get_model()\n",
    "# learning_rate_finder(model, training_dataloader) # 1e-3\n",
    "# optimizer = SGD(model.parameters(), lr=1e-3)\n",
    "# train(model, training_dataloader, optimizer, 3)\n",
    "# test(model, testing_dataloader)\n",
    "# 0.893100"
   ]
  },
  {
   "cell_type": "code",
   "execution_count": 11,
   "metadata": {},
   "outputs": [],
   "source": [
    "class SGDOptimizer():\n",
    "    def __init__(self, params, lr):\n",
    "        self.params = list(params)\n",
    "        self.param_groups = [{}]\n",
    "        self.param_groups[0]['lr'] = lr\n",
    "    \n",
    "    def zero_grad(self):\n",
    "        for p in self.params:\n",
    "            p.grad.detach_()\n",
    "            p.grad.zero_()\n",
    "#             set_trace()\n",
    "    def step(self):\n",
    "        for p in self.params:\n",
    "            p.data -= self.param_groups[0]['lr'] * p.grad.data"
   ]
  },
  {
   "cell_type": "code",
   "execution_count": 12,
   "metadata": {},
   "outputs": [
    {
     "data": {
      "image/png": "[encoded data removed]",
      "text/plain": [
       "<Figure size 432x288 with 1 Axes>"
      ]
     },
     "metadata": {
      "needs_background": "light"
     },
     "output_type": "display_data"
    }
   ],
   "source": [
    "# Train model:\n",
    "model = get_model()\n",
    "loss_fn = nn.CrossEntropyLoss()\n",
    "learning_rate_finder(model, training_dataloader, opt=SGDOptimizer) # 3e-3"
   ]
  },
  {
   "cell_type": "code",
   "execution_count": 13,
   "metadata": {},
   "outputs": [
    {
     "name": "stdout",
     "output_type": "stream",
     "text": [
      "0\n",
      "loss: 3.128979  [    0/60000]\n",
      "loss: 1.918266  [19200/60000]\n",
      "loss: 1.429815  [38400/60000]\n",
      "loss: 1.378567  [57600/60000]\n",
      "1\n",
      "loss: 1.284411  [    0/60000]\n",
      "loss: 1.268117  [19200/60000]\n",
      "loss: 1.008147  [38400/60000]\n",
      "loss: 0.803052  [57600/60000]\n",
      "2\n",
      "loss: 1.139974  [    0/60000]\n",
      "loss: 0.922920  [19200/60000]\n",
      "loss: 0.760528  [38400/60000]\n",
      "loss: 0.748547  [57600/60000]\n",
      "Accuracy: 0.707400\n"
     ]
    }
   ],
   "source": [
    "optimizer = SGDOptimizer(model.parameters(), lr=3e-3)\n",
    "train(model, training_dataloader, optimizer, 3)\n",
    "test(model, testing_dataloader)"
   ]
  }
 ],
 "metadata": {
  "kernelspec": {
   "display_name": "Python 3",
   "language": "python",
   "name": "python3"
  },
  "language_info": {
   "codemirror_mode": {
    "name": "ipython",
    "version": 3
   },
   "file_extension": ".py",
   "mimetype": "text/x-python",
   "name": "python",
   "nbconvert_exporter": "python",
   "pygments_lexer": "ipython3",
   "version": "3.6.10"
  }
 },
 "nbformat": 4,
 "nbformat_minor": 4
}
