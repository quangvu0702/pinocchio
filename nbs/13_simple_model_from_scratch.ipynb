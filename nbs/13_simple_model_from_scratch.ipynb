{
 "cells": [
  {
   "cell_type": "code",
   "execution_count": 1,
   "source": [
    "## Matmul"
   ],
   "outputs": [],
   "metadata": {}
  },
  {
   "cell_type": "code",
   "execution_count": 2,
   "source": [
    "import torch\n",
    "from exp.nb_12 import test_eq, test_close"
   ],
   "outputs": [],
   "metadata": {}
  },
  {
   "cell_type": "code",
   "execution_count": 3,
   "source": [
    "a = torch.rand((5, 28 * 28))\n",
    "b = torch.rand((28 * 28, 10))\n",
    "a.shape, b.shape"
   ],
   "outputs": [
    {
     "output_type": "execute_result",
     "data": {
      "text/plain": [
       "(torch.Size([5, 784]), torch.Size([784, 10]))"
      ]
     },
     "metadata": {},
     "execution_count": 3
    }
   ],
   "metadata": {}
  },
  {
   "cell_type": "code",
   "execution_count": 4,
   "source": [
    "%time c = torch.matmul(a,b); c.shape"
   ],
   "outputs": [
    {
     "output_type": "stream",
     "name": "stdout",
     "text": [
      "CPU times: user 436 µs, sys: 54 µs, total: 490 µs\n",
      "Wall time: 276 µs\n"
     ]
    },
    {
     "output_type": "execute_result",
     "data": {
      "text/plain": [
       "torch.Size([5, 10])"
      ]
     },
     "metadata": {},
     "execution_count": 4
    }
   ],
   "metadata": {}
  },
  {
   "cell_type": "code",
   "execution_count": 5,
   "source": [
    "c = torch.zeros((5, 10)); c.shape"
   ],
   "outputs": [
    {
     "output_type": "execute_result",
     "data": {
      "text/plain": [
       "torch.Size([5, 10])"
      ]
     },
     "metadata": {},
     "execution_count": 5
    }
   ],
   "metadata": {}
  },
  {
   "cell_type": "code",
   "execution_count": 6,
   "source": [
    "def mat_mul(a, b):\n",
    "    c = torch.zeros((5, 10)); c.shape\n",
    "    ar, ac = a.shape; ar, ac\n",
    "    br, bc = b.shape\n",
    "    test_eq(ac, br)\n",
    "    for i in range(0, ar):\n",
    "        for k in range(0, bc):\n",
    "            for j in range(0, ac): c[i,k] += a[i, j] * b[j, k]\n",
    "    return c\n",
    "\n",
    "%time c = mat_mul(a,b)"
   ],
   "outputs": [
    {
     "output_type": "stream",
     "name": "stdout",
     "text": [
      "CPU times: user 588 ms, sys: 0 ns, total: 588 ms\n",
      "Wall time: 587 ms\n"
     ]
    }
   ],
   "metadata": {}
  },
  {
   "cell_type": "code",
   "execution_count": 7,
   "source": [
    "test_close(mat_mul(a,b), torch.matmul(a,b))"
   ],
   "outputs": [],
   "metadata": {}
  },
  {
   "cell_type": "code",
   "execution_count": 8,
   "source": [
    "def mat_mul_v2(a, b):\n",
    "    c = torch.zeros((5, 10)); c.shape\n",
    "    ar, ac = a.shape; ar, ac\n",
    "    br, bc = b.shape\n",
    "    test_eq(ac, br)\n",
    "    for i in range(0, ar):\n",
    "        for k in range(0, bc): c[i,k] = (a[i, :] * b[:, k]).sum()\n",
    "    return c\n",
    "\n",
    "%time c = mat_mul_v2(a, b)\n",
    "test_close(mat_mul_v2(a,b), torch.matmul(a,b))"
   ],
   "outputs": [
    {
     "output_type": "stream",
     "name": "stdout",
     "text": [
      "CPU times: user 2.06 ms, sys: 96 µs, total: 2.16 ms\n",
      "Wall time: 1.56 ms\n"
     ]
    }
   ],
   "metadata": {}
  },
  {
   "cell_type": "code",
   "execution_count": 9,
   "source": [
    "def mat_mul_v3(a, b):\n",
    "    c = torch.zeros((5, 10)); c.shape\n",
    "    ar, ac = a.shape; ar, ac\n",
    "    br, bc = b.shape\n",
    "    test_eq(ac, br)\n",
    "    for i in range(0, ar): c[i] = (b * a[i].unsqueeze(1)).sum(0)\n",
    "    return c\n",
    "\n",
    "%time c = mat_mul_v3(a, b)\n",
    "test_close(mat_mul_v3(a,b), torch.matmul(a,b))"
   ],
   "outputs": [
    {
     "output_type": "stream",
     "name": "stdout",
     "text": [
      "CPU times: user 1.33 ms, sys: 0 ns, total: 1.33 ms\n",
      "Wall time: 705 µs\n"
     ]
    }
   ],
   "metadata": {}
  },
  {
   "cell_type": "code",
   "execution_count": null,
   "source": [],
   "outputs": [],
   "metadata": {}
  }
 ],
 "metadata": {
  "orig_nbformat": 4,
  "language_info": {
   "name": "python",
   "version": "3.6.10",
   "mimetype": "text/x-python",
   "codemirror_mode": {
    "name": "ipython",
    "version": 3
   },
   "pygments_lexer": "ipython3",
   "nbconvert_exporter": "python",
   "file_extension": ".py"
  },
  "kernelspec": {
   "name": "python3",
   "display_name": "Python 3.6.10 64-bit ('samwell': conda)"
  },
  "interpreter": {
   "hash": "60ba4aafa20d668f76212e1b57158d4f6ea4305eb74b28aa6dec647267ce0f8a"
  }
 },
 "nbformat": 4,
 "nbformat_minor": 2
}